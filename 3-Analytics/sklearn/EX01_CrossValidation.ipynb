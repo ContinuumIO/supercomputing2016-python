{
 "cells": [
  {
   "cell_type": "markdown",
   "metadata": {},
   "source": [
    "# Table of Contents\n",
    "* [Classification Exercise](#Classification-Exercise)\n"
   ]
  },
  {
   "cell_type": "markdown",
   "metadata": {},
   "source": [
    "After completion of this module, learners should be able to:\n",
    "\n",
    "* Be aware of the range of facilities in scikit-learn.\n",
    "* Apply classifiers, such as K-nearest neighbor, logistic regression, decision tree, and linear discriminant analysis."
   ]
  },
  {
   "cell_type": "markdown",
   "metadata": {},
   "source": [
    "# Classification Exercise"
   ]
  },
  {
   "cell_type": "markdown",
   "metadata": {},
   "source": [
    "1. Experiment with `make_gaussian_quantiles` to generate some data:\n",
    "\n",
    "http://scikit-learn.org/stable/modules/generated/sklearn.datasets.make_gaussian_quantiles.html\n",
    "\n",
    "  2. It turns out that the wine dataset at mldata is broken.  Here's is how you can grab it directly from UCI (it will be downloaded to wine.csv in your local directory):\n",
    "\n",
    "```python\n",
    "import urllib\n",
    "url = 'https://archive.ics.uci.edu/ml/machine-learning-databases/wine/wine.data'\n",
    "urllib.request.urlretrieve(url, 'data/wine.csv')\n",
    "tbl = np.genfromtxt('data/wine.csv', delimiter=\",\")\n",
    "classes = tbl[:,0]\n",
    "examples = tbl[:,1:]\n",
    "```"
   ]
  },
  {
   "cell_type": "markdown",
   "metadata": {},
   "source": [
    "Pick two classifiers from `sklearn` (a partial list is given below) and compare their performance on your random dataset and the wine dataset. Use manual train/test splitting and KFold cross validation methods.\n",
    "\n",
    "\n",
    "```python\n",
    "from sklearn.neighbors import KNeighborsClassifier\n",
    "from sklearn.svm import SVC\n",
    "from sklearn.tree import DecisionTreeClassifier\n",
    "from sklearn.ensemble import RandomForestClassifier, AdaBoostClassifier\n",
    "from sklearn.naive_bayes import GaussianNB\n",
    "from sklearn.qda import QDA\n",
    "from sklearn.lda import LDA\n",
    "classifiers = [\n",
    "    KNeighborsClassifier(3),\n",
    "    SVC(kernel=\"linear\", C=0.025),\n",
    "    SVC(gamma=2, C=1),\n",
    "    DecisionTreeClassifier(max_depth=5),\n",
    "    RandomForestClassifier(max_depth=5, n_estimators=10, max_features=1), # ftrs @ split\n",
    "    AdaBoostClassifier(),\n",
    "    GaussianNB(),\n",
    "    LDA(),\n",
    "    QDA()]\n",
    "```"
   ]
  },
  {
   "cell_type": "code",
   "execution_count": null,
   "metadata": {
    "collapsed": true
   },
   "outputs": [],
   "source": [
    "import numpy as np\n",
    "import pandas as pd\n",
    "import matplotlib.pyplot as plt\n",
    "from sklearn import (cross_validation, datasets,\n",
    "                     decomposition,\n",
    "                     grid_search, linear_model, \n",
    "                     neighbors, metrics)\n",
    "%matplotlib inline"
   ]
  },
  {
   "cell_type": "code",
   "execution_count": null,
   "metadata": {
    "collapsed": true
   },
   "outputs": [],
   "source": []
  }
 ],
 "metadata": {
  "continuum": {
   "depends": [
    "ml_kfold",
    "ml_knn"
   ],
   "requires": [
    "data/wine.csv"
   ],
   "tag": "ml_ex_cv"
  },
  "kernelspec": {
   "display_name": "Python 3",
   "language": "python",
   "name": "python3"
  },
  "language_info": {
   "codemirror_mode": {
    "name": "ipython",
    "version": 3
   },
   "file_extension": ".py",
   "mimetype": "text/x-python",
   "name": "python",
   "nbconvert_exporter": "python",
   "pygments_lexer": "ipython3",
   "version": "3.4.3"
  }
 },
 "nbformat": 4,
 "nbformat_minor": 0
}
