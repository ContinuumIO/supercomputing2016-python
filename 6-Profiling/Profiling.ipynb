{
 "cells": [
  {
   "cell_type": "markdown",
   "metadata": {},
   "source": [
    "# Profiling Tricks in Jupyter"
   ]
  },
  {
   "cell_type": "code",
   "execution_count": 1,
   "metadata": {
    "collapsed": false
   },
   "outputs": [],
   "source": [
    "import numpy as np"
   ]
  },
  {
   "cell_type": "code",
   "execution_count": 2,
   "metadata": {
    "collapsed": true
   },
   "outputs": [],
   "source": [
    "def filter_bad_values_try1(values, lower, upper):\n",
    "    good = []\n",
    "    for v in values:\n",
    "        if lower < v < upper:\n",
    "            good.append(v)\n",
    "    return np.array(good)"
   ]
  },
  {
   "cell_type": "code",
   "execution_count": 3,
   "metadata": {
    "collapsed": true
   },
   "outputs": [],
   "source": [
    "def filter_bad_values_try4(values, lower, upper):\n",
    "    selector_lower = lower < values\n",
    "    selector_upper = values < upper\n",
    "    selector = selector_lower & selector_upper\n",
    "    return values[selector]"
   ]
  },
  {
   "cell_type": "code",
   "execution_count": 4,
   "metadata": {
    "collapsed": false
   },
   "outputs": [
    {
     "name": "stdout",
     "output_type": "stream",
     "text": [
      "500065\n",
      "500065\n"
     ]
    }
   ],
   "source": [
    "a = np.random.uniform(-2000, 2000, 1000000)\n",
    "print(len(filter_bad_values_try1(a, -1000, 1000)))\n",
    "print(len(filter_bad_values_try4(a, -1000, 1000)))"
   ]
  },
  {
   "cell_type": "markdown",
   "metadata": {},
   "source": [
    "## %time"
   ]
  },
  {
   "cell_type": "code",
   "execution_count": 5,
   "metadata": {
    "collapsed": false
   },
   "outputs": [
    {
     "name": "stdout",
     "output_type": "stream",
     "text": [
      "CPU times: user 620 ms, sys: 10.3 ms, total: 630 ms\n",
      "Wall time: 629 ms\n",
      "CPU times: user 8.75 ms, sys: 1.17 ms, total: 9.91 ms\n",
      "Wall time: 9.79 ms\n"
     ]
    },
    {
     "data": {
      "text/plain": [
       "array([ 450.2143654 , -948.85901315, -293.47172022, ..., -775.49455528,\n",
       "       -986.98275299,  601.84069558])"
      ]
     },
     "execution_count": 5,
     "metadata": {},
     "output_type": "execute_result"
    }
   ],
   "source": [
    "%time filter_bad_values_try1(a, -1000, 1000)\n",
    "%time filter_bad_values_try4(a, -1000, 1000)"
   ]
  },
  {
   "cell_type": "markdown",
   "metadata": {},
   "source": [
    "## %timeit"
   ]
  },
  {
   "cell_type": "code",
   "execution_count": 6,
   "metadata": {
    "collapsed": false
   },
   "outputs": [
    {
     "name": "stdout",
     "output_type": "stream",
     "text": [
      "100 loops, best of 3: 8.82 ms per loop\n"
     ]
    }
   ],
   "source": [
    "%timeit filter_bad_values_try4(a, -1000, 1000)"
   ]
  },
  {
   "cell_type": "markdown",
   "metadata": {},
   "source": [
    "## %%prun - Profile a cell with cProfile"
   ]
  },
  {
   "cell_type": "code",
   "execution_count": 7,
   "metadata": {
    "collapsed": false
   },
   "outputs": [
    {
     "name": "stdout",
     "output_type": "stream",
     "text": [
      " "
     ]
    }
   ],
   "source": [
    "%%prun \n",
    "b = np.random.uniform(-2000, 2000, 1000000)\n",
    "filter_bad_values_try1(b, -1000, 1000)\n",
    "filter_bad_values_try4(b, -1000, 1000)"
   ]
  },
  {
   "cell_type": "markdown",
   "metadata": {},
   "source": [
    "## %lprun - Profile line execution with line_profiler"
   ]
  },
  {
   "cell_type": "code",
   "execution_count": 8,
   "metadata": {
    "collapsed": false
   },
   "outputs": [
    {
     "name": "stdout",
     "output_type": "stream",
     "text": [
      "Requirement already up-to-date: line_profiler in /Users/stan/anaconda/envs/sc2016/lib/python3.5/site-packages\n",
      "Requirement already up-to-date: IPython>=0.13 in /Users/stan/anaconda/envs/sc2016/lib/python3.5/site-packages (from line_profiler)\n"
     ]
    }
   ],
   "source": [
    "!pip install --upgrade line_profiler"
   ]
  },
  {
   "cell_type": "code",
   "execution_count": 9,
   "metadata": {
    "collapsed": false
   },
   "outputs": [],
   "source": [
    "%load_ext line_profiler"
   ]
  },
  {
   "cell_type": "code",
   "execution_count": 10,
   "metadata": {
    "collapsed": false
   },
   "outputs": [],
   "source": [
    "%lprun -f filter_bad_values_try1 filter_bad_values_try1(a, -1000, 1000)"
   ]
  },
  {
   "cell_type": "code",
   "execution_count": null,
   "metadata": {
    "collapsed": true
   },
   "outputs": [],
   "source": []
  }
 ],
 "metadata": {
  "anaconda-cloud": {},
  "kernelspec": {
   "display_name": "Python [conda env:sc2016]",
   "language": "python",
   "name": "conda-env-sc2016-py"
  },
  "language_info": {
   "codemirror_mode": {
    "name": "ipython",
    "version": 3
   },
   "file_extension": ".py",
   "mimetype": "text/x-python",
   "name": "python",
   "nbconvert_exporter": "python",
   "pygments_lexer": "ipython3",
   "version": "3.5.2"
  }
 },
 "nbformat": 4,
 "nbformat_minor": 1
}
