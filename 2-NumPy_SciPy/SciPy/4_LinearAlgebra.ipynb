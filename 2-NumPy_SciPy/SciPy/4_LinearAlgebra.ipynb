{
 "cells": [
  {
   "cell_type": "markdown",
   "metadata": {},
   "source": [
    "# Table of Contents\n",
    "* [Learning Objectives:](#Learning-Objectives:)\n",
    "* [Linear algebra](#Linear-algebra)\n",
    "\t* [Linear equation systems](#Linear-equation-systems)\n",
    "\t* [Eigenvalues and eigenvectors](#Eigenvalues-and-eigenvectors)\n",
    "\t* [Matrix operations](#Matrix-operations)\n",
    "\t\t* [A matrix algebra example with feed forward/backward chemical reactors](#A-matrix-algebra-example-with-feed-forward/backward-chemical-reactors)\n",
    "\t* [Sparse matrices](#Sparse-matrices)\n"
   ]
  },
  {
   "cell_type": "markdown",
   "metadata": {},
   "source": [
    "# Learning Objectives:"
   ]
  },
  {
   "cell_type": "markdown",
   "metadata": {},
   "source": [
    "After completion of this module, learners should be able to:\n",
    "\n",
    "* explain and use standard Python numerical functions for dense and sparse linear algebra"
   ]
  },
  {
   "cell_type": "markdown",
   "metadata": {},
   "source": [
    "# Linear algebra"
   ]
  },
  {
   "cell_type": "markdown",
   "metadata": {},
   "source": [
    "The linear algebra module contains a lot of matrix-related functions, including linear equation solving, eigenvalue solvers, matrix functions (for example matrix-exponentiation), a number of different decompositions (SVD, LU, cholesky), etc. \n",
    "\n",
    "Detailed documetation is available at: http://docs.scipy.org/doc/scipy/reference/linalg.html\n",
    "\n",
    "Here we will look at how to use some of these functions:\n"
   ]
  },
  {
   "cell_type": "code",
   "execution_count": null,
   "metadata": {
    "collapsed": false
   },
   "outputs": [],
   "source": [
    "import numpy as np\n",
    "import scipy.linalg as la\n",
    "from scipy import Inf"
   ]
  },
  {
   "cell_type": "markdown",
   "metadata": {},
   "source": [
    "## Linear equation systems"
   ]
  },
  {
   "cell_type": "markdown",
   "metadata": {},
   "source": [
    "Linear equation systems on the matrix form\n",
    "\n",
    "$A x = b$\n",
    "\n",
    "where $A$ is a matrix and $x,b$ are vectors can be solved like:"
   ]
  },
  {
   "cell_type": "code",
   "execution_count": null,
   "metadata": {
    "collapsed": false
   },
   "outputs": [],
   "source": [
    "A = np.array([[1,2,3], [4,5,6], [7,8,9]])\n",
    "b = np.array([1,2,3])"
   ]
  },
  {
   "cell_type": "code",
   "execution_count": null,
   "metadata": {
    "collapsed": false
   },
   "outputs": [],
   "source": [
    "x = la.solve(A, b)\n",
    "x"
   ]
  },
  {
   "cell_type": "code",
   "execution_count": null,
   "metadata": {
    "collapsed": false
   },
   "outputs": [],
   "source": [
    "# check\n",
    "np.dot(A, x) - b"
   ]
  },
  {
   "cell_type": "markdown",
   "metadata": {},
   "source": [
    "We can also do the same with\n",
    "\n",
    "$A X = B$\n",
    "\n",
    "where $A, B, X$ are matrices:"
   ]
  },
  {
   "cell_type": "code",
   "execution_count": null,
   "metadata": {
    "collapsed": false
   },
   "outputs": [],
   "source": [
    "A = np.random.rand(3,3)\n",
    "B = np.random.rand(3,3)\n",
    "vsep='\\n'+'-'*30+'\\n'\n",
    "print(A,end=vsep)\n",
    "print(B)"
   ]
  },
  {
   "cell_type": "code",
   "execution_count": null,
   "metadata": {
    "collapsed": false
   },
   "outputs": [],
   "source": [
    "X = la.solve(A, B)"
   ]
  },
  {
   "cell_type": "code",
   "execution_count": null,
   "metadata": {
    "collapsed": false
   },
   "outputs": [],
   "source": [
    "X"
   ]
  },
  {
   "cell_type": "code",
   "execution_count": null,
   "metadata": {
    "collapsed": false
   },
   "outputs": [],
   "source": [
    "# check\n",
    "la.norm(np.dot(A, X) - B)"
   ]
  },
  {
   "cell_type": "markdown",
   "metadata": {},
   "source": [
    "## Eigenvalues and eigenvectors"
   ]
  },
  {
   "cell_type": "markdown",
   "metadata": {},
   "source": [
    "The eigenvalue problem for a matrix $A$:\n",
    "\n",
    "$\\displaystyle A v_n = \\lambda_n v_n$\n",
    "\n",
    "where $v_n$ is the $n$th eigenvector and $\\lambda_n$ is the $n$th eigenvalue.\n",
    "\n",
    "To calculate eigenvalues of a matrix, use the `eigvals` and for calculating both eigenvalues and eigenvectors, use the function `eig`:"
   ]
  },
  {
   "cell_type": "code",
   "execution_count": null,
   "metadata": {
    "collapsed": false
   },
   "outputs": [],
   "source": [
    "evals = la.eigvals(A)"
   ]
  },
  {
   "cell_type": "code",
   "execution_count": null,
   "metadata": {
    "collapsed": false
   },
   "outputs": [],
   "source": [
    "evals"
   ]
  },
  {
   "cell_type": "code",
   "execution_count": null,
   "metadata": {
    "collapsed": false
   },
   "outputs": [],
   "source": [
    "evals, evecs = la.eig(A)"
   ]
  },
  {
   "cell_type": "code",
   "execution_count": null,
   "metadata": {
    "collapsed": false
   },
   "outputs": [],
   "source": [
    "evals"
   ]
  },
  {
   "cell_type": "code",
   "execution_count": null,
   "metadata": {
    "collapsed": false
   },
   "outputs": [],
   "source": [
    "evecs"
   ]
  },
  {
   "cell_type": "markdown",
   "metadata": {},
   "source": [
    "The eigenvectors corresponding to the $n$th eigenvalue (stored in `evals[n]`) is the $n$th *column* in `evecs`, i.e., `evecs[:,n]`. To verify this, let's try mutiplying eigenvectors with the matrix and compare to the product of the eigenvector and the eigenvalue:"
   ]
  },
  {
   "cell_type": "code",
   "execution_count": null,
   "metadata": {
    "collapsed": false
   },
   "outputs": [],
   "source": [
    "n = 1\n",
    "la.norm(np.dot(A, evecs[:,n]) - evals[n] * evecs[:,n])"
   ]
  },
  {
   "cell_type": "markdown",
   "metadata": {},
   "source": [
    "There are also more specialized eigensolvers, like the `eigh` for Hermitian matrices. Hermitian matrices are matricies with complex elements where the i-th,j-th element is equal to the complex conjugate of the j-th,i-th element, analagous to a symetric matrix for real values."
   ]
  },
  {
   "cell_type": "markdown",
   "metadata": {},
   "source": [
    "## Matrix operations"
   ]
  },
  {
   "cell_type": "code",
   "execution_count": null,
   "metadata": {
    "collapsed": false
   },
   "outputs": [],
   "source": [
    "# the matrix inverse\n",
    "la.inv(A)"
   ]
  },
  {
   "cell_type": "code",
   "execution_count": null,
   "metadata": {
    "collapsed": false
   },
   "outputs": [],
   "source": [
    "# determinant\n",
    "la.det(A)"
   ]
  },
  {
   "cell_type": "code",
   "execution_count": null,
   "metadata": {
    "collapsed": false
   },
   "outputs": [],
   "source": [
    "# norms of various orders\n",
    "la.norm(A, ord=2), la.norm(A, ord=Inf)"
   ]
  },
  {
   "cell_type": "code",
   "execution_count": null,
   "metadata": {
    "collapsed": false
   },
   "outputs": [],
   "source": [
    "# a 2 norm is Euclidean distance of a vector: sqrt(sum of squares of array)\n",
    "# a 1 norm is city-block distance in a vector: (sum of absolute value array)\n",
    "# demonstrating a 3-norm on a vector:\n",
    "x=np.random.normal(0, 10, 100)\n",
    "n = la.norm(x, ord=3)\n",
    "n2 = np.sum(np.abs(x**3))**(1 / 3.0)\n",
    "print('should be ca. zero',  n - n2)"
   ]
  },
  {
   "cell_type": "markdown",
   "metadata": {},
   "source": [
    "### A matrix algebra example with feed forward/backward chemical reactors"
   ]
  },
  {
   "cell_type": "markdown",
   "metadata": {},
   "source": [
    "The example is to use matrix algebra tools to solve the a chemical's dispersion \n",
    "and decay problem for N tanks or water bodies with flow between them, \n",
    "influent and effluent from the system and decay in each reactor.\n",
    "\n",
    "Solving a mass balance of water and a chemical, we have arrays for each of\n",
    "the following variables, and the shape of each of those is (number_of_reactors,):\n",
    "\n",
    "    v = volume of each reactor [L3/T]\n",
    "\n",
    "    m = chemical_mass in each reactor [M]\n",
    "\n",
    "    c = concentration of a chemical in each reactor [M/L3]\n",
    "\n",
    "    k = decay constant [1/T]\n",
    "\n",
    "    s = external chemical mass sources added to each reactor [M/T]\n",
    "\n",
    "    dvdt = change in volume in each reactor in time [L3/T]\n",
    "\n",
    "    dmdt = change in mass of a chemical in each reactor in time [M/T]\n",
    "\n",
    "Then we have a matrix describing the flow rates between all reactors, so\n",
    "it's size is (number_of_reactors, number_of_reactors), a connectivity matrix.\n",
    "\n",
    "    q = flow rate matrix of reactor to reactor [V/T] (constant density here)\n",
    "\n",
    "Expressions for the derivatives numerically:\n",
    "\n",
    "    dmdt = dot(q, c) - k * c * v + s     \n",
    "    \n",
    "    dvdt = np.sum(q, axis=1)\n",
    "\n",
    "Update:\n",
    "\n",
    "    m += dmdt * dt\n",
    "    \n",
    "    v += dvdt * dt\n",
    "\n",
    "    c = m / v\n",
    "\n",
    "This is sometimes called a continuously stirred tank reactor problem because\n",
    "concentrations within each reactor are assumed spatially uniform."
   ]
  },
  {
   "cell_type": "code",
   "execution_count": null,
   "metadata": {
    "collapsed": false
   },
   "outputs": [],
   "source": [
    "def tank_reactors(v, m, q=0.0, s=0.0, k=0.0, dt=1.0, steps=100, c=None, debug=False):\n",
    "    if c is None:\n",
    "        c = m / v \n",
    "    for step in range(steps):\n",
    "        dmdt = np.dot(q, c) - k * c * v + s\n",
    "        dvdt = np.sum(q, axis=1) \n",
    "        v += dvdt * dt\n",
    "        m += dmdt * dt\n",
    "        c = m / v\n",
    "    return v, m, c"
   ]
  },
  {
   "cell_type": "markdown",
   "metadata": {
    "collapsed": false
   },
   "source": [
    "If you do not have bokeh installed in your conda environment run\n",
    "```\n",
    "% conda install -y bokeh\n",
    "```"
   ]
  },
  {
   "cell_type": "code",
   "execution_count": null,
   "metadata": {
    "collapsed": false
   },
   "outputs": [],
   "source": [
    "from bokeh.io import output_notebook\n",
    "from bokeh.plotting import figure, show\n",
    "output_notebook()\n",
    "num_reactors = 5\n",
    "v = np.full((num_reactors,), 1.0)\n",
    "m = np.full((num_reactors,), 1.0)\n",
    "k = np.full((num_reactors,), 1.0)\n",
    "q = np.array([[5, -5,  0,  0,  0], # this is feedforward advection\n",
    "              [5,  0, -5,  0,  0], # this matrix keeps volume constant\n",
    "              [0,  5,  0, -5,  0],\n",
    "              [0,  0,  5,  0, -5],\n",
    "              [0,  0,  0,  5, -5],\n",
    "             ]) \n",
    "s = .1\n",
    "c = np.array([1, 0, 0, 0, 0])\n",
    "plot = figure()\n",
    "integration_steps_per_report, report_steps = 5, 100\n",
    "concentrations = np.empty((report_steps + 1, num_reactors))\n",
    "concentrations[0,:] = c\n",
    "for step in range(report_steps):\n",
    "    v, m, c = tank_reactors(v, m, q, s, k, dt=0.01, steps=integration_steps_per_report,\n",
    "                            c=c, debug=False)\n",
    "    concentrations[step + 1,:] = c\n",
    "line_colors = ['red', 'blue', 'green', 'black', 'orange']\n",
    "for lc, idx in zip(line_colors, range(num_reactors)):\n",
    "    if idx == 0:\n",
    "        label = \"0 upstream\"\n",
    "    elif idx == 4:\n",
    "        label = \"4 downstream\"\n",
    "    else:\n",
    "        label = str(idx)\n",
    "    plot.line(range(report_steps + 1), concentrations[:,idx], line_color=lc,\n",
    "              legend=label)\n",
    "show(plot)\n"
   ]
  },
  {
   "cell_type": "markdown",
   "metadata": {},
   "source": [
    "## Sparse matrices"
   ]
  },
  {
   "cell_type": "markdown",
   "metadata": {},
   "source": [
    "Sparse matrices are often useful in numerical simulations dealing with large systems, if the problem can be described in matrix form where the matrices or vectors mostly contains zeroes. Scipy has good support for sparse matrices, with basic linear algebra operations (such as equation solving, eigenvalue calculations, etc).\n",
    "\n",
    "There are many possible strategies for storing sparse matrices in an efficient way. Some of the most common are the so-called coordinate form (COO), list of list (LIL) form, and compressed-sparse column CSC (and row, CSR). Each format has advantanges and disadvantages. Most computational algorithms (equation solving, matrix-matrix multiplication, etc.) can be efficiently implemented using CSR or CSC formats, but they are not so intuitive and not so easy to initialize. Often a sparse matrix is initially created in COO or LIL format (where we can efficiently add elements to the sparse matrix data), and then converted to CSC or CSR before being used in real calculations.\n",
    "\n",
    "For more information about these sparse formats, see http://en.wikipedia.org/wiki/Sparse_matrix\n",
    "\n",
    "\n",
    "When we create a sparse matrix, we have to choose which format it should be stored in. For example: "
   ]
  },
  {
   "cell_type": "code",
   "execution_count": null,
   "metadata": {
    "collapsed": false
   },
   "outputs": [],
   "source": [
    "import scipy.sparse as sp"
   ]
  },
  {
   "cell_type": "code",
   "execution_count": null,
   "metadata": {
    "collapsed": false
   },
   "outputs": [],
   "source": [
    "# dense matrix\n",
    "M = np.array([[1,0,0,0], [0,3,0,0], [0,1,1,0], [1,0,0,1]]); M"
   ]
  },
  {
   "cell_type": "code",
   "execution_count": null,
   "metadata": {
    "collapsed": false
   },
   "outputs": [],
   "source": [
    "# convert from dense to sparse\n",
    "A = sp.csr_matrix(M); A"
   ]
  },
  {
   "cell_type": "code",
   "execution_count": null,
   "metadata": {
    "collapsed": false
   },
   "outputs": [],
   "source": [
    "# convert from sparse to dense\n",
    "A.todense()"
   ]
  },
  {
   "cell_type": "markdown",
   "metadata": {},
   "source": [
    "More efficient way to create sparse matrices: create an empty matrix and populate it using matrix indexing (avoids creating a potentially large dense matrix):"
   ]
  },
  {
   "cell_type": "code",
   "execution_count": null,
   "metadata": {
    "collapsed": false
   },
   "outputs": [],
   "source": [
    "A = sp.lil_matrix((4,4)) # empty 4x4 sparse matrix\n",
    "A[0,0] = 1\n",
    "A[1,1] = 3\n",
    "A[2,2] = A[2,1] = 1\n",
    "A[3,3] = A[3,0] = 1\n",
    "A"
   ]
  },
  {
   "cell_type": "code",
   "execution_count": null,
   "metadata": {
    "collapsed": false
   },
   "outputs": [],
   "source": [
    "A.todense()"
   ]
  },
  {
   "cell_type": "markdown",
   "metadata": {},
   "source": [
    "Converting between different sparse matrix formats:"
   ]
  },
  {
   "cell_type": "code",
   "execution_count": null,
   "metadata": {
    "collapsed": false
   },
   "outputs": [],
   "source": [
    "A"
   ]
  },
  {
   "cell_type": "code",
   "execution_count": null,
   "metadata": {
    "collapsed": false
   },
   "outputs": [],
   "source": [
    "A = sp.csr_matrix(A); A"
   ]
  },
  {
   "cell_type": "code",
   "execution_count": null,
   "metadata": {
    "collapsed": false
   },
   "outputs": [],
   "source": [
    "A = sp.csc_matrix(A); A"
   ]
  },
  {
   "cell_type": "markdown",
   "metadata": {},
   "source": [
    "We can compute with sparse matrices like we do with dense matrices:"
   ]
  },
  {
   "cell_type": "code",
   "execution_count": null,
   "metadata": {
    "collapsed": false
   },
   "outputs": [],
   "source": [
    "A.todense()"
   ]
  },
  {
   "cell_type": "code",
   "execution_count": null,
   "metadata": {
    "collapsed": false
   },
   "outputs": [],
   "source": [
    "(A * A).todense()"
   ]
  },
  {
   "cell_type": "code",
   "execution_count": null,
   "metadata": {
    "collapsed": false
   },
   "outputs": [],
   "source": [
    "try:\n",
    "    np.dot(A, A).todense()\n",
    "except ValueError as e:\n",
    "    print(repr(e))\n",
    "# numpy dot errors out with sparse matricies, but we can use the dot\n",
    "# method of sparse arrays\n",
    "A.dot(A).todense()"
   ]
  },
  {
   "cell_type": "code",
   "execution_count": null,
   "metadata": {
    "collapsed": false
   },
   "outputs": [],
   "source": [
    "v = np.array([1,2,3,4])[:,np.newaxis]; v"
   ]
  },
  {
   "cell_type": "code",
   "execution_count": null,
   "metadata": {
    "collapsed": false
   },
   "outputs": [],
   "source": [
    "# sparse matrix - dense vector multiplication\n",
    "A * v"
   ]
  },
  {
   "cell_type": "code",
   "execution_count": null,
   "metadata": {
    "collapsed": false
   },
   "outputs": [],
   "source": [
    "# same result with dense matrix - dense vector multiplcation\n",
    "A.todense() * v"
   ]
  }
 ],
 "metadata": {
  "continuum": {
   "depends": [
    "math_intro"
   ],
   "tag": "math_linalg"
  },
  "kernelspec": {
   "display_name": "Python 3",
   "language": "python",
   "name": "python3"
  },
  "language_info": {
   "codemirror_mode": {
    "name": "ipython",
    "version": 3
   },
   "file_extension": ".py",
   "mimetype": "text/x-python",
   "name": "python",
   "nbconvert_exporter": "python",
   "pygments_lexer": "ipython3",
   "version": "3.4.3"
  }
 },
 "nbformat": 4,
 "nbformat_minor": 0
}
