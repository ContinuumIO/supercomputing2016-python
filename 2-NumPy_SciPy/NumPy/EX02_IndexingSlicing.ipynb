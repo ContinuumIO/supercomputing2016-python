{
 "cells": [
  {
   "cell_type": "markdown",
   "metadata": {},
   "source": [
    "# Table of Contents\n",
    "* [Exercise: Numpy Indexing and Slicing](#Exercise:-Numpy-Indexing-and-Slicing)\n",
    "\t* [Part 1: Slicing](#Part-1:-Slicing)\n",
    "\t* [Part 2: Indexing and Assignment](#Part-2:-Indexing-and-Assignment)\n",
    "\t* [Part 3: Shift an Array](#Part-3:-Shift-an-Array)\n",
    "\t* [Part 4: Element Replacement](#Part-4:-Element-Replacement)\n",
    "* [Exercise: Optional Parts](#Exercise:-Optional-Parts)\n",
    "\t* [Optional Part 5: Replacing Rows](#Optional-Part-5:-Replacing-Rows)\n",
    "\t* [Optional Part 6: Replacing Columns](#Optional-Part-6:-Replacing-Columns)\n"
   ]
  },
  {
   "cell_type": "markdown",
   "metadata": {},
   "source": [
    "# Exercise: Numpy Indexing and Slicing"
   ]
  },
  {
   "cell_type": "code",
   "execution_count": null,
   "metadata": {
    "collapsed": true
   },
   "outputs": [],
   "source": [
    "import numpy as np"
   ]
  },
  {
   "cell_type": "markdown",
   "metadata": {},
   "source": [
    "## Part 1: Slicing"
   ]
  },
  {
   "cell_type": "markdown",
   "metadata": {},
   "source": [
    "Let a = np.arange(200)\n",
    "  1. access the last element of the array\n",
    "  1. slice all but the last element of the array\n",
    "  1. slice the last 5 elements of the array\n",
    "  1. slice the first 5 elements of the array"
   ]
  },
  {
   "cell_type": "code",
   "execution_count": null,
   "metadata": {
    "collapsed": true
   },
   "outputs": [],
   "source": [
    "# Solution 1:\n"
   ]
  },
  {
   "cell_type": "markdown",
   "metadata": {},
   "source": [
    "## Part 2: Indexing and Assignment"
   ]
  },
  {
   "cell_type": "markdown",
   "metadata": {},
   "source": [
    "Create a sample array with shape (3,4).\n",
    "  1. Using single item assignments, place your favorite number in the four corners.\n",
    "  1. Make the first column equal to -1.\n",
    "  1. Make the last row equal to 99.\n",
    "  1. Make a 2x2 block in the bottom-center contain the values .25, .5, .75, and 1.0\n",
    "  1. Replace a row with the values:  2, 4, 8, and 16."
   ]
  },
  {
   "cell_type": "code",
   "execution_count": null,
   "metadata": {
    "collapsed": true
   },
   "outputs": [],
   "source": [
    "# Solution 2:\n"
   ]
  },
  {
   "cell_type": "markdown",
   "metadata": {},
   "source": [
    "## Part 3: Shift an Array"
   ]
  },
  {
   "cell_type": "markdown",
   "metadata": {},
   "source": [
    "We used slicing to do a right shift on a 1-D array.  Do a left shift on a 1-D array."
   ]
  },
  {
   "cell_type": "code",
   "execution_count": null,
   "metadata": {
    "collapsed": true
   },
   "outputs": [],
   "source": [
    "# Solution 3:\n"
   ]
  },
  {
   "cell_type": "markdown",
   "metadata": {},
   "source": [
    "## Part 4: Element Replacement"
   ]
  },
  {
   "cell_type": "markdown",
   "metadata": {},
   "source": [
    "Can you replace every element of an array with a particular value (say, 42.0)."
   ]
  },
  {
   "cell_type": "code",
   "execution_count": null,
   "metadata": {
    "collapsed": true
   },
   "outputs": [],
   "source": [
    "# Solution 4:\n"
   ]
  },
  {
   "cell_type": "markdown",
   "metadata": {},
   "source": [
    "# Exercise: Optional Parts"
   ]
  },
  {
   "cell_type": "markdown",
   "metadata": {},
   "source": [
    "These two are more difficult.  We won't answer them now (we will revisit them in a bit), but see if you can figure them out."
   ]
  },
  {
   "cell_type": "markdown",
   "metadata": {},
   "source": [
    "## Optional Part 5: Replacing Rows"
   ]
  },
  {
   "cell_type": "markdown",
   "metadata": {},
   "source": [
    "Can you replace every row with a particular row (for example, 2, 4, 8, 16)?"
   ]
  },
  {
   "cell_type": "code",
   "execution_count": null,
   "metadata": {
    "collapsed": true
   },
   "outputs": [],
   "source": [
    "# Solution 5:\n"
   ]
  },
  {
   "cell_type": "markdown",
   "metadata": {},
   "source": [
    "## Optional Part 6: Replacing Columns"
   ]
  },
  {
   "cell_type": "markdown",
   "metadata": {},
   "source": [
    "[Don't strain yourself]  Can you replace every column with a particular column?"
   ]
  },
  {
   "cell_type": "code",
   "execution_count": null,
   "metadata": {
    "collapsed": true
   },
   "outputs": [],
   "source": [
    "# Solution 6:\n"
   ]
  }
 ],
 "metadata": {
  "continuum": {
   "depends": [
    "np_slicing",
    "np_intro",
    "ip_essentials",
    "ip_datatypes"
   ],
   "requires": [],
   "tag": "np_ex_slicing"
  },
  "kernelspec": {
   "display_name": "Python 3",
   "language": "python",
   "name": "python3"
  },
  "language_info": {
   "codemirror_mode": {
    "name": "ipython",
    "version": 3
   },
   "file_extension": ".py",
   "mimetype": "text/x-python",
   "name": "python",
   "nbconvert_exporter": "python",
   "pygments_lexer": "ipython3",
   "version": "3.4.4"
  }
 },
 "nbformat": 4,
 "nbformat_minor": 0
}
