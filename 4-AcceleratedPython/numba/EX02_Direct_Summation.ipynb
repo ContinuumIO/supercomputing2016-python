{
 "cells": [
  {
   "cell_type": "code",
   "execution_count": null,
   "metadata": {
    "collapsed": true
   },
   "outputs": [],
   "source": [
    "import numpy\n",
    "from numba import njit"
   ]
  },
  {
   "cell_type": "code",
   "execution_count": null,
   "metadata": {
    "collapsed": true
   },
   "outputs": [],
   "source": [
    "particle_dtype = numpy.dtype({'names':['x','y','z','m','phi'], \n",
    "                             'formats':[numpy.double, \n",
    "                                        numpy.double, \n",
    "                                        numpy.double, \n",
    "                                        numpy.double, \n",
    "                                        numpy.double]})"
   ]
  },
  {
   "cell_type": "markdown",
   "metadata": {},
   "source": [
    "# Exercise 1\n",
    "\n",
    "Write a function `create_n_random_particles` that takes the arguments `n` (number of particles), `m` (mass of every particle) and a domain within to generate a random number (as in the class above).\n",
    "It should create an array with `n` elements and `dtype=particle_dtype` and then return that array.\n",
    "\n",
    "For each particle, the mass should be initialized to the value of `m` and the potential `phi` initialized to zero.\n",
    "\n",
    "For the `x` component of a given particle `p`, you might do something like\n",
    "\n",
    "```python\n",
    "p['x'] = domain * numpy.random.random()\n",
    "```"
   ]
  },
  {
   "cell_type": "code",
   "execution_count": null,
   "metadata": {
    "collapsed": true
   },
   "outputs": [],
   "source": [
    "def create_n_random_particles(n, m, domain=1):\n",
    "    '''\n",
    "    Creates `n` particles with mass `m` with random coordinates\n",
    "    between 0 and `domain`\n",
    "    '''\n",
    "    parts = numpy.zeros((n), dtype=particle_dtype)\n",
    "    \n",
    "    #your code here\n",
    "\n",
    "    return parts"
   ]
  },
  {
   "cell_type": "markdown",
   "metadata": {},
   "source": [
    "Test it out!"
   ]
  },
  {
   "cell_type": "code",
   "execution_count": null,
   "metadata": {
    "collapsed": true
   },
   "outputs": [],
   "source": [
    "parts = create_n_random_particles(1000, .001, 1)"
   ]
  },
  {
   "cell_type": "markdown",
   "metadata": {},
   "source": [
    "# Exercise 2"
   ]
  },
  {
   "cell_type": "markdown",
   "metadata": {},
   "source": [
    "Write a JITted function `distance` to calculate the distance between two particles of dtype `particle_dtype`"
   ]
  },
  {
   "cell_type": "markdown",
   "metadata": {},
   "source": [
    "Here's the `distance` method from the `Particle` class as a reference:\n",
    "\n",
    "```python\n",
    "def distance(self, other):\n",
    "        return ((self.x - other.x)**2 + \n",
    "                (self.y - other.y)**2 + \n",
    "                (self.z - other.z)**2)**.5\n",
    "```"
   ]
  },
  {
   "cell_type": "code",
   "execution_count": null,
   "metadata": {
    "collapsed": true
   },
   "outputs": [],
   "source": [
    "def distance(part1, part2):\n",
    "    '''calculate the distance between two particles'''\n",
    "    \n",
    "    # your code here"
   ]
  },
  {
   "cell_type": "markdown",
   "metadata": {},
   "source": [
    "Try it out!"
   ]
  },
  {
   "cell_type": "code",
   "execution_count": null,
   "metadata": {
    "collapsed": true
   },
   "outputs": [],
   "source": [
    "distance(parts[0], parts[1])"
   ]
  },
  {
   "cell_type": "markdown",
   "metadata": {},
   "source": [
    "# Exercise 3"
   ]
  },
  {
   "cell_type": "markdown",
   "metadata": {},
   "source": [
    "Modify the original `direct_sum` function (copied below for reference) to instead work a NumPy array of particles.  Loop over each element in the array and calculate its total potential.\n",
    "\n",
    "```python\n",
    "def direct_sum(particles):\n",
    "    \"\"\"\n",
    "    Calculate the potential at each particle\n",
    "    using direct summation method.\n",
    "\n",
    "    Arguments:\n",
    "        particles: the list of particles\n",
    "\n",
    "    \"\"\"\n",
    "    for i, target in enumerate(particles):\n",
    "        for source in (particles[:i] + particles[i+1:]):\n",
    "            r = target.distance(source)\n",
    "            target.phi += source.m / r\n",
    "```"
   ]
  },
  {
   "cell_type": "code",
   "execution_count": null,
   "metadata": {
    "collapsed": true
   },
   "outputs": [],
   "source": [
    "def direct_sum(particles):\n",
    "    # take it away"
   ]
  }
 ],
 "metadata": {
  "kernelspec": {
   "display_name": "Python [conda env:python3]",
   "language": "python",
   "name": "conda-env-python3-py"
  },
  "language_info": {
   "codemirror_mode": {
    "name": "ipython",
    "version": 3
   },
   "file_extension": ".py",
   "mimetype": "text/x-python",
   "name": "python",
   "nbconvert_exporter": "python",
   "pygments_lexer": "ipython3",
   "version": "3.5.2"
  }
 },
 "nbformat": 4,
 "nbformat_minor": 0
}
