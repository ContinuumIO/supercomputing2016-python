{
 "cells": [
  {
   "cell_type": "markdown",
   "metadata": {},
   "source": [
    "# Table of Contents\n",
    "* [Learning Objectives:](#Learning-Objectives:)\n",
    "* [Which libary do I choose](#Which-libary-do-I-choose)\n",
    "* [What is Pandas?](#What-is-Pandas?)\n",
    "* [Pandas Overview](#Pandas-Overview)\n",
    "\t* [Summary](#Summary)\n",
    "\t* [Practical Use](#Practical-Use)\n",
    "\t* [Fills the Data Analysis Gap](#Fills-the-Data-Analysis-Gap)\n",
    "\t* [Data Structures](#Data-Structures)\n",
    "\t* [Fast Operations](#Fast-Operations)\n",
    "\t* [Integration with Ecosystem](#Integration-with-Ecosystem)\n",
    "* [Pandas Getting Started](#Pandas-Getting-Started)\n",
    "\t* [Documentation](#Documentation)\n",
    "\t* [Development](#Development)\n",
    "\t* [Installation](#Installation)\n",
    "* [Pandas Demonstration](#Pandas-Demonstration)\n",
    "\t* [Set-up](#Set-up)\n",
    "\t* [Data Reading](#Data-Reading)\n",
    "\t* [Data Containers](#Data-Containers)\n",
    "\t* [Data Inspection](#Data-Inspection)\n",
    "\t* [Data Indexing](#Data-Indexing)\n",
    "\t* [Data Filtering](#Data-Filtering)\n",
    "\t* [Data Statistics](#Data-Statistics)\n",
    "\t* [Data Computations](#Data-Computations)\n",
    "\t* [Data Visualization](#Data-Visualization)\n",
    "\t* [Optimization](#Optimization)\n",
    "\t\t* [pandas.pct_change()](#pandas.pct_change%28%29)\n",
    "\t\t* [pandas.rolling_std()](#pandas.rolling_std%28%29)\n",
    "* [Section Review](#Section-Review)\n"
   ]
  },
  {
   "cell_type": "markdown",
   "metadata": {},
   "source": [
    "# Learning Objectives:"
   ]
  },
  {
   "cell_type": "markdown",
   "metadata": {},
   "source": [
    "After completion of this module, learners should be able to:\n",
    "\n",
    "* Give a brief description of what pandas is to their colleagues.\n",
    "* Give a brief description of the pandas Series and DataFrame.\n",
    "* Install, upgrade, and import pandas\n",
    "* Read data from a file or the web into a DataFrame.\n",
    "* Inspect numerical data contained in a DataFrame.\n",
    "* Filter data using simple conditionals\n",
    "* Compute statistical descriptions of the data contained in a DataFrame.\n",
    "* Create visualizations of the data contained in a DataFrame."
   ]
  },
  {
   "cell_type": "markdown",
   "metadata": {},
   "source": [
    "# Which libary do I choose"
   ]
  },
  {
   "cell_type": "markdown",
   "metadata": {},
   "source": [
    "Pandas is generally a really good choice for in-memory analytics. If you are looking at > 2N dimensional data, [xarray](http://xray.readthedocs.org) might be more suitable. In addition, once you have large data and need out-of-core data analytics, or sophisticated parallelism, [dask](http://dask.readthedocs.org) could help.\n",
    "\n",
    "<img src=\"img/pydata_stack_model.png\">"
   ]
  },
  {
   "cell_type": "markdown",
   "metadata": {},
   "source": [
    "# What is Pandas?"
   ]
  },
  {
   "cell_type": "markdown",
   "metadata": {},
   "source": [
    "\n",
    "* The python data analysis library\n",
    "  > *\"Python has long been great for data munging and preparation, but less so for data analysis and modeling. pandas helps fill this gap, enabling you to carry out your entire data analysis workflow in Python\" -- pandas.pydata.org*\n",
    "* Wes McKinney, original author:\n",
    "    * started work on Pandas in 2008 while at AQR Capital Management\n",
    "    * convinced AQR to open-source pandas.\n",
    "    * provides a 10 minute tour of Pandas: [video](https://vimeo.com/59324550) and [notebook](http://nbviewer.ipython.org/urls/gist.github.com/wesm/4757075/raw/a72d3450ad4924d0e74fb57c9f62d1d895ea4574/PandasTour.ipynb)\n",
    "* More details from PyData.org:\n",
    "    * *\"high-level building block for doing practical, real world data analysis in Python.\"*\n",
    "    * *\"pandas is an open source, BSD-licensed library providing high-performance, easy-to-use data structures and data analysis tools for the Python programming language.\"*\n",
    "    * *\"provides fast, flexible, and expressive data structures designed to make working with “relational” or “labeled” data both easy and intuitive.\"*"
   ]
  },
  {
   "cell_type": "markdown",
   "metadata": {},
   "source": [
    "# Pandas Overview"
   ]
  },
  {
   "cell_type": "markdown",
   "metadata": {},
   "source": [
    "## Summary"
   ]
  },
  {
   "cell_type": "markdown",
   "metadata": {},
   "source": [
    "* ``pandas`` is widely used for doing practical data analysis\n",
    "* ``pandas`` fills a gap of convenient tools for data analysis in the python ecosystem\n",
    "* ``pandas`` is consistent, built around its own data structures\n",
    "* ``pandas`` is fast, built on numpy, but goes beyond.\n",
    "* ``pandas`` is tightly integrated with the rest of the scientific Python ecosystem"
   ]
  },
  {
   "cell_type": "markdown",
   "metadata": {},
   "source": [
    "## Practical Use"
   ]
  },
  {
   "cell_type": "markdown",
   "metadata": {},
   "source": [
    "``pandas`` is built for doing practical data analysis using Python\n",
    "* Used extensively in production in financial applications.\n",
    "* Well suited for tabular data (e.g. column data, spread-sheets, databases)\n",
    "* Can replace or integrate with Excel and SQL queries."
   ]
  },
  {
   "cell_type": "markdown",
   "metadata": {},
   "source": [
    "## Fills the Data Analysis Gap"
   ]
  },
  {
   "cell_type": "markdown",
   "metadata": {},
   "source": [
    "``pandas`` fills a gap in the Python scientific eco-system:\n",
    "* Convenient methods for **reading/writing** a large variety of file formats, e.g. Excel, HDF, SQL, CSV, etc.\n",
    "* Meaningful **labels** for quantitative and categorical data\n",
    "* Easy handling **missing data** and **NaN** (much harder to do with ``numpy`` arrays alone).\n",
    "* SQL-like methods for manipulating tabular data, such as pivot, groupby, merge/join.\n",
    "* Convenient methods for routine mathematical and **summary statistics**"
   ]
  },
  {
   "cell_type": "markdown",
   "metadata": {},
   "source": [
    "## Data Structures"
   ]
  },
  {
   "cell_type": "markdown",
   "metadata": {},
   "source": [
    "Pandas provides two primary data structures:\n",
    "* `Series` is built for 1-dimensional series data\n",
    "* `DataFrame` is built for 2-dimensional collections of tabular data\n",
    "\n",
    "These data structures differ and are related as follows:\n",
    "* **Series**: 1-dimensional array of **homogeneous** data\n",
    "* **DataFrame**: 2-dimensional table of **heterogeneous** data, composed of multiple **Series**\n",
    "\n",
    "Each of these also contains an integrated **`index`**:\n",
    "* **Series** objects include a second array called the **index** that can contain homogeneous values of any type like integers, strings or datetime objects. \n",
    "* **DataFrame** objects include a column **index**. The **index** objects allow for very sophisticated selection operations using square brackets (`[]`) along with some specialized selection functions.\n",
    "\n",
    "*side note: Pandas has another data structure called Panels which is not commonly used*"
   ]
  },
  {
   "cell_type": "markdown",
   "metadata": {},
   "source": [
    "## Fast Operations"
   ]
  },
  {
   "cell_type": "markdown",
   "metadata": {},
   "source": [
    "``pandas`` is fast, built on numpy, but goes beyond:\n",
    "* `Series` and `DataFrames` are built upon `numpy.ndarray`\n",
    "* ``pandas`` supports the same `ufunc` operations as in ``numpy``, and the same fast vectorized computations.\n",
    "* goes beyond ``numpy`` by providing elementwise string and datetime operations on indexing.\n",
    "* ``pandas`` uses and supports additional C extensions written in Cython."
   ]
  },
  {
   "cell_type": "markdown",
   "metadata": {},
   "source": [
    "## Integration with Ecosystem"
   ]
  },
  {
   "cell_type": "markdown",
   "metadata": {},
   "source": [
    "``pandas`` is tightly integrated with the rest of the scientific Python ecosystem\n",
    "* built on Numpy arrays and ufuncs\n",
    "* pandas data structures can be passed into numpy, matplotlib, and bokeh methods\n",
    "* has built-in visualization using Matplotlib\n",
    "* a dependency for Python statistics library statsmodel\n",
    "* a [NumFOCUS](http://www.numfocus.org) suported project"
   ]
  },
  {
   "cell_type": "markdown",
   "metadata": {},
   "source": [
    "# Pandas Getting Started"
   ]
  },
  {
   "cell_type": "markdown",
   "metadata": {},
   "source": [
    "## Documentation"
   ]
  },
  {
   "cell_type": "markdown",
   "metadata": {},
   "source": [
    "``pandas`` is an enormous library. We will concentrate on only a few elementary data analysis tasks using ``pandas``, but more extensive descriptions of the motivations and functionality of ``pandas`` can be found in the resources below: \n",
    "\n",
    "* [pandas.pydata.org](http://pandas.pydata.org/)\n",
    "  * [pandas documentation](http://pandas.pydata.org/pandas-docs/stable/)\n",
    "  * [10 minutes to Pandas](http://pandas.pydata.org/pandas-docs/stable/10min.html)\n",
    "  * [Cookbook at PyData](http://pandas.pydata.org/pandas-docs/stable/cookbook.html)\n",
    "* Other lessons and tutorials\n",
    "    * Julia Evans's [Pandas Cookbook on GitHub](https://github.com/jvns/pandas-cookbook)\n",
    "    * Hernan Rojas's [Learn Pandas](https://bitbucket.org/hrojas/learn-pandas)\n",
    "* [pandas for finance webinar](https://continuum-analytics.wistia.com/medias/k0aeffhbsm)"
   ]
  },
  {
   "cell_type": "markdown",
   "metadata": {},
   "source": [
    "## Development"
   ]
  },
  {
   "cell_type": "markdown",
   "metadata": {},
   "source": [
    "Get a copy of the source and contribute\n",
    "* source on github.com: https://github.com/pydata/pandas\n",
    "* documentation for current release: http://pandas.pydata.org/pandas-docs/stable/"
   ]
  },
  {
   "cell_type": "markdown",
   "metadata": {},
   "source": [
    "## Installation"
   ]
  },
  {
   "cell_type": "markdown",
   "metadata": {},
   "source": [
    "The easiest way to install pandas and its depedencies is by installing the Anaconda distribution.\n",
    "* http://pandas.pydata.org/pandas-docs/stable/install.html"
   ]
  },
  {
   "cell_type": "markdown",
   "metadata": {},
   "source": [
    "If you have not already installed Anaconda, do so, and then use the following conda command to install pandas:"
   ]
  },
  {
   "cell_type": "code",
   "execution_count": null,
   "metadata": {
    "collapsed": false
   },
   "outputs": [],
   "source": [
    "## Uncomment the following line to use conda to install pandas\n",
    "\n",
    "# !conda install -y pandas\n",
    "# !conda install -y pandas-datareader"
   ]
  },
  {
   "cell_type": "markdown",
   "metadata": {},
   "source": [
    "Test your ``pandas`` install by trying to import it: \n",
    "* the `import` should not generate an error\n",
    "* the version should be > 0.15.0"
   ]
  },
  {
   "cell_type": "code",
   "execution_count": null,
   "metadata": {
    "collapsed": false,
    "format": "row"
   },
   "outputs": [],
   "source": [
    "import pandas\n",
    "pandas.__version__"
   ]
  },
  {
   "cell_type": "markdown",
   "metadata": {},
   "source": [
    "Should you have an older version, use the following conda to upgrade pandas"
   ]
  },
  {
   "cell_type": "code",
   "execution_count": null,
   "metadata": {
    "collapsed": true
   },
   "outputs": [],
   "source": [
    "## To upgrade pandas, uncomment and run the following:\n",
    "\n",
    "# !conda install pandas=0.16.0"
   ]
  },
  {
   "cell_type": "markdown",
   "metadata": {},
   "source": [
    "Take a moment to read the docstring or use tab-complete to see what's in the library"
   ]
  },
  {
   "cell_type": "code",
   "execution_count": null,
   "metadata": {
    "collapsed": true
   },
   "outputs": [],
   "source": [
    "## To explore pandas contents, uncomment the following:\n",
    "\n",
    "# pandas.   ## press <tab>\n",
    "# pandas?   ## press <enter>"
   ]
  },
  {
   "cell_type": "markdown",
   "metadata": {},
   "source": [
    "# Pandas Demonstration"
   ]
  },
  {
   "cell_type": "markdown",
   "metadata": {},
   "source": [
    "## Set-up"
   ]
  },
  {
   "cell_type": "code",
   "execution_count": null,
   "metadata": {
    "collapsed": false
   },
   "outputs": [],
   "source": [
    "# community convention, import as \"pd\"\n",
    "import pandas as pd\n",
    "\n",
    "# to imbed plots, prevents pop-up windows for plots\n",
    "%matplotlib inline"
   ]
  },
  {
   "cell_type": "markdown",
   "metadata": {},
   "source": [
    "## Data Reading"
   ]
  },
  {
   "cell_type": "markdown",
   "metadata": {},
   "source": [
    "* Pandas makes it easy to read data from files and even from web sites.\n",
    "* Here we use the Pandas Datareader module to read Google stock data from 2010 to the end of 2014."
   ]
  },
  {
   "cell_type": "code",
   "execution_count": null,
   "metadata": {
    "collapsed": false
   },
   "outputs": [],
   "source": [
    "# Reading data from a file\n",
    "\n",
    "google = pd.read_csv('data/goog.csv', index_col='Date', parse_dates=True)\n",
    "google"
   ]
  },
  {
   "cell_type": "code",
   "execution_count": null,
   "metadata": {
    "collapsed": false
   },
   "outputs": [],
   "source": [
    "# Reading data from the Web\n",
    "from pandas_datareader import data as pd_data\n",
    "\n",
    "start  = pd.Timestamp('2010-1-1')\n",
    "end    = pd.Timestamp('2014-12-31')\n",
    "google = pd_data.DataReader(\"GOOG\", 'google', start, end)\n",
    "\n",
    "## Note: this is how we generated the data file read above!\n",
    "# google.to_csv('data/goog.csv', index=True, encoding='utf-8')"
   ]
  },
  {
   "cell_type": "markdown",
   "metadata": {},
   "source": [
    "## Data Containers"
   ]
  },
  {
   "cell_type": "markdown",
   "metadata": {},
   "source": [
    "* The `google` object is a Pandas DataFrame container\n",
    "* standard library python methods like `type()` work on it"
   ]
  },
  {
   "cell_type": "code",
   "execution_count": null,
   "metadata": {
    "collapsed": false
   },
   "outputs": [],
   "source": [
    "type(google)"
   ]
  },
  {
   "cell_type": "markdown",
   "metadata": {},
   "source": [
    "Inspect the available attributes (\"fields\") and methods of the DataFrame by using tab-completion:"
   ]
  },
  {
   "cell_type": "code",
   "execution_count": null,
   "metadata": {
    "collapsed": false
   },
   "outputs": [],
   "source": [
    "## To explore the DataFrame contents, uncomment the following:\n",
    "\n",
    "# google.   ## uncomment, place cursor after dot, press <tab>"
   ]
  },
  {
   "cell_type": "markdown",
   "metadata": {},
   "source": [
    "## Data Inspection"
   ]
  },
  {
   "cell_type": "markdown",
   "metadata": {},
   "source": [
    "Use the method `DataFrame.head()` to inspect the first few rows of data:\n",
    "* great way to inspect smaller data sets\n",
    "* useful for verifying you've read the right file"
   ]
  },
  {
   "cell_type": "code",
   "execution_count": null,
   "metadata": {
    "collapsed": false
   },
   "outputs": [],
   "source": [
    "# Inspect the first few recods of the DataFrame\n",
    "google.head()"
   ]
  },
  {
   "cell_type": "markdown",
   "metadata": {},
   "source": [
    "Now use the Pandas `DataFrame.info()` method to see a bit more detail, including:\n",
    "* the name of each column\n",
    "* the Numpy dtype of each column\n",
    "* how many real values are present\n",
    "* amount of memory used\n",
    "\n",
    "*side note: Pandas has excellent support for not-a-number (NaN) entries in DataFrames and Series.*"
   ]
  },
  {
   "cell_type": "code",
   "execution_count": null,
   "metadata": {
    "collapsed": false
   },
   "outputs": [],
   "source": [
    "# What data do we have\n",
    "# Weekends and holidays are not included\n",
    "google.info()"
   ]
  },
  {
   "cell_type": "markdown",
   "metadata": {},
   "source": [
    "## Data Indexing"
   ]
  },
  {
   "cell_type": "markdown",
   "metadata": {},
   "source": [
    "* Pandas DataFrames have a special Index, goes beyond integer indexing\n",
    "* Pandas DataFrames are indexed by column label, then (row) Index:"
   ]
  },
  {
   "cell_type": "code",
   "execution_count": null,
   "metadata": {
    "collapsed": false
   },
   "outputs": [],
   "source": [
    "# Access an entire column using []\n",
    "google['Open']"
   ]
  },
  {
   "cell_type": "code",
   "execution_count": null,
   "metadata": {
    "collapsed": false
   },
   "outputs": [],
   "source": [
    "# Inspect the first 5 rows or the 'Open' column, using integer indexing\n",
    "\n",
    "google['Open'].iloc[0:5]"
   ]
  },
  {
   "cell_type": "code",
   "execution_count": null,
   "metadata": {
    "collapsed": false
   },
   "outputs": [],
   "source": [
    "# Inspect the first 5 rows or the 'Open' column, using date indexing\n",
    "\n",
    "google.loc['2010-01-04':'2010-01-08','Open']"
   ]
  },
  {
   "cell_type": "markdown",
   "metadata": {},
   "source": [
    "## Data Filtering"
   ]
  },
  {
   "cell_type": "code",
   "execution_count": null,
   "metadata": {
    "collapsed": false
   },
   "outputs": [],
   "source": [
    "# Filtering by conditional\n",
    "google_up = google[ google['Close'] > google['Open'] ]\n",
    "google_up.head()"
   ]
  },
  {
   "cell_type": "code",
   "execution_count": null,
   "metadata": {
    "collapsed": false
   },
   "outputs": [],
   "source": [
    "# Filtering out missing data\n",
    "\n",
    "google_filtered = google[google['Volume'].notnull()]\n",
    "google_filtered.head()"
   ]
  },
  {
   "cell_type": "markdown",
   "metadata": {},
   "source": [
    "## Data Statistics"
   ]
  },
  {
   "cell_type": "markdown",
   "metadata": {},
   "source": [
    "In Pandas we can very easily perform many types of statistical operations. "
   ]
  },
  {
   "cell_type": "code",
   "execution_count": null,
   "metadata": {
    "collapsed": false
   },
   "outputs": [],
   "source": [
    "google.describe()"
   ]
  },
  {
   "cell_type": "markdown",
   "metadata": {},
   "source": [
    "## Data Computations"
   ]
  },
  {
   "cell_type": "markdown",
   "metadata": {},
   "source": [
    "One simple example motivated by finance is to compute the \"volatility\" -- the rolling standard deviation of the log-return over the business days of the year.\n",
    "* First we use the `pandas` method `.pct_change()` to compute the *return* per day based on percent change.\n",
    "* Next we use `numpy` to compute the log of the return.\n",
    "* Finally we use `pandas` method `.rolling_std()` to compute the volatility"
   ]
  },
  {
   "cell_type": "code",
   "execution_count": null,
   "metadata": {
    "collapsed": false
   },
   "outputs": [],
   "source": [
    "# Compute the returns from daily percent change\n",
    "# Append a new column\n",
    "google['Return'] = google['Close'].pct_change()\n",
    "google['Return'].iloc[0:5]"
   ]
  },
  {
   "cell_type": "code",
   "execution_count": null,
   "metadata": {
    "collapsed": false
   },
   "outputs": [],
   "source": [
    "# Compute the log() of the return using numpy\n",
    "# Append another new column\n",
    "import numpy as np\n",
    "google['LogReturn'] = np.log(1+google['Return'])\n",
    "google['LogReturn'].iloc[0:5]"
   ]
  },
  {
   "cell_type": "code",
   "execution_count": null,
   "metadata": {
    "collapsed": false
   },
   "outputs": [],
   "source": [
    "# Compute volatility as rolling standard deviation of the log() of the returns\n",
    "# Append yet another new column\n",
    "window_size = 252\n",
    "google['Volatility'] = google['LogReturn'].rolling(window=window_size).std() * np.sqrt(window_size)\n",
    "google['Volatility'].iloc[window_size-5:window_size+5]"
   ]
  },
  {
   "cell_type": "markdown",
   "metadata": {},
   "source": [
    "Notice that we hae returned a Series of the same length as our original. The window operation ``.rolling(...).std()`` replaced missing entries with ``NaN``"
   ]
  },
  {
   "cell_type": "markdown",
   "metadata": {},
   "source": [
    "## Data Visualization"
   ]
  },
  {
   "cell_type": "markdown",
   "metadata": {},
   "source": [
    "Finally, Pandas is coupled to Matplotlib:\n",
    "* Columns from a single DataFrame can be plotted using `DataFrame.plot()`.\n",
    "* Here we will plot the newly created columns of data, `LogReturn` and `Volatility`."
   ]
  },
  {
   "cell_type": "code",
   "execution_count": null,
   "metadata": {
    "collapsed": false
   },
   "outputs": [],
   "source": [
    "google.info()"
   ]
  },
  {
   "cell_type": "code",
   "execution_count": null,
   "metadata": {
    "collapsed": false
   },
   "outputs": [],
   "source": [
    "google[['Close','Volatility']].plot(subplots=True, figsize=(15,6))"
   ]
  },
  {
   "cell_type": "markdown",
   "metadata": {},
   "source": [
    "## Optimization"
   ]
  },
  {
   "cell_type": "markdown",
   "metadata": {},
   "source": [
    "Pandas has convenience functions that have been implemented to improve computation efficiency.\n",
    "* There is nothing particularly magical about the function ``.ptc_change()`` or ``.rolling(..).std()``\n",
    "* They can be (re)implemented using more general features of Pandas and Python"
   ]
  },
  {
   "cell_type": "markdown",
   "metadata": {},
   "source": [
    "Below are a few examples of how different implementations can be tested for computational efficiency"
   ]
  },
  {
   "cell_type": "markdown",
   "metadata": {},
   "source": [
    "### pandas.pct_change()"
   ]
  },
  {
   "cell_type": "code",
   "execution_count": null,
   "metadata": {
    "collapsed": false
   },
   "outputs": [],
   "source": [
    "# Time the speed of the built-in pct_change()\n",
    "%timeit google[['Close']].pct_change()"
   ]
  },
  {
   "cell_type": "code",
   "execution_count": null,
   "metadata": {
    "collapsed": false
   },
   "outputs": [],
   "source": [
    "%%timeit\n",
    "# Time the speed of an \"hand-rolled\" implementation of pct_change()\n",
    "# This is how ptc_change() works \"under-the-hood\"\n",
    "\n",
    "# This is faster because it does not implement other options or error checking.\n",
    "d=google[['Close']]\n",
    "d.div(d.shift(1)) - 1"
   ]
  },
  {
   "cell_type": "code",
   "execution_count": null,
   "metadata": {
    "collapsed": false
   },
   "outputs": [],
   "source": [
    "%%timeit\n",
    "# The general approach using .apply()\n",
    "# Any function that returns a single value from a column can be provided.\n",
    "google[['Close']].apply(func=lambda x:(x/x.shift(1) -1))"
   ]
  },
  {
   "cell_type": "markdown",
   "metadata": {},
   "source": [
    "### pandas.rolling_std()"
   ]
  },
  {
   "cell_type": "markdown",
   "metadata": {},
   "source": [
    "* `pd.rolling_std()` is a specific implementation of the general `pd.rolling_apply()` function. \n",
    "* The `pd.rolling_std()` method is **FAST** because it has been highly optimized using Cython."
   ]
  },
  {
   "cell_type": "code",
   "execution_count": null,
   "metadata": {
    "collapsed": false
   },
   "outputs": [],
   "source": [
    "# Fast built-in implementation\n",
    "\n",
    "%timeit google['LogReturn'].rolling(window=252).std()"
   ]
  },
  {
   "cell_type": "code",
   "execution_count": null,
   "metadata": {
    "collapsed": false
   },
   "outputs": [],
   "source": [
    "# Slower, \"hand-rolled\" implementation\n",
    "%timeit google['LogReturn'].rolling(window=252).apply(func=np.std)\n",
    "\n",
    "#      side-note: The function must return a single value (reduction) of a column"
   ]
  },
  {
   "cell_type": "markdown",
   "metadata": {},
   "source": [
    "# Section Review"
   ]
  },
  {
   "cell_type": "markdown",
   "metadata": {},
   "source": [
    "Summary of what we've just seen:"
   ]
  },
  {
   "cell_type": "markdown",
   "metadata": {},
   "source": [
    "What is Pandas:\n",
    "* the python data analysis library\n",
    "* open-source, installation, documentation\n",
    "\n",
    "Quick Pandas Demonstration:\n",
    "* module imports\n",
    "* reading and writing\n",
    "* containers\n",
    "* inspection\n",
    "* indexing\n",
    "* filtering\n",
    "* statistics\n",
    "* computations\n",
    "* visualization\n",
    "* optimization"
   ]
  }
 ],
 "metadata": {
  "continuum": {
   "depends": [
    "ip_conda"
   ],
   "requires": [
    "data/goog.csv",
    "img/pydata_stack_model.png"
   ],
   "tag": "pd_intro"
  },
  "kernelspec": {
   "display_name": "Python 3",
   "language": "python",
   "name": "python3"
  },
  "language_info": {
   "codemirror_mode": {
    "name": "ipython",
    "version": 3
   },
   "file_extension": ".py",
   "mimetype": "text/x-python",
   "name": "python",
   "nbconvert_exporter": "python",
   "pygments_lexer": "ipython3",
   "version": "3.4.4"
  }
 },
 "nbformat": 4,
 "nbformat_minor": 0
}
