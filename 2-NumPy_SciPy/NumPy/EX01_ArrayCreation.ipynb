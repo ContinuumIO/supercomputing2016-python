{
 "cells": [
  {
   "cell_type": "markdown",
   "metadata": {},
   "source": [
    "# Table of Contents\n",
    "* [Exercise: Numpy Array Creation](#Exercise:-Numpy-Array-Creation)\n"
   ]
  },
  {
   "cell_type": "markdown",
   "metadata": {},
   "source": [
    "# Exercise: Numpy Array Creation"
   ]
  },
  {
   "cell_type": "code",
   "execution_count": null,
   "metadata": {
    "collapsed": true
   },
   "outputs": [],
   "source": [
    "import numpy as np"
   ]
  },
  {
   "cell_type": "markdown",
   "metadata": {},
   "source": [
    "IPython notebooks have two special functions to measure the time it takes to perform a single line"
   ]
  },
  {
   "cell_type": "code",
   "execution_count": null,
   "metadata": {
    "collapsed": false
   },
   "outputs": [],
   "source": [
    "%timeit np.sqrt(np.pi)"
   ]
  },
  {
   "cell_type": "markdown",
   "metadata": {},
   "source": [
    "and the time it takes to perform an entire cell"
   ]
  },
  {
   "cell_type": "code",
   "execution_count": null,
   "metadata": {
    "collapsed": false
   },
   "outputs": [],
   "source": [
    "%%timeit\n",
    "import numpy as np\n",
    "for i in range(0,1000):\n",
    "    np.sqrt(np.pi)"
   ]
  },
  {
   "cell_type": "markdown",
   "metadata": {},
   "source": [
    "A numpy array behave like any other container `for item in array:`."
   ]
  },
  {
   "cell_type": "markdown",
   "metadata": {},
   "source": [
    "Unless otherwise specified, try to solve these problems using NumPy but not using raw Python.\n",
    "\n",
    "  1. Create a Python list with the ints from 1 to 10.  Create a NumPy array from that list.  \n",
    "    1. For both, add one to each element.\n",
    "    1. For both, multiply each element by two.\n",
    "  1. Create an int array of all zeros.\n",
    "  1. Create a float array of all zeros.\n",
    "  1. Create an evenly spaced grid of 100 floating point values on [-10, 10].\n",
    "  1. Create an int array with the powers of two from 1 to 1024.\n",
    "    1.  Bonus:  Can you figure out a second \"NumPy only\" way to do it? (Hint: help(function) is your friend)\n",
    "  1.  Explain what NumPy dtype would be well-suited for (and why):\n",
    "    * Temperatures\n",
    "    * Counts of occurances of an event\n",
    "    * Differences in counts\n",
    "    * Probabilities\n",
    "  1. Images can be stored as (R,G,B) value triples. Frequently, the color values (red, green, or blue) range from [0, 255]. What would be an ideal NumPy data type for one color value?\n",
    "  1. Come up with two ways to create a (2,5,3) shaped int array filled the value 42.\n",
    "  1. Generate a (5,5) array with values from a Normal distribution of mean 10 and standard deviation 1.\n",
    "    1.  Now, try to do it another way.\n",
    "  1. Define a function of *N*, that returns an array with *N* values all equal to $1/N$.\n",
    "  1. Create a Python list with the floating-point values `[1.0, 2.0, 3.0, ..., 1E6]`. See the following note on timing.\n",
    "    1. Do the same with a NumPy array.\n",
    "    1. Time how long it takes to multiply each sequence by `np.pi`."
   ]
  },
  {
   "cell_type": "code",
   "execution_count": null,
   "metadata": {
    "collapsed": true
   },
   "outputs": [],
   "source": []
  }
 ],
 "metadata": {
  "continuum": {
   "depends": [
    "np_intro",
    "ip_essentials",
    "ip_datatypes",
    "ip_containers"
   ],
   "requires": [],
   "tag": "np_ex_intro"
  },
  "kernelspec": {
   "display_name": "Python 3",
   "language": "python",
   "name": "python3"
  },
  "language_info": {
   "codemirror_mode": {
    "name": "ipython",
    "version": 3
   },
   "file_extension": ".py",
   "mimetype": "text/x-python",
   "name": "python",
   "nbconvert_exporter": "python",
   "pygments_lexer": "ipython3",
   "version": "3.4.4"
  }
 },
 "nbformat": 4,
 "nbformat_minor": 0
}
