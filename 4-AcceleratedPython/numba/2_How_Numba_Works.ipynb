{
 "cells": [
  {
   "cell_type": "markdown",
   "metadata": {
    "slideshow": {
     "slide_type": "slide"
    }
   },
   "source": [
    "## Is this just magic?  What is Numba doing to make code run quickly?"
   ]
  },
  {
   "cell_type": "markdown",
   "metadata": {},
   "source": [
    "Let's define a trivial example function."
   ]
  },
  {
   "cell_type": "code",
   "execution_count": 22,
   "metadata": {
    "collapsed": true,
    "slideshow": {
     "slide_type": "slide"
    }
   },
   "outputs": [],
   "source": [
    "from numba import jit"
   ]
  },
  {
   "cell_type": "code",
   "execution_count": 23,
   "metadata": {
    "collapsed": true,
    "slideshow": {
     "slide_type": "fragment"
    }
   },
   "outputs": [],
   "source": [
    "@jit\n",
    "def add(a, b):\n",
    "    return a + b"
   ]
  },
  {
   "cell_type": "code",
   "execution_count": 24,
   "metadata": {
    "collapsed": false
   },
   "outputs": [
    {
     "data": {
      "text/plain": [
       "2"
      ]
     },
     "execution_count": 24,
     "metadata": {},
     "output_type": "execute_result"
    }
   ],
   "source": [
    "add(1, 1)"
   ]
  },
  {
   "cell_type": "markdown",
   "metadata": {
    "slideshow": {
     "slide_type": "slide"
    }
   },
   "source": [
    "Numba examines Python bytecode and then translates this into an 'intermediate representation'.  To view this IR, run (compile) `add` and you can access the `inspect_types` method."
   ]
  },
  {
   "cell_type": "code",
   "execution_count": 25,
   "metadata": {
    "collapsed": false,
    "scrolled": true,
    "slideshow": {
     "slide_type": "slide"
    }
   },
   "outputs": [
    {
     "name": "stdout",
     "output_type": "stream",
     "text": [
      "add (int64, int64)\n",
      "--------------------------------------------------------------------------------\n",
      "# File: <ipython-input-23-1c683d2d00ee>\n",
      "# --- LINE 1 --- \n",
      "\n",
      "@jit\n",
      "\n",
      "# --- LINE 2 --- \n",
      "\n",
      "def add(a, b):\n",
      "\n",
      "    # --- LINE 3 --- \n",
      "    # label 0\n",
      "    #   a = arg(0, name=a)  :: int64\n",
      "    #   b = arg(1, name=b)  :: int64\n",
      "    #   $0.3 = a + b  :: int64\n",
      "    #   del b\n",
      "    #   del a\n",
      "    #   $0.4 = cast(value=$0.3)  :: int64\n",
      "    #   del $0.3\n",
      "    #   return $0.4\n",
      "\n",
      "    return a + b\n",
      "\n",
      "\n",
      "================================================================================\n"
     ]
    }
   ],
   "source": [
    "add.inspect_types()"
   ]
  },
  {
   "cell_type": "markdown",
   "metadata": {
    "slideshow": {
     "slide_type": "slide"
    }
   },
   "source": [
    "Ok.  Numba is has correctly inferred the type of the arguments, defining things as `int64` and running smoothly.  \n",
    "\n",
    "(What happens if you do `add(1., 1.)` and then `inspect_types`?)"
   ]
  },
  {
   "cell_type": "code",
   "execution_count": 26,
   "metadata": {
    "collapsed": false
   },
   "outputs": [
    {
     "data": {
      "text/plain": [
       "2.0"
      ]
     },
     "execution_count": 26,
     "metadata": {},
     "output_type": "execute_result"
    }
   ],
   "source": [
    "add(1., 1.)"
   ]
  },
  {
   "cell_type": "code",
   "execution_count": 27,
   "metadata": {
    "collapsed": false
   },
   "outputs": [
    {
     "name": "stdout",
     "output_type": "stream",
     "text": [
      "add (int64, int64)\n",
      "--------------------------------------------------------------------------------\n",
      "# File: <ipython-input-23-1c683d2d00ee>\n",
      "# --- LINE 1 --- \n",
      "\n",
      "@jit\n",
      "\n",
      "# --- LINE 2 --- \n",
      "\n",
      "def add(a, b):\n",
      "\n",
      "    # --- LINE 3 --- \n",
      "    # label 0\n",
      "    #   a = arg(0, name=a)  :: int64\n",
      "    #   b = arg(1, name=b)  :: int64\n",
      "    #   $0.3 = a + b  :: int64\n",
      "    #   del b\n",
      "    #   del a\n",
      "    #   $0.4 = cast(value=$0.3)  :: int64\n",
      "    #   del $0.3\n",
      "    #   return $0.4\n",
      "\n",
      "    return a + b\n",
      "\n",
      "\n",
      "================================================================================\n",
      "add (float64, float64)\n",
      "--------------------------------------------------------------------------------\n",
      "# File: <ipython-input-23-1c683d2d00ee>\n",
      "# --- LINE 1 --- \n",
      "\n",
      "@jit\n",
      "\n",
      "# --- LINE 2 --- \n",
      "\n",
      "def add(a, b):\n",
      "\n",
      "    # --- LINE 3 --- \n",
      "    # label 0\n",
      "    #   a = arg(0, name=a)  :: float64\n",
      "    #   b = arg(1, name=b)  :: float64\n",
      "    #   $0.3 = a + b  :: float64\n",
      "    #   del b\n",
      "    #   del a\n",
      "    #   $0.4 = cast(value=$0.3)  :: float64\n",
      "    #   del $0.3\n",
      "    #   return $0.4\n",
      "\n",
      "    return a + b\n",
      "\n",
      "\n",
      "================================================================================\n"
     ]
    }
   ],
   "source": [
    "add.inspect_types()"
   ]
  },
  {
   "cell_type": "markdown",
   "metadata": {},
   "source": [
    "### What about the actual LLVM code?"
   ]
  },
  {
   "cell_type": "markdown",
   "metadata": {},
   "source": [
    "You can see the actual LLVM code generated by Numba using the `inspect_llvm()` method.  Since it's a `dict`, doing the following will be slightly more visually friendly."
   ]
  },
  {
   "cell_type": "code",
   "execution_count": 29,
   "metadata": {
    "collapsed": false,
    "scrolled": true
   },
   "outputs": [
    {
     "name": "stdout",
     "output_type": "stream",
     "text": [
      "(float64, float64) \t.section\t__TEXT,__text,regular,pure_instructions\n",
      "\t.macosx_version_min 10, 11\n",
      "\t.globl\t___main__.add$6.float64.float64\n",
      "\t.align\t4, 0x90\n",
      "___main__.add$6.float64.float64:\n",
      "\tvaddsd\t%xmm1, %xmm0, %xmm0\n",
      "\tvmovsd\t%xmm0, (%rdi)\n",
      "\txorl\t%eax, %eax\n",
      "\tretq\n",
      "\n",
      "\t.globl\t_cpython.__main__.add$6.float64.float64\n",
      "\t.align\t4, 0x90\n",
      "_cpython.__main__.add$6.float64.float64:\n",
      "\t.cfi_startproc\n",
      "\tpushq\t%r15\n",
      "Ltmp0:\n",
      "\t.cfi_def_cfa_offset 16\n",
      "\tpushq\t%r14\n",
      "Ltmp1:\n",
      "\t.cfi_def_cfa_offset 24\n",
      "\tpushq\t%r13\n",
      "Ltmp2:\n",
      "\t.cfi_def_cfa_offset 32\n",
      "\tpushq\t%r12\n",
      "Ltmp3:\n",
      "\t.cfi_def_cfa_offset 40\n",
      "\tpushq\t%rbx\n",
      "Ltmp4:\n",
      "\t.cfi_def_cfa_offset 48\n",
      "\tsubq\t$32, %rsp\n",
      "Ltmp5:\n",
      "\t.cfi_def_cfa_offset 80\n",
      "Ltmp6:\n",
      "\t.cfi_offset %rbx, -48\n",
      "Ltmp7:\n",
      "\t.cfi_offset %r12, -40\n",
      "Ltmp8:\n",
      "\t.cfi_offset %r13, -32\n",
      "Ltmp9:\n",
      "\t.cfi_offset %r14, -24\n",
      "Ltmp10:\n",
      "\t.cfi_offset %r15, -16\n",
      "\tmovq\t%rdi, %rbx\n",
      "\tmovabsq\t$_.const.add, %r10\n",
      "\tmovabsq\t$_PyArg_UnpackTuple, %r11\n",
      "\tleaq\t24(%rsp), %r8\n",
      "\tleaq\t16(%rsp), %r9\n",
      "\tmovl\t$2, %edx\n",
      "\tmovl\t$2, %ecx\n",
      "\txorl\t%eax, %eax\n",
      "\tmovq\t%rsi, %rdi\n",
      "\tmovq\t%r10, %rsi\n",
      "\tcallq\t*%r11\n",
      "\ttestl\t%eax, %eax\n",
      "\tje\tLBB1_1\n",
      "\ttestq\t%rbx, %rbx\n",
      "\tje\tLBB1_9\n",
      "\tcmpq\t$0, 24(%rbx)\n",
      "\tje\tLBB1_5\n",
      "\tmovq\t24(%rsp), %rdi\n",
      "\tmovabsq\t$_PyNumber_Float, %r14\n",
      "\tcallq\t*%r14\n",
      "\tmovq\t%rax, %rbx\n",
      "\tmovabsq\t$_PyFloat_AsDouble, %r15\n",
      "\tmovq\t%rbx, %rdi\n",
      "\tcallq\t*%r15\n",
      "\tvmovsd\t%xmm0, 8(%rsp)\n",
      "\tmovabsq\t$_Py_DecRef, %r12\n",
      "\tmovq\t%rbx, %rdi\n",
      "\tcallq\t*%r12\n",
      "\tmovabsq\t$_PyErr_Occurred, %r13\n",
      "\tcallq\t*%r13\n",
      "\ttestq\t%rax, %rax\n",
      "\tjne\tLBB1_1\n",
      "\tmovq\t16(%rsp), %rdi\n",
      "\tcallq\t*%r14\n",
      "\tmovq\t%rax, %rbx\n",
      "\tmovq\t%rbx, %rdi\n",
      "\tcallq\t*%r15\n",
      "\tvmovsd\t%xmm0, (%rsp)\n",
      "\tmovq\t%rbx, %rdi\n",
      "\tcallq\t*%r12\n",
      "\tcallq\t*%r13\n",
      "\ttestq\t%rax, %rax\n",
      "\tjne\tLBB1_1\n",
      "\tvmovsd\t(%rsp), %xmm0\n",
      "\tvaddsd\t8(%rsp), %xmm0, %xmm0\n",
      "\tmovabsq\t$_PyFloat_FromDouble, %rax\n",
      "\tcallq\t*%rax\n",
      "LBB1_2:\n",
      "\taddq\t$32, %rsp\n",
      "\tpopq\t%rbx\n",
      "\tpopq\t%r12\n",
      "\tpopq\t%r13\n",
      "\tpopq\t%r14\n",
      "\tpopq\t%r15\n",
      "\tretq\n",
      "LBB1_5:\n",
      "\tmovabsq\t$_PyExc_RuntimeError, %rdi\n",
      "\tmovabsq\t$\"_.const.missing Environment\", %rsi\n",
      "\tmovabsq\t$_PyErr_SetString, %rax\n",
      "\tcallq\t*%rax\n",
      "LBB1_1:\n",
      "\txorl\t%eax, %eax\n",
      "\tjmp\tLBB1_2\n",
      "LBB1_9:\n",
      "\tmovabsq\t$\"_.const.Fatal error: missing _dynfunc.Closure\", %rdi\n",
      "\tmovabsq\t$_puts, %rax\n",
      "\tcallq\t*%rax\n",
      "\t.cfi_endproc\n",
      "\n",
      "\t.section\t__TEXT,__const\n",
      "_.const.add:\n",
      "\t.asciz\t\"add\"\n",
      "\n",
      "\t.align\t4\n",
      "\"_.const.Fatal error: missing _dynfunc.Closure\":\n",
      "\t.asciz\t\"Fatal error: missing _dynfunc.Closure\"\n",
      "\n",
      "\t.align\t4\n",
      "\"_.const.missing Environment\":\n",
      "\t.asciz\t\"missing Environment\"\n",
      "\n",
      "\n",
      ".subsections_via_symbols\n",
      "\n",
      "(int64, int64) \t.section\t__TEXT,__text,regular,pure_instructions\n",
      "\t.macosx_version_min 10, 11\n",
      "\t.globl\t___main__.add$5.int64.int64\n",
      "\t.align\t4, 0x90\n",
      "___main__.add$5.int64.int64:\n",
      "\taddq\t%r8, %rcx\n",
      "\tmovq\t%rcx, (%rdi)\n",
      "\txorl\t%eax, %eax\n",
      "\tretq\n",
      "\n",
      "\t.globl\t_cpython.__main__.add$5.int64.int64\n",
      "\t.align\t4, 0x90\n",
      "_cpython.__main__.add$5.int64.int64:\n",
      "\t.cfi_startproc\n",
      "\tpushq\t%r15\n",
      "Ltmp0:\n",
      "\t.cfi_def_cfa_offset 16\n",
      "\tpushq\t%r14\n",
      "Ltmp1:\n",
      "\t.cfi_def_cfa_offset 24\n",
      "\tpushq\t%r12\n",
      "Ltmp2:\n",
      "\t.cfi_def_cfa_offset 32\n",
      "\tpushq\t%rbx\n",
      "Ltmp3:\n",
      "\t.cfi_def_cfa_offset 40\n",
      "\tsubq\t$24, %rsp\n",
      "Ltmp4:\n",
      "\t.cfi_def_cfa_offset 64\n",
      "Ltmp5:\n",
      "\t.cfi_offset %rbx, -40\n",
      "Ltmp6:\n",
      "\t.cfi_offset %r12, -32\n",
      "Ltmp7:\n",
      "\t.cfi_offset %r14, -24\n",
      "Ltmp8:\n",
      "\t.cfi_offset %r15, -16\n",
      "\tmovq\t%rdi, %rbx\n",
      "\tmovabsq\t$_.const.add, %r10\n",
      "\tmovabsq\t$_PyArg_UnpackTuple, %r11\n",
      "\tleaq\t16(%rsp), %r8\n",
      "\tleaq\t8(%rsp), %r9\n",
      "\tmovl\t$2, %edx\n",
      "\tmovl\t$2, %ecx\n",
      "\txorl\t%eax, %eax\n",
      "\tmovq\t%rsi, %rdi\n",
      "\tmovq\t%r10, %rsi\n",
      "\tcallq\t*%r11\n",
      "\ttestl\t%eax, %eax\n",
      "\tje\tLBB1_1\n",
      "\ttestq\t%rbx, %rbx\n",
      "\tje\tLBB1_13\n",
      "\tcmpq\t$0, 24(%rbx)\n",
      "\tje\tLBB1_5\n",
      "\tmovq\t16(%rsp), %rdi\n",
      "\tmovabsq\t$_PyNumber_Long, %r15\n",
      "\tcallq\t*%r15\n",
      "\tmovq\t%rax, %rbx\n",
      "\ttestq\t%rbx, %rbx\n",
      "\tje\tLBB1_8\n",
      "\tmovabsq\t$_PyLong_AsLongLong, %rax\n",
      "\tmovq\t%rbx, %rdi\n",
      "\tcallq\t*%rax\n",
      "\tmovq\t%rax, %r14\n",
      "\tmovabsq\t$_Py_DecRef, %rax\n",
      "\tmovq\t%rbx, %rdi\n",
      "\tcallq\t*%rax\n",
      "LBB1_8:\n",
      "\tmovabsq\t$_PyErr_Occurred, %r12\n",
      "\tcallq\t*%r12\n",
      "\ttestq\t%rax, %rax\n",
      "\tjne\tLBB1_1\n",
      "\tmovq\t8(%rsp), %rdi\n",
      "\tcallq\t*%r15\n",
      "\tmovq\t%rax, %rbx\n",
      "\ttestq\t%rbx, %rbx\n",
      "\tje\tLBB1_11\n",
      "\tmovabsq\t$_PyLong_AsLongLong, %rax\n",
      "\tmovq\t%rbx, %rdi\n",
      "\tcallq\t*%rax\n",
      "\tmovq\t%rax, %r15\n",
      "\tmovabsq\t$_Py_DecRef, %rax\n",
      "\tmovq\t%rbx, %rdi\n",
      "\tcallq\t*%rax\n",
      "LBB1_11:\n",
      "\tcallq\t*%r12\n",
      "\ttestq\t%rax, %rax\n",
      "\tjne\tLBB1_1\n",
      "\taddq\t%r14, %r15\n",
      "\tmovabsq\t$_PyLong_FromLongLong, %rax\n",
      "\tmovq\t%r15, %rdi\n",
      "\tcallq\t*%rax\n",
      "LBB1_2:\n",
      "\taddq\t$24, %rsp\n",
      "\tpopq\t%rbx\n",
      "\tpopq\t%r12\n",
      "\tpopq\t%r14\n",
      "\tpopq\t%r15\n",
      "\tretq\n",
      "LBB1_5:\n",
      "\tmovabsq\t$_PyExc_RuntimeError, %rdi\n",
      "\tmovabsq\t$\"_.const.missing Environment\", %rsi\n",
      "\tmovabsq\t$_PyErr_SetString, %rax\n",
      "\tcallq\t*%rax\n",
      "LBB1_1:\n",
      "\txorl\t%eax, %eax\n",
      "\tjmp\tLBB1_2\n",
      "LBB1_13:\n",
      "\tmovabsq\t$\"_.const.Fatal error: missing _dynfunc.Closure\", %rdi\n",
      "\tmovabsq\t$_puts, %rax\n",
      "\tcallq\t*%rax\n",
      "\t.cfi_endproc\n",
      "\n",
      "\t.section\t__TEXT,__const\n",
      "_.const.add:\n",
      "\t.asciz\t\"add\"\n",
      "\n",
      "\t.align\t4\n",
      "\"_.const.Fatal error: missing _dynfunc.Closure\":\n",
      "\t.asciz\t\"Fatal error: missing _dynfunc.Closure\"\n",
      "\n",
      "\t.align\t4\n",
      "\"_.const.missing Environment\":\n",
      "\t.asciz\t\"missing Environment\"\n",
      "\n",
      "\n",
      ".subsections_via_symbols\n",
      "\n"
     ]
    }
   ],
   "source": [
    "for k, v in add.inspect_asm().items():\n",
    "    print(k, v)"
   ]
  },
  {
   "cell_type": "markdown",
   "metadata": {
    "slideshow": {
     "slide_type": "slide"
    }
   },
   "source": [
    "## But there's a caveat"
   ]
  },
  {
   "cell_type": "markdown",
   "metadata": {},
   "source": [
    "Now, watch what happens when the function we want to speed-up operates on object data types."
   ]
  },
  {
   "cell_type": "code",
   "execution_count": 30,
   "metadata": {
    "collapsed": true,
    "slideshow": {
     "slide_type": "slide"
    }
   },
   "outputs": [],
   "source": [
    "def add_object_n2_times(a, b, n):\n",
    "    cumsum = 0\n",
    "    for i in range(n):\n",
    "        for j in range(n):\n",
    "            cumsum += a.x + b.x\n",
    "    \n",
    "    return cumsum"
   ]
  },
  {
   "cell_type": "code",
   "execution_count": 31,
   "metadata": {
    "collapsed": false,
    "slideshow": {
     "slide_type": "fragment"
    }
   },
   "outputs": [],
   "source": [
    "class MyInt(object):\n",
    "    def __init__(self, x):\n",
    "        self.x = x"
   ]
  },
  {
   "cell_type": "code",
   "execution_count": 32,
   "metadata": {
    "collapsed": true,
    "slideshow": {
     "slide_type": "fragment"
    }
   },
   "outputs": [],
   "source": [
    "a = MyInt(5)\n",
    "b = MyInt(6)"
   ]
  },
  {
   "cell_type": "code",
   "execution_count": 33,
   "metadata": {
    "collapsed": false,
    "slideshow": {
     "slide_type": "fragment"
    }
   },
   "outputs": [
    {
     "name": "stdout",
     "output_type": "stream",
     "text": [
      "10 loops, best of 3: 41.7 ms per loop\n"
     ]
    }
   ],
   "source": [
    "%timeit add_object_n2_times(a, b, 500)"
   ]
  },
  {
   "cell_type": "code",
   "execution_count": 34,
   "metadata": {
    "collapsed": false,
    "slideshow": {
     "slide_type": "slide"
    }
   },
   "outputs": [],
   "source": [
    "add_object_jit = jit()(add_object_n2_times)"
   ]
  },
  {
   "cell_type": "code",
   "execution_count": 35,
   "metadata": {
    "collapsed": false,
    "slideshow": {
     "slide_type": "fragment"
    }
   },
   "outputs": [
    {
     "name": "stdout",
     "output_type": "stream",
     "text": [
      "The slowest run took 6.34 times longer than the fastest. This could mean that an intermediate result is being cached.\n",
      "1 loop, best of 3: 50.2 ms per loop\n"
     ]
    }
   ],
   "source": [
    "%timeit add_object_jit(a, b, 500)"
   ]
  },
  {
   "cell_type": "code",
   "execution_count": 36,
   "metadata": {
    "collapsed": false,
    "slideshow": {
     "slide_type": "slide"
    }
   },
   "outputs": [
    {
     "name": "stdout",
     "output_type": "stream",
     "text": [
      "add_object_n2_times (pyobject, pyobject, int64)\n",
      "--------------------------------------------------------------------------------\n",
      "# File: <ipython-input-30-99c680a668e7>\n",
      "# --- LINE 1 --- \n",
      "\n",
      "def add_object_n2_times(a, b, n):\n",
      "\n",
      "    # --- LINE 2 --- \n",
      "    # label 0\n",
      "    #   a = arg(0, name=a)  :: pyobject\n",
      "    #   b = arg(1, name=b)  :: pyobject\n",
      "    #   n = arg(2, name=n)  :: pyobject\n",
      "    #   $const0.1 = const(int, 0)  :: pyobject\n",
      "    #   cumsum = $const0.1  :: pyobject\n",
      "    #   del $const0.1\n",
      "\n",
      "    cumsum = 0\n",
      "\n",
      "    # --- LINE 3 --- \n",
      "    #   jump 6\n",
      "    # label 6\n",
      "    #   jump 9\n",
      "    # label 9\n",
      "    #   $35 = const(LiftedLoop, LiftedLoop(<function add_object_n2_times at 0x10dfae8c8>))  :: XXX Lifted Loop XXX\n",
      "    #   $36 = call $35(a, b, cumsum, n)  :: XXX Lifted Loop XXX\n",
      "    #   del n\n",
      "    #   del b\n",
      "    #   del a\n",
      "    #   del $35\n",
      "    #   cumsum = static_getitem(index_var=None, index=0, value=$36)  :: pyobject\n",
      "    #   del $36\n",
      "    #   jump 72\n",
      "\n",
      "    for i in range(n):\n",
      "\n",
      "        # --- LINE 4 --- \n",
      "\n",
      "        for j in range(n):\n",
      "\n",
      "            # --- LINE 5 --- \n",
      "\n",
      "            cumsum += a.x + b.x\n",
      "\n",
      "# --- LINE 6 --- \n",
      "\n",
      "\n",
      "\n",
      "    # --- LINE 7 --- \n",
      "    # label 72\n",
      "    #   $72.2 = cast(value=cumsum)  :: pyobject\n",
      "    #   del cumsum\n",
      "    #   return $72.2\n",
      "\n",
      "    return cumsum\n",
      "\n",
      "# The function contains lifted loops\n",
      "# Loop at line 3\n",
      "# Has 1 overloads\n",
      "# File: <ipython-input-30-99c680a668e7>\n",
      "# --- LINE 1 --- \n",
      "\n",
      "def add_object_n2_times(a, b, n):\n",
      "\n",
      "    # --- LINE 2 --- \n",
      "\n",
      "    cumsum = 0\n",
      "\n",
      "    # --- LINE 3 --- \n",
      "    # label 8\n",
      "    #   a = arg(0, name=a)  :: pyobject\n",
      "    #   b = arg(1, name=b)  :: pyobject\n",
      "    #   cumsum = arg(2, name=cumsum)  :: pyobject\n",
      "    #   n = arg(3, name=n)  :: pyobject\n",
      "    #   jump 9\n",
      "    # label 9\n",
      "    #   $9.1 = global(range: <class 'range'>)  :: pyobject\n",
      "    #   $9.3 = call $9.1(n)  :: pyobject\n",
      "    #   del $9.1\n",
      "    #   $9.4 = getiter(value=$9.3)  :: pyobject\n",
      "    #   del $9.3\n",
      "    #   $phi19.1 = $9.4  :: pyobject\n",
      "    #   del $9.4\n",
      "    #   jump 19\n",
      "    # label 19\n",
      "    #   $19.2 = iternext(value=$phi19.1)  :: pyobject\n",
      "    #   $19.3 = pair_first(value=$19.2)  :: pyobject\n",
      "    #   $19.4 = pair_second(value=$19.2)  :: pyobject\n",
      "    #   del $19.2\n",
      "    #   $phi22.1 = $19.3  :: pyobject\n",
      "    #   del $19.3\n",
      "    #   branch $19.4, 22, 71\n",
      "    # label 22\n",
      "    #   del $19.4\n",
      "    #   i = $phi22.1  :: pyobject\n",
      "    #   del i\n",
      "    #   del $phi22.1\n",
      "    # label 72\n",
      "    #   $34 = build_tuple(items=[Var(cumsum, <ipython-input-30-99c680a668e7> (2))])  :: pyobject\n",
      "    #   del cumsum\n",
      "    #   return $34\n",
      "\n",
      "    for i in range(n):\n",
      "\n",
      "        # --- LINE 4 --- \n",
      "        #   jump 25\n",
      "        # label 25\n",
      "        #   jump 28\n",
      "        # label 28\n",
      "        #   $28.1 = global(range: <class 'range'>)  :: pyobject\n",
      "        #   $28.3 = call $28.1(n)  :: pyobject\n",
      "        #   del $28.1\n",
      "        #   $28.4 = getiter(value=$28.3)  :: pyobject\n",
      "        #   del $28.3\n",
      "        #   $phi38.1 = $28.4  :: pyobject\n",
      "        #   del $28.4\n",
      "        #   jump 38\n",
      "        # label 38\n",
      "        #   $38.2 = iternext(value=$phi38.1)  :: pyobject\n",
      "        #   $38.3 = pair_first(value=$38.2)  :: pyobject\n",
      "        #   $38.4 = pair_second(value=$38.2)  :: pyobject\n",
      "        #   del $38.2\n",
      "        #   $phi41.1 = $38.3  :: pyobject\n",
      "        #   del $38.3\n",
      "        #   branch $38.4, 41, 67\n",
      "        # label 41\n",
      "        #   del $38.4\n",
      "        #   j = $phi41.1  :: pyobject\n",
      "        #   del j\n",
      "        #   del $phi41.1\n",
      "        #   del $41.6\n",
      "        #   del $41.4\n",
      "        #   del $41.7\n",
      "        #   del $41.8\n",
      "\n",
      "        for j in range(n):\n",
      "\n",
      "            # --- LINE 5 --- \n",
      "            #   $41.4 = getattr(value=a, attr=x)  :: pyobject\n",
      "            #   $41.6 = getattr(value=b, attr=x)  :: pyobject\n",
      "            #   $41.7 = $41.4 + $41.6  :: pyobject\n",
      "            #   $41.8 = inplace_binop(lhs=cumsum, static_lhs=<object object at 0x1003933d0>, fn=+=, immutable_fn=+, static_rhs=<object object at 0x1003933d0>, rhs=$41.7)  :: pyobject\n",
      "            #   cumsum = $41.8  :: pyobject\n",
      "            #   jump 38\n",
      "            # label 67\n",
      "            #   del $phi41.1\n",
      "            #   del $phi38.1\n",
      "            #   del $38.4\n",
      "            #   jump 68\n",
      "            # label 68\n",
      "            #   jump 19\n",
      "            # label 71\n",
      "            #   del n\n",
      "            #   del b\n",
      "            #   del a\n",
      "            #   del $phi22.1\n",
      "            #   del $phi19.1\n",
      "            #   del $19.4\n",
      "\n",
      "            cumsum += a.x + b.x\n",
      "\n",
      "# --- LINE 6 --- \n",
      "\n",
      "\n",
      "\n",
      "    # --- LINE 7 --- \n",
      "    #   jump 72\n",
      "\n",
      "    return cumsum\n",
      "\n",
      "\n",
      "\n",
      "================================================================================\n"
     ]
    }
   ],
   "source": [
    "add_object_jit.inspect_types()"
   ]
  },
  {
   "cell_type": "markdown",
   "metadata": {
    "collapsed": true,
    "slideshow": {
     "slide_type": "slide"
    }
   },
   "source": [
    "## What's all this pyobject business?  \n",
    "\n",
    "This means it has been compiled in `object` mode.  This can be a faster than regular python if it can do loop lifting, but not that fast.  \n",
    "We want those `pyobjects` to be `int64` or another type that can be inferred by Numba. Your best bet is forcing `nopython` mode: this will throw an error if Numba finds itself in object mode, so that you _know_ that it can't give you speed."
   ]
  },
  {
   "cell_type": "markdown",
   "metadata": {
    "collapsed": true
   },
   "source": [
    "For the full list of supported Python and NumPy features in `nopython` mode, see the Numba documentation here: http://numba.pydata.org/numba-doc/latest/reference/pysupported.html"
   ]
  },
  {
   "cell_type": "markdown",
   "metadata": {},
   "source": [
    "## Figuring out what isn't working"
   ]
  },
  {
   "cell_type": "code",
   "execution_count": null,
   "metadata": {
    "collapsed": false
   },
   "outputs": [],
   "source": [
    "%%file nopython_failure.py\n",
    "from numba import jit\n",
    "\n",
    "class MyInt(object):\n",
    "    def __init__(self, x):\n",
    "        self.x = x\n",
    "        \n",
    "@jit\n",
    "def add_object(a, b):\n",
    "    for i in range(100):\n",
    "        c = i\n",
    "        f = i + 7\n",
    "        l = c + f\n",
    "        \n",
    "    return a.x + b.x\n",
    "\n",
    "a = MyInt(5)\n",
    "b = MyInt(6)\n",
    "\n",
    "add_object(a, b)"
   ]
  },
  {
   "cell_type": "code",
   "execution_count": null,
   "metadata": {
    "collapsed": false
   },
   "outputs": [],
   "source": [
    "!numba --annotate-html fail.html nopython_failure.py"
   ]
  },
  {
   "cell_type": "markdown",
   "metadata": {},
   "source": [
    "[fail.html](fail.html)"
   ]
  },
  {
   "cell_type": "markdown",
   "metadata": {},
   "source": [
    "## Forcing `nopython` mode"
   ]
  },
  {
   "cell_type": "code",
   "execution_count": 37,
   "metadata": {
    "collapsed": true
   },
   "outputs": [],
   "source": [
    "add_object_jit = jit(nopython=True)(add_object_n2_times)"
   ]
  },
  {
   "cell_type": "code",
   "execution_count": 38,
   "metadata": {
    "collapsed": false
   },
   "outputs": [
    {
     "ename": "UntypedAttributeError",
     "evalue": "Failed at nopython (nopython frontend)\nUnknown attribute 'x' of type pyobject\nFile \"<ipython-input-30-99c680a668e7>\", line 5\n[1] During: typing of get attribute at <ipython-input-30-99c680a668e7> (5)\n\nThis error may have been caused by the following argument(s):\n- argument 0: cannot determine Numba type of value <__main__.MyInt object at 0x10df3d048>\n- argument 1: cannot determine Numba type of value <__main__.MyInt object at 0x10df3d080>\n",
     "output_type": "error",
     "traceback": [
      "\u001b[0;31m---------------------------------------------------------------------------\u001b[0m",
      "\u001b[0;31mUntypedAttributeError\u001b[0m                     Traceback (most recent call last)",
      "\u001b[0;32m<ipython-input-38-2861bb52aaaf>\u001b[0m in \u001b[0;36m<module>\u001b[0;34m()\u001b[0m\n\u001b[1;32m      1\u001b[0m \u001b[0;31m# This will fail\u001b[0m\u001b[0;34m\u001b[0m\u001b[0;34m\u001b[0m\u001b[0m\n\u001b[0;32m----> 2\u001b[0;31m \u001b[0madd_object_jit\u001b[0m\u001b[0;34m(\u001b[0m\u001b[0ma\u001b[0m\u001b[0;34m,\u001b[0m \u001b[0mb\u001b[0m\u001b[0;34m,\u001b[0m \u001b[0;36m5\u001b[0m\u001b[0;34m)\u001b[0m\u001b[0;34m\u001b[0m\u001b[0m\n\u001b[0m",
      "\u001b[0;32m/Users/stan/anaconda/envs/python3/lib/python3.5/site-packages/numba/dispatcher.py\u001b[0m in \u001b[0;36m_compile_for_args\u001b[0;34m(self, *args, **kws)\u001b[0m\n\u001b[1;32m    306\u001b[0m                                 for i, err in failed_args))\n\u001b[1;32m    307\u001b[0m                 \u001b[0me\u001b[0m\u001b[0;34m.\u001b[0m\u001b[0mpatch_message\u001b[0m\u001b[0;34m(\u001b[0m\u001b[0mmsg\u001b[0m\u001b[0;34m)\u001b[0m\u001b[0;34m\u001b[0m\u001b[0m\n\u001b[0;32m--> 308\u001b[0;31m             \u001b[0;32mraise\u001b[0m \u001b[0me\u001b[0m\u001b[0;34m\u001b[0m\u001b[0m\n\u001b[0m\u001b[1;32m    309\u001b[0m \u001b[0;34m\u001b[0m\u001b[0m\n\u001b[1;32m    310\u001b[0m     \u001b[0;32mdef\u001b[0m \u001b[0minspect_llvm\u001b[0m\u001b[0;34m(\u001b[0m\u001b[0mself\u001b[0m\u001b[0;34m,\u001b[0m \u001b[0msignature\u001b[0m\u001b[0;34m=\u001b[0m\u001b[0;32mNone\u001b[0m\u001b[0;34m)\u001b[0m\u001b[0;34m:\u001b[0m\u001b[0;34m\u001b[0m\u001b[0m\n",
      "\u001b[0;32m/Users/stan/anaconda/envs/python3/lib/python3.5/site-packages/numba/dispatcher.py\u001b[0m in \u001b[0;36m_compile_for_args\u001b[0;34m(self, *args, **kws)\u001b[0m\n\u001b[1;32m    283\u001b[0m                 \u001b[0margtypes\u001b[0m\u001b[0;34m.\u001b[0m\u001b[0mappend\u001b[0m\u001b[0;34m(\u001b[0m\u001b[0mself\u001b[0m\u001b[0;34m.\u001b[0m\u001b[0mtypeof_pyval\u001b[0m\u001b[0;34m(\u001b[0m\u001b[0ma\u001b[0m\u001b[0;34m)\u001b[0m\u001b[0;34m)\u001b[0m\u001b[0;34m\u001b[0m\u001b[0m\n\u001b[1;32m    284\u001b[0m         \u001b[0;32mtry\u001b[0m\u001b[0;34m:\u001b[0m\u001b[0;34m\u001b[0m\u001b[0m\n\u001b[0;32m--> 285\u001b[0;31m             \u001b[0;32mreturn\u001b[0m \u001b[0mself\u001b[0m\u001b[0;34m.\u001b[0m\u001b[0mcompile\u001b[0m\u001b[0;34m(\u001b[0m\u001b[0mtuple\u001b[0m\u001b[0;34m(\u001b[0m\u001b[0margtypes\u001b[0m\u001b[0;34m)\u001b[0m\u001b[0;34m)\u001b[0m\u001b[0;34m\u001b[0m\u001b[0m\n\u001b[0m\u001b[1;32m    286\u001b[0m         \u001b[0;32mexcept\u001b[0m \u001b[0merrors\u001b[0m\u001b[0;34m.\u001b[0m\u001b[0mTypingError\u001b[0m \u001b[0;32mas\u001b[0m \u001b[0me\u001b[0m\u001b[0;34m:\u001b[0m\u001b[0;34m\u001b[0m\u001b[0m\n\u001b[1;32m    287\u001b[0m             \u001b[0;31m# Intercept typing error that may be due to an argument\u001b[0m\u001b[0;34m\u001b[0m\u001b[0;34m\u001b[0m\u001b[0m\n",
      "\u001b[0;32m/Users/stan/anaconda/envs/python3/lib/python3.5/site-packages/numba/dispatcher.py\u001b[0m in \u001b[0;36mcompile\u001b[0;34m(self, sig)\u001b[0m\n\u001b[1;32m    529\u001b[0m \u001b[0;34m\u001b[0m\u001b[0m\n\u001b[1;32m    530\u001b[0m             \u001b[0mself\u001b[0m\u001b[0;34m.\u001b[0m\u001b[0m_cache_misses\u001b[0m\u001b[0;34m[\u001b[0m\u001b[0msig\u001b[0m\u001b[0;34m]\u001b[0m \u001b[0;34m+=\u001b[0m \u001b[0;36m1\u001b[0m\u001b[0;34m\u001b[0m\u001b[0m\n\u001b[0;32m--> 531\u001b[0;31m             \u001b[0mcres\u001b[0m \u001b[0;34m=\u001b[0m \u001b[0mself\u001b[0m\u001b[0;34m.\u001b[0m\u001b[0m_compiler\u001b[0m\u001b[0;34m.\u001b[0m\u001b[0mcompile\u001b[0m\u001b[0;34m(\u001b[0m\u001b[0margs\u001b[0m\u001b[0;34m,\u001b[0m \u001b[0mreturn_type\u001b[0m\u001b[0;34m)\u001b[0m\u001b[0;34m\u001b[0m\u001b[0m\n\u001b[0m\u001b[1;32m    532\u001b[0m             \u001b[0mself\u001b[0m\u001b[0;34m.\u001b[0m\u001b[0madd_overload\u001b[0m\u001b[0;34m(\u001b[0m\u001b[0mcres\u001b[0m\u001b[0;34m)\u001b[0m\u001b[0;34m\u001b[0m\u001b[0m\n\u001b[1;32m    533\u001b[0m             \u001b[0mself\u001b[0m\u001b[0;34m.\u001b[0m\u001b[0m_cache\u001b[0m\u001b[0;34m.\u001b[0m\u001b[0msave_overload\u001b[0m\u001b[0;34m(\u001b[0m\u001b[0msig\u001b[0m\u001b[0;34m,\u001b[0m \u001b[0mcres\u001b[0m\u001b[0;34m)\u001b[0m\u001b[0;34m\u001b[0m\u001b[0m\n",
      "\u001b[0;32m/Users/stan/anaconda/envs/python3/lib/python3.5/site-packages/numba/dispatcher.py\u001b[0m in \u001b[0;36mcompile\u001b[0;34m(self, args, return_type)\u001b[0m\n\u001b[1;32m     78\u001b[0m                                       \u001b[0mimpl\u001b[0m\u001b[0;34m,\u001b[0m\u001b[0;34m\u001b[0m\u001b[0m\n\u001b[1;32m     79\u001b[0m                                       \u001b[0margs\u001b[0m\u001b[0;34m=\u001b[0m\u001b[0margs\u001b[0m\u001b[0;34m,\u001b[0m \u001b[0mreturn_type\u001b[0m\u001b[0;34m=\u001b[0m\u001b[0mreturn_type\u001b[0m\u001b[0;34m,\u001b[0m\u001b[0;34m\u001b[0m\u001b[0m\n\u001b[0;32m---> 80\u001b[0;31m                                       flags=flags, locals=self.locals)\n\u001b[0m\u001b[1;32m     81\u001b[0m         \u001b[0;31m# Check typing error if object mode is used\u001b[0m\u001b[0;34m\u001b[0m\u001b[0;34m\u001b[0m\u001b[0m\n\u001b[1;32m     82\u001b[0m         \u001b[0;32mif\u001b[0m \u001b[0mcres\u001b[0m\u001b[0;34m.\u001b[0m\u001b[0mtyping_error\u001b[0m \u001b[0;32mis\u001b[0m \u001b[0;32mnot\u001b[0m \u001b[0;32mNone\u001b[0m \u001b[0;32mand\u001b[0m \u001b[0;32mnot\u001b[0m \u001b[0mflags\u001b[0m\u001b[0;34m.\u001b[0m\u001b[0menable_pyobject\u001b[0m\u001b[0;34m:\u001b[0m\u001b[0;34m\u001b[0m\u001b[0m\n",
      "\u001b[0;32m/Users/stan/anaconda/envs/python3/lib/python3.5/site-packages/numba/compiler.py\u001b[0m in \u001b[0;36mcompile_extra\u001b[0;34m(typingctx, targetctx, func, args, return_type, flags, locals, library)\u001b[0m\n\u001b[1;32m    723\u001b[0m     pipeline = Pipeline(typingctx, targetctx, library,\n\u001b[1;32m    724\u001b[0m                         args, return_type, flags, locals)\n\u001b[0;32m--> 725\u001b[0;31m     \u001b[0;32mreturn\u001b[0m \u001b[0mpipeline\u001b[0m\u001b[0;34m.\u001b[0m\u001b[0mcompile_extra\u001b[0m\u001b[0;34m(\u001b[0m\u001b[0mfunc\u001b[0m\u001b[0;34m)\u001b[0m\u001b[0;34m\u001b[0m\u001b[0m\n\u001b[0m\u001b[1;32m    726\u001b[0m \u001b[0;34m\u001b[0m\u001b[0m\n\u001b[1;32m    727\u001b[0m \u001b[0;34m\u001b[0m\u001b[0m\n",
      "\u001b[0;32m/Users/stan/anaconda/envs/python3/lib/python3.5/site-packages/numba/compiler.py\u001b[0m in \u001b[0;36mcompile_extra\u001b[0;34m(self, func)\u001b[0m\n\u001b[1;32m    367\u001b[0m                 \u001b[0;32mraise\u001b[0m \u001b[0me\u001b[0m\u001b[0;34m\u001b[0m\u001b[0m\n\u001b[1;32m    368\u001b[0m \u001b[0;34m\u001b[0m\u001b[0m\n\u001b[0;32m--> 369\u001b[0;31m         \u001b[0;32mreturn\u001b[0m \u001b[0mself\u001b[0m\u001b[0;34m.\u001b[0m\u001b[0mcompile_bytecode\u001b[0m\u001b[0;34m(\u001b[0m\u001b[0mbc\u001b[0m\u001b[0;34m,\u001b[0m \u001b[0mfunc_attr\u001b[0m\u001b[0;34m=\u001b[0m\u001b[0mself\u001b[0m\u001b[0;34m.\u001b[0m\u001b[0mfunc_attr\u001b[0m\u001b[0;34m)\u001b[0m\u001b[0;34m\u001b[0m\u001b[0m\n\u001b[0m\u001b[1;32m    370\u001b[0m \u001b[0;34m\u001b[0m\u001b[0m\n\u001b[1;32m    371\u001b[0m     def compile_bytecode(self, bc, lifted=(), lifted_from=None,\n",
      "\u001b[0;32m/Users/stan/anaconda/envs/python3/lib/python3.5/site-packages/numba/compiler.py\u001b[0m in \u001b[0;36mcompile_bytecode\u001b[0;34m(self, bc, lifted, lifted_from, func_attr)\u001b[0m\n\u001b[1;32m    376\u001b[0m         \u001b[0mself\u001b[0m\u001b[0;34m.\u001b[0m\u001b[0mlifted_from\u001b[0m \u001b[0;34m=\u001b[0m \u001b[0mlifted_from\u001b[0m\u001b[0;34m\u001b[0m\u001b[0m\n\u001b[1;32m    377\u001b[0m         \u001b[0mself\u001b[0m\u001b[0;34m.\u001b[0m\u001b[0mfunc_attr\u001b[0m \u001b[0;34m=\u001b[0m \u001b[0mfunc_attr\u001b[0m\u001b[0;34m\u001b[0m\u001b[0m\n\u001b[0;32m--> 378\u001b[0;31m         \u001b[0;32mreturn\u001b[0m \u001b[0mself\u001b[0m\u001b[0;34m.\u001b[0m\u001b[0m_compile_bytecode\u001b[0m\u001b[0;34m(\u001b[0m\u001b[0;34m)\u001b[0m\u001b[0;34m\u001b[0m\u001b[0m\n\u001b[0m\u001b[1;32m    379\u001b[0m \u001b[0;34m\u001b[0m\u001b[0m\n\u001b[1;32m    380\u001b[0m     def compile_ir(self, interp, lifted=(), lifted_from=None,\n",
      "\u001b[0;32m/Users/stan/anaconda/envs/python3/lib/python3.5/site-packages/numba/compiler.py\u001b[0m in \u001b[0;36m_compile_bytecode\u001b[0;34m(self)\u001b[0m\n\u001b[1;32m    688\u001b[0m         \"\"\"\n\u001b[1;32m    689\u001b[0m         \u001b[0;32massert\u001b[0m \u001b[0mself\u001b[0m\u001b[0;34m.\u001b[0m\u001b[0minterp\u001b[0m \u001b[0;32mis\u001b[0m \u001b[0;32mNone\u001b[0m\u001b[0;34m\u001b[0m\u001b[0m\n\u001b[0;32m--> 690\u001b[0;31m         \u001b[0;32mreturn\u001b[0m \u001b[0mself\u001b[0m\u001b[0;34m.\u001b[0m\u001b[0m_compile_core\u001b[0m\u001b[0;34m(\u001b[0m\u001b[0;34m)\u001b[0m\u001b[0;34m\u001b[0m\u001b[0m\n\u001b[0m\u001b[1;32m    691\u001b[0m \u001b[0;34m\u001b[0m\u001b[0m\n\u001b[1;32m    692\u001b[0m     \u001b[0;32mdef\u001b[0m \u001b[0m_compile_ir\u001b[0m\u001b[0;34m(\u001b[0m\u001b[0mself\u001b[0m\u001b[0;34m)\u001b[0m\u001b[0;34m:\u001b[0m\u001b[0;34m\u001b[0m\u001b[0m\n",
      "\u001b[0;32m/Users/stan/anaconda/envs/python3/lib/python3.5/site-packages/numba/compiler.py\u001b[0m in \u001b[0;36m_compile_core\u001b[0;34m(self)\u001b[0m\n\u001b[1;32m    675\u001b[0m \u001b[0;34m\u001b[0m\u001b[0m\n\u001b[1;32m    676\u001b[0m         \u001b[0mpm\u001b[0m\u001b[0;34m.\u001b[0m\u001b[0mfinalize\u001b[0m\u001b[0;34m(\u001b[0m\u001b[0;34m)\u001b[0m\u001b[0;34m\u001b[0m\u001b[0m\n\u001b[0;32m--> 677\u001b[0;31m         \u001b[0mres\u001b[0m \u001b[0;34m=\u001b[0m \u001b[0mpm\u001b[0m\u001b[0;34m.\u001b[0m\u001b[0mrun\u001b[0m\u001b[0;34m(\u001b[0m\u001b[0mself\u001b[0m\u001b[0;34m.\u001b[0m\u001b[0mstatus\u001b[0m\u001b[0;34m)\u001b[0m\u001b[0;34m\u001b[0m\u001b[0m\n\u001b[0m\u001b[1;32m    678\u001b[0m         \u001b[0;32mif\u001b[0m \u001b[0mres\u001b[0m \u001b[0;32mis\u001b[0m \u001b[0;32mnot\u001b[0m \u001b[0;32mNone\u001b[0m\u001b[0;34m:\u001b[0m\u001b[0;34m\u001b[0m\u001b[0m\n\u001b[1;32m    679\u001b[0m             \u001b[0;31m# Early pipeline completion\u001b[0m\u001b[0;34m\u001b[0m\u001b[0;34m\u001b[0m\u001b[0m\n",
      "\u001b[0;32m/Users/stan/anaconda/envs/python3/lib/python3.5/site-packages/numba/compiler.py\u001b[0m in \u001b[0;36mrun\u001b[0;34m(self, status)\u001b[0m\n\u001b[1;32m    255\u001b[0m                     \u001b[0;31m# No more fallback pipelines?\u001b[0m\u001b[0;34m\u001b[0m\u001b[0;34m\u001b[0m\u001b[0m\n\u001b[1;32m    256\u001b[0m                     \u001b[0;32mif\u001b[0m \u001b[0mis_final_pipeline\u001b[0m\u001b[0;34m:\u001b[0m\u001b[0;34m\u001b[0m\u001b[0m\n\u001b[0;32m--> 257\u001b[0;31m                         \u001b[0;32mraise\u001b[0m \u001b[0mpatched_exception\u001b[0m\u001b[0;34m\u001b[0m\u001b[0m\n\u001b[0m\u001b[1;32m    258\u001b[0m                     \u001b[0;31m# Go to next fallback pipeline\u001b[0m\u001b[0;34m\u001b[0m\u001b[0;34m\u001b[0m\u001b[0m\n\u001b[1;32m    259\u001b[0m                     \u001b[0;32melse\u001b[0m\u001b[0;34m:\u001b[0m\u001b[0;34m\u001b[0m\u001b[0m\n",
      "\u001b[0;32m/Users/stan/anaconda/envs/python3/lib/python3.5/site-packages/numba/compiler.py\u001b[0m in \u001b[0;36mrun\u001b[0;34m(self, status)\u001b[0m\n\u001b[1;32m    247\u001b[0m                 \u001b[0;32mtry\u001b[0m\u001b[0;34m:\u001b[0m\u001b[0;34m\u001b[0m\u001b[0m\n\u001b[1;32m    248\u001b[0m                     \u001b[0mevent\u001b[0m\u001b[0;34m(\u001b[0m\u001b[0mstage_name\u001b[0m\u001b[0;34m)\u001b[0m\u001b[0;34m\u001b[0m\u001b[0m\n\u001b[0;32m--> 249\u001b[0;31m                     \u001b[0mstage\u001b[0m\u001b[0;34m(\u001b[0m\u001b[0;34m)\u001b[0m\u001b[0;34m\u001b[0m\u001b[0m\n\u001b[0m\u001b[1;32m    250\u001b[0m                 \u001b[0;32mexcept\u001b[0m \u001b[0m_EarlyPipelineCompletion\u001b[0m \u001b[0;32mas\u001b[0m \u001b[0me\u001b[0m\u001b[0;34m:\u001b[0m\u001b[0;34m\u001b[0m\u001b[0m\n\u001b[1;32m    251\u001b[0m                     \u001b[0;32mreturn\u001b[0m \u001b[0me\u001b[0m\u001b[0;34m.\u001b[0m\u001b[0mresult\u001b[0m\u001b[0;34m\u001b[0m\u001b[0m\n",
      "\u001b[0;32m/Users/stan/anaconda/envs/python3/lib/python3.5/site-packages/numba/compiler.py\u001b[0m in \u001b[0;36mstage_nopython_frontend\u001b[0;34m(self)\u001b[0m\n\u001b[1;32m    474\u001b[0m                 \u001b[0mself\u001b[0m\u001b[0;34m.\u001b[0m\u001b[0margs\u001b[0m\u001b[0;34m,\u001b[0m\u001b[0;34m\u001b[0m\u001b[0m\n\u001b[1;32m    475\u001b[0m                 \u001b[0mself\u001b[0m\u001b[0;34m.\u001b[0m\u001b[0mreturn_type\u001b[0m\u001b[0;34m,\u001b[0m\u001b[0;34m\u001b[0m\u001b[0m\n\u001b[0;32m--> 476\u001b[0;31m                 self.locals)\n\u001b[0m\u001b[1;32m    477\u001b[0m \u001b[0;34m\u001b[0m\u001b[0m\n\u001b[1;32m    478\u001b[0m         with self.fallback_context('Function \"%s\" has invalid return type'\n",
      "\u001b[0;32m/Users/stan/anaconda/envs/python3/lib/python3.5/site-packages/numba/compiler.py\u001b[0m in \u001b[0;36mtype_inference_stage\u001b[0;34m(typingctx, interp, args, return_type, locals)\u001b[0m\n\u001b[1;32m    826\u001b[0m \u001b[0;34m\u001b[0m\u001b[0m\n\u001b[1;32m    827\u001b[0m     \u001b[0minfer\u001b[0m\u001b[0;34m.\u001b[0m\u001b[0mbuild_constraint\u001b[0m\u001b[0;34m(\u001b[0m\u001b[0;34m)\u001b[0m\u001b[0;34m\u001b[0m\u001b[0m\n\u001b[0;32m--> 828\u001b[0;31m     \u001b[0minfer\u001b[0m\u001b[0;34m.\u001b[0m\u001b[0mpropagate\u001b[0m\u001b[0;34m(\u001b[0m\u001b[0;34m)\u001b[0m\u001b[0;34m\u001b[0m\u001b[0m\n\u001b[0m\u001b[1;32m    829\u001b[0m     \u001b[0mtypemap\u001b[0m\u001b[0;34m,\u001b[0m \u001b[0mrestype\u001b[0m\u001b[0;34m,\u001b[0m \u001b[0mcalltypes\u001b[0m \u001b[0;34m=\u001b[0m \u001b[0minfer\u001b[0m\u001b[0;34m.\u001b[0m\u001b[0munify\u001b[0m\u001b[0;34m(\u001b[0m\u001b[0;34m)\u001b[0m\u001b[0;34m\u001b[0m\u001b[0m\n\u001b[1;32m    830\u001b[0m \u001b[0;34m\u001b[0m\u001b[0m\n",
      "\u001b[0;32m/Users/stan/anaconda/envs/python3/lib/python3.5/site-packages/numba/typeinfer.py\u001b[0m in \u001b[0;36mpropagate\u001b[0;34m(self)\u001b[0m\n\u001b[1;32m    715\u001b[0m             \u001b[0mself\u001b[0m\u001b[0;34m.\u001b[0m\u001b[0mdebug\u001b[0m\u001b[0;34m.\u001b[0m\u001b[0mpropagate_finished\u001b[0m\u001b[0;34m(\u001b[0m\u001b[0;34m)\u001b[0m\u001b[0;34m\u001b[0m\u001b[0m\n\u001b[1;32m    716\u001b[0m         \u001b[0;32mif\u001b[0m \u001b[0merrors\u001b[0m\u001b[0;34m:\u001b[0m\u001b[0;34m\u001b[0m\u001b[0m\n\u001b[0;32m--> 717\u001b[0;31m             \u001b[0;32mraise\u001b[0m \u001b[0merrors\u001b[0m\u001b[0;34m[\u001b[0m\u001b[0;36m0\u001b[0m\u001b[0;34m]\u001b[0m\u001b[0;34m\u001b[0m\u001b[0m\n\u001b[0m\u001b[1;32m    718\u001b[0m \u001b[0;34m\u001b[0m\u001b[0m\n\u001b[1;32m    719\u001b[0m     \u001b[0;32mdef\u001b[0m \u001b[0madd_type\u001b[0m\u001b[0;34m(\u001b[0m\u001b[0mself\u001b[0m\u001b[0;34m,\u001b[0m \u001b[0mvar\u001b[0m\u001b[0;34m,\u001b[0m \u001b[0mtp\u001b[0m\u001b[0;34m,\u001b[0m \u001b[0mloc\u001b[0m\u001b[0;34m,\u001b[0m \u001b[0munless_locked\u001b[0m\u001b[0;34m=\u001b[0m\u001b[0;32mFalse\u001b[0m\u001b[0;34m)\u001b[0m\u001b[0;34m:\u001b[0m\u001b[0;34m\u001b[0m\u001b[0m\n",
      "\u001b[0;32m/Users/stan/anaconda/envs/python3/lib/python3.5/site-packages/numba/typeinfer.py\u001b[0m in \u001b[0;36mpropagate\u001b[0;34m(self, typeinfer)\u001b[0m\n\u001b[1;32m    125\u001b[0m                                                    lineno=loc.line):\n\u001b[1;32m    126\u001b[0m                 \u001b[0;32mtry\u001b[0m\u001b[0;34m:\u001b[0m\u001b[0;34m\u001b[0m\u001b[0m\n\u001b[0;32m--> 127\u001b[0;31m                     \u001b[0mconstraint\u001b[0m\u001b[0;34m(\u001b[0m\u001b[0mtypeinfer\u001b[0m\u001b[0;34m)\u001b[0m\u001b[0;34m\u001b[0m\u001b[0m\n\u001b[0m\u001b[1;32m    128\u001b[0m                 \u001b[0;32mexcept\u001b[0m \u001b[0mTypingError\u001b[0m \u001b[0;32mas\u001b[0m \u001b[0me\u001b[0m\u001b[0;34m:\u001b[0m\u001b[0;34m\u001b[0m\u001b[0m\n\u001b[1;32m    129\u001b[0m                     \u001b[0merrors\u001b[0m\u001b[0;34m.\u001b[0m\u001b[0mappend\u001b[0m\u001b[0;34m(\u001b[0m\u001b[0me\u001b[0m\u001b[0;34m)\u001b[0m\u001b[0;34m\u001b[0m\u001b[0m\n",
      "\u001b[0;32m/Users/stan/anaconda/envs/python3/lib/python3.5/site-packages/numba/typeinfer.py\u001b[0m in \u001b[0;36m__call__\u001b[0;34m(self, typeinfer)\u001b[0m\n\u001b[1;32m    446\u001b[0m                 \u001b[0mattrty\u001b[0m \u001b[0;34m=\u001b[0m \u001b[0mtypeinfer\u001b[0m\u001b[0;34m.\u001b[0m\u001b[0mcontext\u001b[0m\u001b[0;34m.\u001b[0m\u001b[0mresolve_getattr\u001b[0m\u001b[0;34m(\u001b[0m\u001b[0mty\u001b[0m\u001b[0;34m,\u001b[0m \u001b[0mself\u001b[0m\u001b[0;34m.\u001b[0m\u001b[0mattr\u001b[0m\u001b[0;34m)\u001b[0m\u001b[0;34m\u001b[0m\u001b[0m\n\u001b[1;32m    447\u001b[0m                 \u001b[0;32mif\u001b[0m \u001b[0mattrty\u001b[0m \u001b[0;32mis\u001b[0m \u001b[0;32mNone\u001b[0m\u001b[0;34m:\u001b[0m\u001b[0;34m\u001b[0m\u001b[0m\n\u001b[0;32m--> 448\u001b[0;31m                     \u001b[0;32mraise\u001b[0m \u001b[0mUntypedAttributeError\u001b[0m\u001b[0;34m(\u001b[0m\u001b[0mty\u001b[0m\u001b[0;34m,\u001b[0m \u001b[0mself\u001b[0m\u001b[0;34m.\u001b[0m\u001b[0mattr\u001b[0m\u001b[0;34m,\u001b[0m \u001b[0mloc\u001b[0m\u001b[0;34m=\u001b[0m\u001b[0mself\u001b[0m\u001b[0;34m.\u001b[0m\u001b[0minst\u001b[0m\u001b[0;34m.\u001b[0m\u001b[0mloc\u001b[0m\u001b[0;34m)\u001b[0m\u001b[0;34m\u001b[0m\u001b[0m\n\u001b[0m\u001b[1;32m    449\u001b[0m                 \u001b[0;32melse\u001b[0m\u001b[0;34m:\u001b[0m\u001b[0;34m\u001b[0m\u001b[0m\n\u001b[1;32m    450\u001b[0m                     \u001b[0mtypeinfer\u001b[0m\u001b[0;34m.\u001b[0m\u001b[0madd_type\u001b[0m\u001b[0;34m(\u001b[0m\u001b[0mself\u001b[0m\u001b[0;34m.\u001b[0m\u001b[0mtarget\u001b[0m\u001b[0;34m,\u001b[0m \u001b[0mattrty\u001b[0m\u001b[0;34m,\u001b[0m \u001b[0mloc\u001b[0m\u001b[0;34m=\u001b[0m\u001b[0mself\u001b[0m\u001b[0;34m.\u001b[0m\u001b[0mloc\u001b[0m\u001b[0;34m)\u001b[0m\u001b[0;34m\u001b[0m\u001b[0m\n",
      "\u001b[0;31mUntypedAttributeError\u001b[0m: Failed at nopython (nopython frontend)\nUnknown attribute 'x' of type pyobject\nFile \"<ipython-input-30-99c680a668e7>\", line 5\n[1] During: typing of get attribute at <ipython-input-30-99c680a668e7> (5)\n\nThis error may have been caused by the following argument(s):\n- argument 0: cannot determine Numba type of value <__main__.MyInt object at 0x10df3d048>\n- argument 1: cannot determine Numba type of value <__main__.MyInt object at 0x10df3d080>\n"
     ]
    }
   ],
   "source": [
    "# This will fail\n",
    "add_object_jit(a, b, 5)"
   ]
  },
  {
   "cell_type": "code",
   "execution_count": null,
   "metadata": {
    "collapsed": true
   },
   "outputs": [],
   "source": [
    "from numba import njit"
   ]
  },
  {
   "cell_type": "code",
   "execution_count": null,
   "metadata": {
    "collapsed": true
   },
   "outputs": [],
   "source": [
    "add_object_jit = njit(add_object_n2_times)"
   ]
  },
  {
   "cell_type": "code",
   "execution_count": null,
   "metadata": {
    "collapsed": false
   },
   "outputs": [],
   "source": [
    "# This will also fail\n",
    "add_object_jit(a, b, 5)"
   ]
  },
  {
   "cell_type": "markdown",
   "metadata": {},
   "source": [
    "## Other compilation flags"
   ]
  },
  {
   "cell_type": "markdown",
   "metadata": {},
   "source": [
    "There are two other main compilation flags for `@jit`\n",
    "\n",
    "```python\n",
    "cache=True\n",
    "```\n",
    "\n",
    "if you don't want to always want to get dinged by the compilation time for every run"
   ]
  },
  {
   "cell_type": "markdown",
   "metadata": {},
   "source": [
    "```python\n",
    "nogil=True\n",
    "```\n",
    "\n",
    "This releases the GIL.  Note, however, that it doesn't do anything else, like make your program threadsafe.  You have to manage all of those things on your own (use `concurrent.futures`)."
   ]
  }
 ],
 "metadata": {
  "anaconda-cloud": {},
  "kernelspec": {
   "display_name": "Python [conda env:python3]",
   "language": "python",
   "name": "conda-env-python3-py"
  },
  "language_info": {
   "codemirror_mode": {
    "name": "ipython",
    "version": 3
   },
   "file_extension": ".py",
   "mimetype": "text/x-python",
   "name": "python",
   "nbconvert_exporter": "python",
   "pygments_lexer": "ipython3",
   "version": "3.5.2"
  }
 },
 "nbformat": 4,
 "nbformat_minor": 0
}
