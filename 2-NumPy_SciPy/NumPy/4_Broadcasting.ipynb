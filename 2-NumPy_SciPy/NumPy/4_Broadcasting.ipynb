{
 "cells": [
  {
   "cell_type": "markdown",
   "metadata": {},
   "source": [
    "# Table of Contents\n",
    "* [Learning Objectives:](#Learning-Objectives:)\n",
    "\t* [Some Simple Setup](#Some-Simple-Setup)\n",
    "* [Broadcasting](#Broadcasting)\n",
    "\t* [What are the rules for broadcasting?](#What-are-the-rules-for-broadcasting?)\n"
   ]
  },
  {
   "cell_type": "markdown",
   "metadata": {},
   "source": [
    "# Learning Objectives:"
   ]
  },
  {
   "cell_type": "markdown",
   "metadata": {},
   "source": [
    "After completion of this module, learners should be able to:\n",
    "\n",
    "* use and explain *broadcasting* in numpy"
   ]
  },
  {
   "cell_type": "markdown",
   "metadata": {},
   "source": [
    "## Some Simple Setup"
   ]
  },
  {
   "cell_type": "code",
   "execution_count": null,
   "metadata": {
    "collapsed": true
   },
   "outputs": [],
   "source": [
    "%matplotlib inline\n",
    "\n",
    "import numpy as np\n",
    "import matplotlib.pyplot as plt\n",
    "import os.path as osp\n",
    "import numpy.random as npr\n",
    "vsep = \"\\n-------------------\\n\"\n",
    "\n",
    "def dump_array(arr):\n",
    "    print(\"%s array of %s:\" % (arr.shape, arr.dtype))\n",
    "    print(arr)"
   ]
  },
  {
   "cell_type": "markdown",
   "metadata": {},
   "source": [
    "# Broadcasting"
   ]
  },
  {
   "cell_type": "markdown",
   "metadata": {},
   "source": [
    "Broadcasting lets arrays with *different but compatible* shapes be arguments to *ufuncs*."
   ]
  },
  {
   "cell_type": "code",
   "execution_count": null,
   "metadata": {
    "collapsed": false
   },
   "outputs": [],
   "source": [
    "arr1 = np.arange(5)\n",
    "print(\"arr1:\\n\", arr1, end=vsep)\n",
    "\n",
    "print(\"arr1 + scalar:\\n\", arr1+10, end=vsep)\n",
    "\n",
    "print(\"arr1 + arr1 (same shape):\\n\", arr1+arr1, end=vsep)\n",
    "\n",
    "arr2 = np.arange(5).reshape(5,1) * 10\n",
    "arr3 = np.arange(5).reshape(1,5) * 100\n",
    "print(\"arr2:\\n\", arr2)\n",
    "print(\"arr3:\\n\", arr3, end=vsep)\n",
    "\n",
    "print(\"arr1 + arr2 [ %s + %s --> %s ]:\" % \n",
    "      (arr1.shape, arr2.shape, (arr1 + arr2).shape))\n",
    "print(arr1+arr2, end=vsep)\n",
    "print(\"arr1 + arr3 [ %s + %s --> %s ]:\" % \n",
    "      (arr1.shape, arr3.shape, (arr1 + arr3).shape))\n",
    "print(arr1+arr3)"
   ]
  },
  {
   "cell_type": "code",
   "execution_count": null,
   "metadata": {
    "collapsed": false
   },
   "outputs": [],
   "source": [
    "arr1 = np.arange(6).reshape(3,2)\n",
    "arr2 = np.arange(10, 40, 10).reshape(3,1)\n",
    "\n",
    "print(\"arr1:\")\n",
    "dump_array(arr1)\n",
    "print(\"\\narr2:\")\n",
    "dump_array(arr2)\n",
    "print(\"\\narr1 + arr2:\")\n",
    "print(arr1+arr2)"
   ]
  },
  {
   "cell_type": "markdown",
   "metadata": {},
   "source": [
    "Here, an array of shape `(3, 1)` is broadcast to an array with shape `(3, 2)`\n",
    "\n",
    "![](files/img/broadcasting2D.lightbg.scaled-noalpha.png)"
   ]
  },
  {
   "cell_type": "markdown",
   "metadata": {},
   "source": [
    "## What are the rules for broadcasting? "
   ]
  },
  {
   "cell_type": "markdown",
   "metadata": {},
   "source": [
    "In order for an operation to broadcast, the size of all the trailing dimensions for both arrays must either be *equal* or be *one*.  Dimensions that are one and dimensions that are missing from the \"head\" are duplicated to match the larger number.  So, we have:\n",
    "\n",
    "|Array             |Shape          |\n",
    "|:------------------|---------------:|\n",
    "|A      (1d array)|              3|\n",
    "|B      (2d array)|          2 x 3|\n",
    "|Result (2d array)|          2 x 3|\n",
    "\n",
    "|Array             |Shape          |\n",
    "|:------------------|-------------:|\n",
    "|A      (2d array)|          6 x 1|\n",
    "|B      (3d array)|      1 x 6 x 4|\n",
    "|Result (3d array)|      1 x 6 x 4|\n",
    "\n",
    "|Array             |Shape          |\n",
    "|:-----------------|---------------:|\n",
    "|A      (4d array)|  3 x 1 x 6 x 1|\n",
    "|B      (3d array)|      2 x 1 x 4|\n",
    "|Result (4d array)|  3 x 2 x 6 x 4|"
   ]
  },
  {
   "cell_type": "markdown",
   "metadata": {},
   "source": [
    "Some other interpretations of compatibility:\n",
    "    \n",
    "  *  Tails must be the same, ones are wild.\n",
    "  \n",
    "\n",
    "  *  If one shape is shorter than the other, pad the shorter shape on the LHS with `1`s.\n",
    "    * Now, from the right, the shapes must be identical with ones acting as wild cards."
   ]
  },
  {
   "cell_type": "code",
   "execution_count": null,
   "metadata": {
    "collapsed": false
   },
   "outputs": [],
   "source": [
    "a1 = np.array([1,2,3])       # 3 -> 1x3\n",
    "b1 = np.array([[10, 20, 30], # 2x3\n",
    "               [40, 50, 60]]) \n",
    "print(a1+b1)"
   ]
  },
  {
   "cell_type": "code",
   "execution_count": null,
   "metadata": {
    "collapsed": false
   },
   "outputs": [],
   "source": [
    "result = (np.ones((  6,1)) +  # 3rd dimension replicated\n",
    "          np.ones((1,6,4)))\n",
    "print(result.shape)\n",
    "\n",
    "result = (np.ones((3,6,1)) + \n",
    "          np.ones((1,6,4)))   # 1st and 3rd dimension replicated\n",
    "print(result.shape)"
   ]
  },
  {
   "cell_type": "markdown",
   "metadata": {},
   "source": [
    "Sometimes, it is useful to explicitly insert a new dimension in the shape.  We can do this with a fancy slice that takes the value `np.newaxis`."
   ]
  },
  {
   "cell_type": "code",
   "execution_count": null,
   "metadata": {
    "collapsed": false,
    "raises": "ValueError"
   },
   "outputs": [],
   "source": [
    "arr1 = np.arange(6).reshape((2,3))  # 2x3\n",
    "arr2 = np.array([10, 100])          #   2\n",
    "arr1 + arr2"
   ]
  },
  {
   "cell_type": "code",
   "execution_count": null,
   "metadata": {
    "collapsed": false
   },
   "outputs": [],
   "source": [
    "# let's massage the shape\n",
    "arr3 = arr2[:, np.newaxis] # arr2 -> 2x1\n",
    "print(\"arr3 shape:\", arr3.shape)\n",
    "print(\"arr1 + arr3\")\n",
    "print(arr1+arr3)"
   ]
  },
  {
   "cell_type": "code",
   "execution_count": null,
   "metadata": {
    "collapsed": false
   },
   "outputs": [],
   "source": [
    "arr = np.array([10, 100])\n",
    "print(\"original shape:\", arr.shape)\n",
    "\n",
    "arrNew = arr2[np.newaxis, :]\n",
    "print(\"arrNew shape:\", arrNew.shape)"
   ]
  },
  {
   "cell_type": "code",
   "execution_count": null,
   "metadata": {
    "collapsed": false
   },
   "outputs": [],
   "source": [
    "arr1 = np.arange(0,6).reshape(2,3)\n",
    "arr2 = np.arange(10,22).reshape(4,3)\n",
    "np.tile(arr1, (2,1)) * arr2"
   ]
  },
  {
   "cell_type": "code",
   "execution_count": null,
   "metadata": {
    "collapsed": true
   },
   "outputs": [],
   "source": []
  }
 ],
 "metadata": {
  "celltoolbar": "Edit Metadata",
  "continuum": {
   "depends": [
    "np_slicing",
    "np_intro",
    "np_vectorization",
    "ip_essentials",
    "ip_datatypes"
   ],
   "requires": [
    "img/broadcasting2D.lightbg.scaled-noalpha.png"
   ],
   "tag": "np_broadcast"
  },
  "kernelspec": {
   "display_name": "Python 2",
   "language": "python",
   "name": "python2"
  },
  "language_info": {
   "codemirror_mode": {
    "name": "ipython",
    "version": 2
   },
   "file_extension": ".py",
   "mimetype": "text/x-python",
   "name": "python",
   "nbconvert_exporter": "python",
   "pygments_lexer": "ipython2",
   "version": "2.7.11"
  }
 },
 "nbformat": 4,
 "nbformat_minor": 0
}
