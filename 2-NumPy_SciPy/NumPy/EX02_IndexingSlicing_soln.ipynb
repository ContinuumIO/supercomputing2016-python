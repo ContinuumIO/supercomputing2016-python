{
 "cells": [
  {
   "cell_type": "markdown",
   "metadata": {},
   "source": [
    "# Table of Contents\n",
    "* [Exercise: Numpy Indexing and Slicing](#Exercise:-Numpy-Indexing-and-Slicing)\n",
    "\t* [Part 1: Slicing](#Part-1:-Slicing)\n",
    "\t* [Part 2: Indexing and Assignment](#Part-2:-Indexing-and-Assignment)\n",
    "\t* [Part 3: Shift an Array](#Part-3:-Shift-an-Array)\n",
    "\t* [Part 4: Element Replacement](#Part-4:-Element-Replacement)\n",
    "* [Exercise: Optional Parts](#Exercise:-Optional-Parts)\n",
    "\t* [Optional Part 5: Replacing Rows](#Optional-Part-5:-Replacing-Rows)\n",
    "\t* [Optional Part 6: Replacing Columns](#Optional-Part-6:-Replacing-Columns)\n"
   ]
  },
  {
   "cell_type": "markdown",
   "metadata": {},
   "source": [
    "# Exercise: Numpy Indexing and Slicing"
   ]
  },
  {
   "cell_type": "code",
   "execution_count": null,
   "metadata": {
    "collapsed": true
   },
   "outputs": [],
   "source": [
    "import numpy as np"
   ]
  },
  {
   "cell_type": "markdown",
   "metadata": {},
   "source": [
    "## Part 1: Slicing"
   ]
  },
  {
   "cell_type": "markdown",
   "metadata": {},
   "source": [
    "Let a = np.arange(200)\n",
    "  1. access the last element of the array\n",
    "  1. slice all but the last element of the array\n",
    "  1. slice the last 5 elements of the array\n",
    "  1. slice the first 5 elements of the array"
   ]
  },
  {
   "cell_type": "code",
   "execution_count": null,
   "metadata": {
    "collapsed": false
   },
   "outputs": [],
   "source": [
    "# Solution 1:\n",
    "\n",
    "a = np.arange(200)"
   ]
  },
  {
   "cell_type": "code",
   "execution_count": null,
   "metadata": {
    "collapsed": false
   },
   "outputs": [],
   "source": [
    "# Solution 1.1: access the last element\n",
    "a[-1]"
   ]
  },
  {
   "cell_type": "code",
   "execution_count": null,
   "metadata": {
    "collapsed": false
   },
   "outputs": [],
   "source": [
    "# Solution 1.2: slice all but last element\n",
    "a[:-1]"
   ]
  },
  {
   "cell_type": "code",
   "execution_count": null,
   "metadata": {
    "collapsed": false
   },
   "outputs": [],
   "source": [
    "# Solution 1.3: slice the last 5 elements\n",
    "a[-5:]"
   ]
  },
  {
   "cell_type": "code",
   "execution_count": null,
   "metadata": {
    "collapsed": false
   },
   "outputs": [],
   "source": [
    "# Solution 1.4: slice the first 5 elements\n",
    "a[:5]"
   ]
  },
  {
   "cell_type": "markdown",
   "metadata": {},
   "source": [
    "## Part 2: Indexing and Assignment"
   ]
  },
  {
   "cell_type": "markdown",
   "metadata": {},
   "source": [
    "Create a sample array with shape (3,4).\n",
    "  1. Using single item assignments, place your favorite number in the four corners.\n",
    "  1. Make the first column equal to -1.\n",
    "  1. Make the last row equal to 99.\n",
    "  1. Make a 2x2 block in the bottom-center contain the values .25, .5, .75, and 1.0\n",
    "  1. Replace a row with the values:  2, 4, 8, and 16."
   ]
  },
  {
   "cell_type": "code",
   "execution_count": null,
   "metadata": {
    "collapsed": false
   },
   "outputs": [],
   "source": [
    "# Solution 2:\n",
    "\n",
    "a = np.zeros(12).reshape(3,4)\n",
    "a"
   ]
  },
  {
   "cell_type": "code",
   "execution_count": null,
   "metadata": {
    "collapsed": false
   },
   "outputs": [],
   "source": [
    "# Solution 2.1: favorite number in four corners\n",
    "a[0,0] = 42\n",
    "a[0,-1] = 42\n",
    "a[-1,0] = 42\n",
    "a[-1,-1] = 42\n",
    "a"
   ]
  },
  {
   "cell_type": "code",
   "execution_count": null,
   "metadata": {
    "collapsed": false
   },
   "outputs": [],
   "source": [
    "# Solution 2.2: first column equal to -1\n",
    "a[:,0] = -1\n",
    "a"
   ]
  },
  {
   "cell_type": "code",
   "execution_count": null,
   "metadata": {
    "collapsed": false
   },
   "outputs": [],
   "source": [
    "# Solution 2.3: last row equal to 99\n",
    "a[-1,:] = 99\n",
    "a"
   ]
  },
  {
   "cell_type": "code",
   "execution_count": null,
   "metadata": {
    "collapsed": false
   },
   "outputs": [],
   "source": [
    "# Solution 2.4: make a 2x2 block in bottom-center with values .25, .5, .75, and 1.0\n",
    "a[1:,1:3] = [[0.25,0.5],[0.75,1.0]]\n",
    "a"
   ]
  },
  {
   "cell_type": "code",
   "execution_count": null,
   "metadata": {
    "collapsed": false
   },
   "outputs": [],
   "source": [
    "# Solution 2.5: Replace a row with the values: 2, 4, 8, and 16.\n",
    "a[0,:] = [2,4,8,16]\n",
    "a"
   ]
  },
  {
   "cell_type": "markdown",
   "metadata": {},
   "source": [
    "## Part 3: Shift an Array"
   ]
  },
  {
   "cell_type": "markdown",
   "metadata": {},
   "source": [
    "We used slicing to do a right shift on a 1-D array.  Do a left shift on a 1-D array."
   ]
  },
  {
   "cell_type": "code",
   "execution_count": null,
   "metadata": {
    "collapsed": false
   },
   "outputs": [],
   "source": [
    "# Solution 3: don't use slicing for everything\n",
    "a = np.array([1,2,3,4])\n",
    "print(a)\n",
    "\n",
    "b = np.roll(a,-1)\n",
    "print(b)"
   ]
  },
  {
   "cell_type": "markdown",
   "metadata": {},
   "source": [
    "## Part 4: Element Replacement"
   ]
  },
  {
   "cell_type": "markdown",
   "metadata": {},
   "source": [
    "Can you replace every element of an array with a particular value (say, 42.0)."
   ]
  },
  {
   "cell_type": "code",
   "execution_count": null,
   "metadata": {
    "collapsed": false
   },
   "outputs": [],
   "source": [
    "# Solution 4:\n",
    "b[:] = 42\n",
    "b"
   ]
  },
  {
   "cell_type": "markdown",
   "metadata": {},
   "source": [
    "# Exercise: Optional Parts"
   ]
  },
  {
   "cell_type": "markdown",
   "metadata": {},
   "source": [
    "These two are more difficult.  We won't answer them now (we will revisit them in a bit), but see if you can figure them out."
   ]
  },
  {
   "cell_type": "markdown",
   "metadata": {},
   "source": [
    "## Optional Part 5: Replacing Rows"
   ]
  },
  {
   "cell_type": "markdown",
   "metadata": {},
   "source": [
    "Can you replace every row with a particular row (for example, 2, 4, 8, 16)?"
   ]
  },
  {
   "cell_type": "code",
   "execution_count": null,
   "metadata": {
    "collapsed": false
   },
   "outputs": [],
   "source": [
    "# Solution 5:\n",
    "a = np.zeros(12).reshape(3,4)\n",
    "a"
   ]
  },
  {
   "cell_type": "code",
   "execution_count": null,
   "metadata": {
    "collapsed": false
   },
   "outputs": [],
   "source": [
    "a[:,:] = [2,4,8,16]\n",
    "a"
   ]
  },
  {
   "cell_type": "markdown",
   "metadata": {},
   "source": [
    "## Optional Part 6: Replacing Columns"
   ]
  },
  {
   "cell_type": "markdown",
   "metadata": {},
   "source": [
    "[Don't strain yourself]  Can you replace every column with a particular column?"
   ]
  },
  {
   "cell_type": "code",
   "execution_count": null,
   "metadata": {
    "collapsed": false
   },
   "outputs": [],
   "source": [
    "# Solution 6: prep\n",
    "a = np.arange(12).reshape(3,4)\n",
    "a"
   ]
  },
  {
   "cell_type": "code",
   "execution_count": null,
   "metadata": {
    "collapsed": false
   },
   "outputs": [],
   "source": [
    "# Solution 6: soln\n",
    "for col in range(a.shape[1]):\n",
    "    a[:, col] = a[:,1]\n",
    "\n",
    "print(a)"
   ]
  }
 ],
 "metadata": {
  "continuum": {
   "depends": [
    "np_slicing",
    "np_intro",
    "np_ex_slicing",
    "ip_essentials",
    "ip_datatypes"
   ],
   "requires": [],
   "tag": "np_ex_slicing_soln"
  },
  "kernelspec": {
   "display_name": "Python 3",
   "language": "python",
   "name": "python3"
  },
  "language_info": {
   "codemirror_mode": {
    "name": "ipython",
    "version": 3
   },
   "file_extension": ".py",
   "mimetype": "text/x-python",
   "name": "python",
   "nbconvert_exporter": "python",
   "pygments_lexer": "ipython3",
   "version": "3.4.4"
  }
 },
 "nbformat": 4,
 "nbformat_minor": 0
}
