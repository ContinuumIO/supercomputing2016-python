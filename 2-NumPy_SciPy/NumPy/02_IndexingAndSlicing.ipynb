{
 "cells": [
  {
   "cell_type": "markdown",
   "metadata": {},
   "source": [
    "# Table of Contents\n",
    "* [Learning Objectives:](#Learning-Objectives:)\n",
    "\t* [Some Simple Setup](#Some-Simple-Setup)\n",
    "* [Accessing Array Items](#Accessing-Array-Items)\n",
    "\t* [Indexing](#Indexing)\n",
    "\t* [Slicing](#Slicing)\n",
    "\t* [Important Differences Between Python Slicing and NumPy Slicing](#Important-Differences-Between-Python-Slicing-and-NumPy-Slicing)\n",
    "\t* [Region Selection and Assignment](#Region-Selection-and-Assignment)\n",
    "\t* [Other Common Slicing Patterns](#Other-Common-Slicing-Patterns)\n",
    "\t\t* [Shifting](#Shifting)\n",
    "\t\t* [Reversal](#Reversal)\n",
    "\t* [Caveats, Gotchas, and Subtleties](#Caveats,-Gotchas,-and-Subtleties)\n"
   ]
  },
  {
   "cell_type": "markdown",
   "metadata": {},
   "source": [
    "# Learning Objectives:"
   ]
  },
  {
   "cell_type": "markdown",
   "metadata": {},
   "source": [
    "After completion of this module, learners should be able to:\n",
    "\n",
    "* use and explain *slicing* and *indexing* rules in `numpy`"
   ]
  },
  {
   "cell_type": "markdown",
   "metadata": {},
   "source": [
    "## Some Simple Setup"
   ]
  },
  {
   "cell_type": "markdown",
   "metadata": {},
   "source": [
    "We're going to run a few quick commands in IPython to shorten a few names and to make some nice graphics interaction (in this Jupyter notebook)."
   ]
  },
  {
   "cell_type": "code",
   "execution_count": null,
   "metadata": {
    "collapsed": true
   },
   "outputs": [],
   "source": [
    "%matplotlib inline\n",
    "\n",
    "import numpy as np\n",
    "import matplotlib.pyplot as plt\n",
    "import os.path as osp\n",
    "import numpy.random as npr\n",
    "vsep = \"\\n-------------------\\n\"\n",
    "\n",
    "def dump_array(arr):\n",
    "    print(\"%s array of %s:\" % (arr.shape, arr.dtype))\n",
    "    print(arr)"
   ]
  },
  {
   "cell_type": "markdown",
   "metadata": {},
   "source": [
    "# Accessing Array Items"
   ]
  },
  {
   "cell_type": "markdown",
   "metadata": {},
   "source": [
    "## Indexing"
   ]
  },
  {
   "cell_type": "markdown",
   "metadata": {},
   "source": [
    "Items in NumPy arrays may be accessed using a single index composed of multiple values\n",
    "\n",
    "![default](img/mef_numpy_selection-noalpha.png)\n"
   ]
  },
  {
   "cell_type": "code",
   "execution_count": null,
   "metadata": {
    "collapsed": false
   },
   "outputs": [],
   "source": [
    "arr = np.arange(24).reshape(4,6) # random.randint(11, size=(4, 6))\n",
    "\n",
    "print(\"the array:\")\n",
    "print(arr, end=vsep)\n",
    "\n",
    "print(\"index [3,2] :\", arr[3,2], end=vsep)\n",
    "print(\"index [2]   :\", arr[2], end=vsep)\n",
    "\n",
    "# non-idiomatic, creates a view of arr[2] then indexes into that copy\n",
    "print(\"index [3][2]:\", arr[3][2])"
   ]
  },
  {
   "cell_type": "markdown",
   "metadata": {},
   "source": [
    "Compare this with indexing into a nested Python list"
   ]
  },
  {
   "cell_type": "code",
   "execution_count": null,
   "metadata": {
    "collapsed": false
   },
   "outputs": [],
   "source": [
    "aList = [list(row) for row in arr]\n",
    "print(aList)\n",
    "print(aList[2][2])\n",
    "\n",
    "try:\n",
    "    print(aList[2,2])\n",
    "except TypeError as e:\n",
    "    print(\"Unhappy with multi-value index\")\n",
    "    print(\"Exception message:\", e)"
   ]
  },
  {
   "cell_type": "markdown",
   "metadata": {},
   "source": [
    "## Slicing"
   ]
  },
  {
   "cell_type": "markdown",
   "metadata": {},
   "source": [
    "We can also use slicing to select entire row and columns at once:\n",
    "\n",
    "<center>\n",
    "![default](img/mef_numpy_slice_01-noalpha.png)\n",
    "</center>\n",
    "\n",
    "<center>\n",
    "![default](img/mef_numpy_slice_02-noalpha.png)\n",
    "</center>"
   ]
  },
  {
   "cell_type": "markdown",
   "metadata": {},
   "source": [
    "## Important Differences Between Python Slicing and NumPy Slicing"
   ]
  },
  {
   "cell_type": "markdown",
   "metadata": {},
   "source": [
    "* Python slicing returns a **copy** of the original data\n",
    "  * Changing the slice won't change the original.\n",
    "* NumPy slicing returns a view of the original data\n",
    "  * Changing the slice **will** change the original data\n",
    "\n",
    "\n",
    "The [NumPy Indexing Page](http://docs.scipy.org/doc/numpy/reference/arrays.indexing.html) has a lot more information."
   ]
  },
  {
   "cell_type": "code",
   "execution_count": null,
   "metadata": {
    "collapsed": false
   },
   "outputs": [],
   "source": [
    "print(\"array:\")\n",
    "print(arr)\n",
    "\n",
    "print(\"\\naccessing a row:\")\n",
    "dump_array(arr[2,:])\n",
    "\n",
    "print(\"\\naccessing a column:\")\n",
    "dump_array(arr[:,2])\n",
    "\n",
    "print(\"\\na row:\", arr[2,:], \"has shape:\", arr[2,:].shape)\n",
    "print(\"\\na col:\", arr[:,2], \"has shape:\", arr[:,2].shape)"
   ]
  },
  {
   "cell_type": "markdown",
   "metadata": {},
   "source": [
    "Bear in mind that numerical indexing will reduce the dimensionality of the array.  Slicing from `index` to `index+1` can be used to keep that dimension if you need it."
   ]
  },
  {
   "cell_type": "code",
   "execution_count": null,
   "metadata": {
    "collapsed": false
   },
   "outputs": [],
   "source": [
    "print(\"lost dimension:\", end=' ') \n",
    "dump_array(arr[2, 1:4])\n",
    "\n",
    "print(\"\\nkept dimension:\", end=' ') \n",
    "dump_array(arr[2:3, 1:4])"
   ]
  },
  {
   "cell_type": "markdown",
   "metadata": {},
   "source": [
    "## Region Selection and Assignment"
   ]
  },
  {
   "cell_type": "markdown",
   "metadata": {},
   "source": [
    "Multiple slices, as part of an index, can select a region out of an array"
   ]
  },
  {
   "cell_type": "code",
   "execution_count": null,
   "metadata": {
    "collapsed": false
   },
   "outputs": [],
   "source": [
    "print(\"array:\")\n",
    "print(arr)\n",
    "\n",
    "print(\"\\na sub-array:\")\n",
    "dump_array(arr[1:3, 2:4])"
   ]
  },
  {
   "cell_type": "markdown",
   "metadata": {},
   "source": [
    "Slices are always views of the underlying array.  Thus, modifying them modifies the underlying array"
   ]
  },
  {
   "cell_type": "code",
   "execution_count": null,
   "metadata": {
    "collapsed": false
   },
   "outputs": [],
   "source": [
    "arr = np.arange(24).reshape(4,6)\n",
    "print(\"even elements (at odd indices) of first row:\")\n",
    "print(arr[0, ::2]) # select every other element from first row\n",
    "\n",
    "arr[0,::2] = -1   # update is done in-place, no copy\n",
    "\n",
    "print(\"\\nafter assinging to those:\")\n",
    "print(arr)"
   ]
  },
  {
   "cell_type": "code",
   "execution_count": null,
   "metadata": {
    "collapsed": false
   },
   "outputs": [],
   "source": [
    "arr = np.arange(24).reshape(4,6)\n",
    "arr[:, :] = 42\n",
    "arr"
   ]
  },
  {
   "cell_type": "markdown",
   "metadata": {},
   "source": [
    "You may have noticed something peculiar in the cell above.  There is an assignment of a scalar to an array.  This is called *broadcasting* and in this simple case, it simply expands the scalar value to fill the elements of the target.  Here's another example:"
   ]
  },
  {
   "cell_type": "code",
   "execution_count": null,
   "metadata": {
    "collapsed": false
   },
   "outputs": [],
   "source": [
    "arr[0] = 10\n",
    "print(arr)"
   ]
  },
  {
   "cell_type": "markdown",
   "metadata": {},
   "source": [
    "And here is one more example of broadcasting and slicing: assigning a value to fill a column."
   ]
  },
  {
   "cell_type": "code",
   "execution_count": null,
   "metadata": {
    "collapsed": false
   },
   "outputs": [],
   "source": [
    "arr[:,2] = 99\n",
    "print(arr)"
   ]
  },
  {
   "cell_type": "markdown",
   "metadata": {},
   "source": [
    "As with Python lists, empty start/end points in a slice represent the beginning/end of the NumPy array."
   ]
  },
  {
   "cell_type": "code",
   "execution_count": null,
   "metadata": {
    "collapsed": false
   },
   "outputs": [],
   "source": [
    "# fill the visual lower-left box with 0\n",
    "arr[2:,:2] = 0 \n",
    "print(arr)"
   ]
  },
  {
   "cell_type": "code",
   "execution_count": null,
   "metadata": {
    "collapsed": false
   },
   "outputs": [],
   "source": [
    "# fill the visual lower-right box with -1\n",
    "arr[2:,3:] = -1 \n",
    "print(arr)"
   ]
  },
  {
   "cell_type": "markdown",
   "metadata": {},
   "source": [
    "We can also assign sequences, if the shapes on the left-hand side and the right-hand side match."
   ]
  },
  {
   "cell_type": "code",
   "execution_count": null,
   "metadata": {
    "collapsed": false
   },
   "outputs": [],
   "source": [
    "arr[3,:] = [10, 20, 30, 40, 50, 60]\n",
    "print(arr)"
   ]
  },
  {
   "cell_type": "code",
   "execution_count": null,
   "metadata": {
    "collapsed": false
   },
   "outputs": [],
   "source": [
    "arr[::-1, ::-1]"
   ]
  },
  {
   "cell_type": "markdown",
   "metadata": {},
   "source": [
    "Sequence assignment extends to multi-dimensional objects."
   ]
  },
  {
   "cell_type": "code",
   "execution_count": null,
   "metadata": {
    "collapsed": false
   },
   "outputs": [],
   "source": [
    "arr[1:3,3:5] = [[2,4], [8,16]]\n",
    "print(arr)"
   ]
  },
  {
   "cell_type": "code",
   "execution_count": null,
   "metadata": {
    "collapsed": false
   },
   "outputs": [],
   "source": [
    "arr.reshape(3,2,4)"
   ]
  },
  {
   "cell_type": "code",
   "execution_count": null,
   "metadata": {
    "collapsed": false
   },
   "outputs": [],
   "source": [
    "arr.reshape(4,3,2)"
   ]
  },
  {
   "cell_type": "markdown",
   "metadata": {},
   "source": [
    "## Other Common Slicing Patterns"
   ]
  },
  {
   "cell_type": "markdown",
   "metadata": {},
   "source": [
    "### Shifting"
   ]
  },
  {
   "cell_type": "markdown",
   "metadata": {},
   "source": [
    "As with Python, `-index` is the equivalent of `len(seq)-1`."
   ]
  },
  {
   "cell_type": "markdown",
   "metadata": {},
   "source": [
    "The `-1` (on the RHS) is an end-point so it is *not* included.  So, the interpretation is that we \"do not include the last element\". Thus, on the RHS we lose one element and on the LHS we lose one element. Both sides are the same length — the original length of the array minus one — and it is a legal assignment. *But* not all items of `arr` have been updated. Which element is unaffected by the assignment?"
   ]
  },
  {
   "cell_type": "code",
   "execution_count": null,
   "metadata": {
    "collapsed": false
   },
   "outputs": [],
   "source": [
    "# shift array\n",
    "arr = 2**np.arange(10)\n",
    "print(\"original:\")\n",
    "dump_array(arr)\n",
    "\n",
    "arr2 = 2**np.arange(10)\n",
    "arr2[1:] = arr[:-1]\n",
    "print(\"\\nafter slicing assignment\")\n",
    "dump_array(arr2)"
   ]
  },
  {
   "cell_type": "code",
   "execution_count": null,
   "metadata": {
    "collapsed": false
   },
   "outputs": [],
   "source": [
    "arr2 - arr"
   ]
  },
  {
   "cell_type": "markdown",
   "metadata": {},
   "source": [
    "### Reversal"
   ]
  },
  {
   "cell_type": "code",
   "execution_count": null,
   "metadata": {
    "collapsed": false
   },
   "outputs": [],
   "source": [
    "# using a negative stride indicates walking backward\n",
    "# it may be surprising, but this is still -not- a copy\n",
    "# the reverse striding still shares data with the underlying array\n",
    "rev_arr = arr[::-1]\n",
    "rev_arr[0] = -99\n",
    "print(arr)\n",
    "print(rev_arr)"
   ]
  },
  {
   "cell_type": "code",
   "execution_count": null,
   "metadata": {
    "collapsed": false
   },
   "outputs": [],
   "source": [
    "arr_copy = arr.copy()\n",
    "arr[1] = 777\n",
    "arr, arr_copy"
   ]
  },
  {
   "cell_type": "code",
   "execution_count": null,
   "metadata": {
    "collapsed": false
   },
   "outputs": [],
   "source": [
    "# Replace the diagonal with a specific value (solution 1)\n",
    "new = np.arange(36).reshape(6,6)\n",
    "new[np.diag_indices_from(new)] = 42\n",
    "new"
   ]
  },
  {
   "cell_type": "code",
   "execution_count": null,
   "metadata": {
    "collapsed": false
   },
   "outputs": [],
   "source": [
    "# Replace the diagonal with a specific value (solution 2)\n",
    "new = np.arange(36).reshape(6,6)\n",
    "new[range(6),range(6)] = 42\n",
    "new"
   ]
  },
  {
   "cell_type": "markdown",
   "metadata": {},
   "source": [
    "## Caveats, Gotchas, and Subtleties"
   ]
  },
  {
   "cell_type": "markdown",
   "metadata": {},
   "source": [
    "* Changing a slice\n",
    "* Using multiple square brackets instead of a single, comma-separated slice"
   ]
  },
  {
   "cell_type": "code",
   "execution_count": null,
   "metadata": {
    "collapsed": false
   },
   "outputs": [],
   "source": [
    "arr = np.arange(720).reshape((2,3,4,5,6))\n",
    "dump_array(arr[0,0,0,0])\n",
    "dump_array(arr[0][0][0][0])"
   ]
  },
  {
   "cell_type": "code",
   "execution_count": null,
   "metadata": {
    "collapsed": false
   },
   "outputs": [],
   "source": [
    "dump_array(arr[:,0,0,0])\n",
    "dump_array(arr[:][0][0][0])\n",
    "#Big difference! What happened?\n",
    "#arr has 5 dimensions\n",
    "#If fewer than 5 dimensions are specificed in the slice, \n",
    "# NumPy assumes that the remaining dimensions should be sliced with \":\""
   ]
  },
  {
   "cell_type": "code",
   "execution_count": null,
   "metadata": {
    "collapsed": false
   },
   "outputs": [],
   "source": [
    "arr[:][0][0][0] == arr[:,:,:,:,:][0][0][0]\n",
    "#arr[:,:,:,:,:] returns a view of the array that is completely unchanged.\n",
    "#In other words, arr[:] == arr\n",
    "print(arr[:].shape)\n",
    "print(arr[:][:][:].shape)\n",
    "print(arr[:,0,0])\n",
    "\n",
    "#So, how is that different from arr[:,0,0,0]?\n",
    "#The key point here is that NumPy slicing works on multiple axes at a time.\n",
    "#So, arr[:][0] is logically different from arr[:,0] because\n",
    "#arr[:][0] is slicing on axis 0, followed by slicing on axis 0 of the new array\n",
    "#arr[:] returns a view into an array.\n",
    "#arr[:,0] is slicing on axis 0 and 1.\n",
    "\n",
    "#arr[0,0,0,0] and arr[0][0][0][0] are only equivalent by special case\n",
    "#arr[0:2,0,0,0] and arr[0:2][0][0][0] are not equivalent"
   ]
  },
  {
   "cell_type": "code",
   "execution_count": null,
   "metadata": {
    "collapsed": true
   },
   "outputs": [],
   "source": []
  }
 ],
 "metadata": {
  "continuum": {
   "depends": [
    "np_intro",
    "ip_essentials",
    "ip_datatypes",
    "ip_containers"
   ],
   "requires": [
    "img/mef_numpy_selection-noalpha.png",
    "img/mef_numpy_slice_01-noalpha.png",
    "img/mef_numpy_slice_02-noalpha.png"
   ],
   "tag": "np_slicing"
  },
  "kernelspec": {
   "display_name": "Python 3",
   "language": "python",
   "name": "python3"
  },
  "language_info": {
   "codemirror_mode": {
    "name": "ipython",
    "version": 3
   },
   "file_extension": ".py",
   "mimetype": "text/x-python",
   "name": "python",
   "nbconvert_exporter": "python",
   "pygments_lexer": "ipython3",
   "version": "3.5.1"
  }
 },
 "nbformat": 4,
 "nbformat_minor": 0
}
