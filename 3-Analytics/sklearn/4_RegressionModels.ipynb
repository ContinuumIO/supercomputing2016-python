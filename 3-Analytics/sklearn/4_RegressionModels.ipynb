{
 "cells": [
  {
   "cell_type": "markdown",
   "metadata": {},
   "source": [
    "# Table of Contents\n",
    "* [Learning Objectives:](#Learning-Objectives:)\n",
    "* [Regression Models](#Regression-Models)\n"
   ]
  },
  {
   "cell_type": "markdown",
   "metadata": {},
   "source": [
    "# Learning Objectives:"
   ]
  },
  {
   "cell_type": "markdown",
   "metadata": {},
   "source": [
    "After completion of this module, learners should be able to:\n",
    "\n",
    "* Apply the Linear Regression Model\n",
    "* Cross validate the model"
   ]
  },
  {
   "cell_type": "markdown",
   "metadata": {},
   "source": [
    "# Regression Models"
   ]
  },
  {
   "cell_type": "code",
   "execution_count": null,
   "metadata": {
    "collapsed": false
   },
   "outputs": [],
   "source": [
    "import numpy as np\n",
    "from sklearn import datasets, linear_model, cross_validation, metrics\n",
    "diabetes_dataset = datasets.load_diabetes()\n",
    "dd_examples, dd_targets = diabetes_dataset.data, diabetes_dataset.target\n",
    "\n",
    "linreg = linear_model.LinearRegression()\n",
    "kfold = cross_validation.KFold(len(dd_examples), n_folds=3, shuffle=True)"
   ]
  },
  {
   "cell_type": "code",
   "execution_count": null,
   "metadata": {
    "collapsed": false
   },
   "outputs": [],
   "source": [
    "# manually extract a k-fold train/test split\n",
    "train, test = next(iter(kfold))\n",
    "linreg.fit(dd_examples[train], dd_targets[train])\n",
    "\n",
    "preds  = linreg.predict(dd_examples[test])\n",
    "errors = preds - dd_targets[test]\n",
    "\n",
    "print(np.mean(errors**2))"
   ]
  },
  {
   "cell_type": "code",
   "execution_count": null,
   "metadata": {
    "collapsed": false
   },
   "outputs": [],
   "source": [
    "for train, test in kfold:\n",
    "    preds = linreg.fit(dd_examples[train], dd_targets[train]).predict(dd_examples[test])\n",
    "    print(metrics.mean_squared_error(preds, dd_targets[test]))"
   ]
  },
  {
   "cell_type": "code",
   "execution_count": null,
   "metadata": {
    "collapsed": false
   },
   "outputs": [],
   "source": [
    "cv_scores = cross_validation.cross_val_score(linreg, dd_examples, dd_targets, \n",
    "                                             cv=kfold, \n",
    "                                             scoring='mean_squared_error', \n",
    "                                             n_jobs=-1) # all CPUs\n",
    "print(cv_scores)"
   ]
  },
  {
   "cell_type": "markdown",
   "metadata": {},
   "source": [
    "Additional regression metrics are described here:\n",
    "\n",
    "http://scikit-learn.org/stable/modules/model_evaluation.html#regression-metrics\n",
    "\n",
    "Their names are all importable from `sklearn.metrics`:\n",
    "\n",
    "`mean_absolute_error \n",
    "mean_squared_error \n",
    "median_absolute_error \n",
    "r2` \n"
   ]
  }
 ],
 "metadata": {
  "continuum": {
   "depends": [
    "ml_eval"
   ],
   "tag": "ml_regression"
  },
  "kernelspec": {
   "display_name": "Python [conda env:python3]",
   "language": "python",
   "name": "conda-env-python3-py"
  },
  "language_info": {
   "codemirror_mode": {
    "name": "ipython",
    "version": 3
   },
   "file_extension": ".py",
   "mimetype": "text/x-python",
   "name": "python",
   "nbconvert_exporter": "python",
   "pygments_lexer": "ipython3",
   "version": "3.5.2"
  }
 },
 "nbformat": 4,
 "nbformat_minor": 0
}
