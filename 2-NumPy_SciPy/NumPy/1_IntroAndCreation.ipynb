{
 "cells": [
  {
   "cell_type": "markdown",
   "metadata": {},
   "source": [
    "# Table of Contents\n",
    "* [Learning Objectives:](#Learning-Objectives:)\n",
    "\t* [Some Simple Setup](#Some-Simple-Setup)\n",
    "* [What is NumPy?](#What-is-NumPy?)\n",
    "\t* [NumPy arrays have:](#NumPy-arrays-have:)\n",
    "\t* [NumPy's Uses and Capabilities](#NumPy's-Uses-and-Capabilities)\n",
    "\t* [NumPy Ecosystem](#NumPy-Ecosystem)\n",
    "* [NumPy Arrays](#NumPy-Arrays)\n",
    "\t* [Array Shape](#Array-Shape)\n",
    "\t* [Array Type](#Array-Type)\n",
    "* [Array Creation](#Array-Creation)\n",
    "\t* [`np.zeros` and `np.ones`](#np.zeros-and-np.ones)\n",
    "\t* [`np.empty`](#np.empty)\n",
    "\t* [`np.arange`](#np.arange)\n",
    "\t* [`np.linspace` and `np.logspace`](#np.linspace-and-np.logspace)\n",
    "\t* [Diagonal arrays:  `np.eye` and `np.diag`](#Diagonal-arrays:--np.eye-and-np.diag)\n",
    "\t* [Arrays from Random Distributions](#Arrays-from-Random-Distributions)\n",
    "\t\t* [Uniform on [0,1)](#Uniform-on-[0,1%29)\n",
    "\t\t* [Standard Normal](#Standard-Normal)\n",
    "\t\t* [Uniform Integers](#Uniform-Integers)\n",
    "\t* [Arrays From a Python List](#Arrays-From-a-Python-List)\n",
    "\t* [From row and column stacks:  `np.r_` and `np.c_`](#From-row-and-column-stacks:--np.r_-and-np.c_)\n",
    "* [Array Shape and Reshaping](#Array-Shape-and-Reshaping)\n"
   ]
  },
  {
   "cell_type": "markdown",
   "metadata": {},
   "source": [
    "# Learning Objectives:"
   ]
  },
  {
   "cell_type": "markdown",
   "metadata": {},
   "source": [
    "After completion of this module, learners should be able to:\n",
    "\n",
    "* explain relevant distinctions between (`numpy`) ndarrays & lists in Python\n",
    "* create numerical arrays with specified attributes (e.g., shape, data type, etc.)\n",
    "* use & describe dtype attributes associated with `numpy` ndarrays"
   ]
  },
  {
   "cell_type": "markdown",
   "metadata": {},
   "source": [
    "## Some Simple Setup"
   ]
  },
  {
   "cell_type": "markdown",
   "metadata": {},
   "source": [
    "We're going to run a few quick commands in IPython to shorten a few names and to make some nice graphics interaction (in this Jupyter notebook)."
   ]
  },
  {
   "cell_type": "markdown",
   "metadata": {
    "collapsed": true
   },
   "source": [
    "If you do not have matplotlib installed in your conda environment run\n",
    "```\n",
    "% conda install -y matplotlib\n",
    "```"
   ]
  },
  {
   "cell_type": "code",
   "execution_count": null,
   "metadata": {
    "collapsed": false
   },
   "outputs": [],
   "source": [
    "%matplotlib inline\n",
    "\n",
    "import numpy as np\n",
    "import matplotlib.pyplot as plt\n",
    "import os.path as osp\n",
    "import numpy.random as npr\n",
    "vsep = \"\\n-------------------\\n\""
   ]
  },
  {
   "cell_type": "markdown",
   "metadata": {},
   "source": [
    "# What is NumPy?"
   ]
  },
  {
   "cell_type": "markdown",
   "metadata": {},
   "source": [
    "Numpy is a Python library that provides multi-dimensional arrays, matrices, and fast operations on these data structures."
   ]
  },
  {
   "cell_type": "markdown",
   "metadata": {},
   "source": [
    "## NumPy arrays have:"
   ]
  },
  {
   "cell_type": "markdown",
   "metadata": {},
   "source": [
    "* fixed size \n",
    "  * all elements have the same type\n",
    "      * that type may be compound and/or user-defined\n",
    "  * fast operations from:\n",
    "      * vectorization — implicit looping\n",
    "      * pre-compiled C code using high-quality libraries \n",
    "          * NumPy default\n",
    "          * BLAS/ATLAS\n",
    "          * Intel's MKL"
   ]
  },
  {
   "cell_type": "markdown",
   "metadata": {},
   "source": [
    "## NumPy's Uses and Capabilities"
   ]
  },
  {
   "cell_type": "markdown",
   "metadata": {},
   "source": [
    "- Image and signal processing\n",
    "- Linear algebra\n",
    "- Data transformation and query\n",
    "- Time series analysis\n",
    "- Statistical analysis"
   ]
  },
  {
   "cell_type": "markdown",
   "metadata": {},
   "source": [
    "## NumPy Ecosystem"
   ]
  },
  {
   "cell_type": "markdown",
   "metadata": {},
   "source": [
    "<center>\n",
    "![](img/ecosystem.lightbg.scaled-noalpha.png)\n",
    "</center>"
   ]
  },
  {
   "cell_type": "markdown",
   "metadata": {},
   "source": [
    "# NumPy Arrays"
   ]
  },
  {
   "cell_type": "markdown",
   "metadata": {},
   "source": [
    "NumPy arrays (`numpy.ndarray`) are the fundamental data type in NumPy.  They have:\n",
    "    \n",
    "  * shape\n",
    "  * an element type called *dtype*\n",
    "  \n",
    "For example:"
   ]
  },
  {
   "cell_type": "code",
   "execution_count": null,
   "metadata": {
    "collapsed": false
   },
   "outputs": [],
   "source": [
    "M, N = 6, 5\n",
    "arr = np.zeros(shape=(M,N), dtype=float)\n",
    "arr"
   ]
  },
  {
   "cell_type": "code",
   "execution_count": null,
   "metadata": {
    "collapsed": false
   },
   "outputs": [],
   "source": [
    "arrzeros = np.zeros(30)\n",
    "print(arrzeros.dtype, arrzeros.shape)\n",
    "arrzeros"
   ]
  },
  {
   "cell_type": "code",
   "execution_count": null,
   "metadata": {
    "collapsed": false
   },
   "outputs": [],
   "source": [
    "arrzeros2 = np.zeros((30,1))\n",
    "print(arrzeros2.dtype, arrzeros2.shape)\n",
    "arrzeros2"
   ]
  },
  {
   "cell_type": "markdown",
   "metadata": {},
   "source": [
    "is the NumPy array corresponding to the two-dimensional matrix:\n",
    "\n",
    "![default](img/numpyzerosdims-noalpha.png)\n",
    "\n",
    "NumPy has both a general N-dimensional array *and* a specific 2-dimensional matrix data type.  NumPy arrays may have an arbitrary number of dimensions."
   ]
  },
  {
   "cell_type": "markdown",
   "metadata": {},
   "source": [
    "NumPy arrays support vectorized mathematical operation."
   ]
  },
  {
   "cell_type": "code",
   "execution_count": null,
   "metadata": {
    "collapsed": false
   },
   "outputs": [],
   "source": [
    "arr = np.arange(15).reshape(3,5)\n",
    "print(\"original:\")\n",
    "print(arr)\n",
    "\n",
    "print()\n",
    "\n",
    "print(\"elementwise computed:\")\n",
    "print(((arr+4)*2) % 30)\n",
    "print(arr.dtype)"
   ]
  },
  {
   "cell_type": "code",
   "execution_count": null,
   "metadata": {
    "collapsed": false
   },
   "outputs": [],
   "source": [
    "((arr.reshape(15,)+4)*2) % 30"
   ]
  },
  {
   "cell_type": "code",
   "execution_count": null,
   "metadata": {
    "collapsed": false
   },
   "outputs": [],
   "source": [
    "((arr.reshape(5,3)+4)*2) % 30"
   ]
  },
  {
   "cell_type": "code",
   "execution_count": null,
   "metadata": {
    "collapsed": false,
    "raises": "ValueError"
   },
   "outputs": [],
   "source": [
    "arr.reshape(4, 7)"
   ]
  },
  {
   "cell_type": "markdown",
   "metadata": {},
   "source": [
    "We are generally going to visually inspect the `str` representation of array.  Here's how the `str` and `repr` differ:"
   ]
  },
  {
   "cell_type": "code",
   "execution_count": null,
   "metadata": {
    "collapsed": false
   },
   "outputs": [],
   "source": [
    "arr = np.arange(10).reshape(2,5)\n",
    "print(arr)\n",
    "print(repr(arr))"
   ]
  },
  {
   "cell_type": "markdown",
   "metadata": {},
   "source": [
    "## Array Shape"
   ]
  },
  {
   "cell_type": "markdown",
   "metadata": {},
   "source": [
    "Many array creation functions take a shape parameter.  For a 1D array, the shape can be an integer."
   ]
  },
  {
   "cell_type": "code",
   "execution_count": null,
   "metadata": {
    "collapsed": false
   },
   "outputs": [],
   "source": [
    "print(np.zeros(shape=5, dtype=np.float16))"
   ]
  },
  {
   "cell_type": "markdown",
   "metadata": {},
   "source": [
    "For nD arrays, the shape needs to be given as a tuple."
   ]
  },
  {
   "cell_type": "code",
   "execution_count": null,
   "metadata": {
    "collapsed": false
   },
   "outputs": [],
   "source": [
    "arr"
   ]
  },
  {
   "cell_type": "code",
   "execution_count": null,
   "metadata": {
    "collapsed": false
   },
   "outputs": [],
   "source": [
    "print(np.zeros(shape=(4,3,2), dtype=float), end=vsep)\n",
    "print(repr(np.zeros(shape=(4,3,2), dtype=float)))"
   ]
  },
  {
   "cell_type": "code",
   "execution_count": null,
   "metadata": {
    "collapsed": false
   },
   "outputs": [],
   "source": [
    "print(np.zeros(shape=(2,2,2,2)))"
   ]
  },
  {
   "cell_type": "markdown",
   "metadata": {},
   "source": [
    "In the above example, the outermost dimension (the first item in the tuple passed to `shape`, 4) is the dimension that varies the most slowly. The innermost dimension (the last item in the tuple, 2) is the dimension that varies the most quickly. Visually, this means that for 3D arrays, we might describe the shape as: (panels, rows, columns). Contrast this with the 2D case, where we usually discuss shape as: (rows, columns)."
   ]
  },
  {
   "cell_type": "markdown",
   "metadata": {},
   "source": [
    "We can always ask an array its shape by accessing the `shape` attribute (e.g., `arr.shape`)."
   ]
  },
  {
   "cell_type": "code",
   "execution_count": null,
   "metadata": {
    "collapsed": false
   },
   "outputs": [],
   "source": [
    "arr = np.ones(shape=(4,3,2), dtype=float)\n",
    "print(\"shape is:\", arr.shape)"
   ]
  },
  {
   "cell_type": "code",
   "execution_count": null,
   "metadata": {
    "collapsed": false
   },
   "outputs": [],
   "source": [
    "arr.resize((4,6))\n",
    "arr"
   ]
  },
  {
   "cell_type": "code",
   "execution_count": null,
   "metadata": {
    "collapsed": false
   },
   "outputs": [],
   "source": [
    "# Take a look at the varying type promotion rules in np.concatenate\n",
    "# (the order of the concatenated arrays matters!)\n",
    "arr1 = np.ones(shape=(4,5), dtype=np.longdouble)\n",
    "arr2 = np.zeros(shape=(4,3), dtype=np.int8)\n",
    "print(arr1,end=vsep)\n",
    "print(arr2,end=vsep)\n",
    "newarr = np.concatenate((arr1,arr2), axis=1)\n",
    "print(newarr)\n",
    "newarr.dtype"
   ]
  },
  {
   "cell_type": "code",
   "execution_count": null,
   "metadata": {
    "collapsed": false,
    "scrolled": true
   },
   "outputs": [],
   "source": [
    "help(newarr.resize)"
   ]
  },
  {
   "cell_type": "markdown",
   "metadata": {},
   "source": [
    "Arrays can be transposed on-the-fly by using `.T`"
   ]
  },
  {
   "cell_type": "code",
   "execution_count": null,
   "metadata": {
    "collapsed": false
   },
   "outputs": [],
   "source": [
    "print(arr)\n",
    "print(arr.shape,end=vsep)\n",
    "print(arr.T)\n",
    "print(arr.T.shape)"
   ]
  },
  {
   "cell_type": "markdown",
   "metadata": {},
   "source": [
    "## Array Type"
   ]
  },
  {
   "cell_type": "markdown",
   "metadata": {},
   "source": [
    "All arrays have a specific type for their associated elements.  Every element in the array shares that type.  The NumPy terminology for this type is *dtype*.  The basic types are *bool*, *int*, *uint*, *float*, and *complex*.  The types may be modified by a number indicating their size in bits.  Python's built-in types can be used as a corresponding dtype.  Note, the generic NumPy types end with an underscore (\"\\_\") to differentiate the name from the Python built-in.\n",
    "\n",
    "|Python Type |NumPy dtype|\n",
    "|------------|-----------|\n",
    "|bool\t     |np.bool_   |\n",
    "|int         |np.int_    |\n",
    "|float       |np.float_  |\n",
    "|complex     |np.complex_|"
   ]
  },
  {
   "cell_type": "code",
   "execution_count": null,
   "metadata": {
    "collapsed": false
   },
   "outputs": [],
   "source": [
    "np.float16('nan')"
   ]
  },
  {
   "cell_type": "markdown",
   "metadata": {},
   "source": [
    "Here is one example of specifying a *dtype*:"
   ]
  },
  {
   "cell_type": "code",
   "execution_count": null,
   "metadata": {
    "collapsed": false
   },
   "outputs": [],
   "source": [
    "arr = np.zeros(shape=(5,), dtype=np.float_) # NumPy default sized float\n",
    "print(arr, \"->\", arr.dtype)"
   ]
  },
  {
   "cell_type": "code",
   "execution_count": null,
   "metadata": {
    "collapsed": false
   },
   "outputs": [],
   "source": [
    "# Can get truncation of data types if large numbers forced into smaller types\n",
    "array = np.array([4192984799048971232, 3, 4], dtype=np.int16)\n",
    "array"
   ]
  },
  {
   "cell_type": "code",
   "execution_count": null,
   "metadata": {
    "collapsed": false,
    "raises": "OverflowError"
   },
   "outputs": [],
   "source": [
    "np.array([4192984799048971232000, 3, 4], dtype=np.int16)"
   ]
  },
  {
   "cell_type": "code",
   "execution_count": null,
   "metadata": {
    "collapsed": false
   },
   "outputs": [],
   "source": [
    "np.array([1], dtype=int).dtype.itemsize * 8"
   ]
  },
  {
   "cell_type": "code",
   "execution_count": null,
   "metadata": {
    "collapsed": false
   },
   "outputs": [],
   "source": [
    "# Can check the bit length of numbers\n",
    "nums = [4192984799048971232000, 3, 4]\n",
    "max(i.bit_length() for i in nums), min(i.bit_length() for i in nums)"
   ]
  },
  {
   "cell_type": "code",
   "execution_count": null,
   "metadata": {
    "collapsed": false
   },
   "outputs": [],
   "source": [
    "def chop_bits(nums, bitlen=np.dtype(int).itemsize * 8):\n",
    "    mask = (1<<bitlen) - 1\n",
    "    return (num & mask for num in nums)\n",
    "\n",
    "list(chop_bits([4192984799048971232000, 4192984799048971232, 3, 4])), \\\n",
    "list(chop_bits([4192984799048971232000, 4192984799048971232, 3, 4], 32)), \\\n",
    "list(chop_bits([4192984799048971232000, 4192984799048971232, 3, 4], 24)), \\\n",
    "list(chop_bits([4192984799048971232000, 4192984799048971232, 3, 4], 16))"
   ]
  },
  {
   "cell_type": "markdown",
   "metadata": {},
   "source": [
    "And we can make a clever loop over some possible *dtypes* and pass them through eval:"
   ]
  },
  {
   "cell_type": "code",
   "execution_count": null,
   "metadata": {
    "collapsed": false
   },
   "outputs": [],
   "source": [
    "for dt in [\"float\", \"np.float_\", \"np.float64\", \n",
    "           \"np.uint8\", \"np.int\", \"int\"]:\n",
    "    arr = np.zeros(shape=(5,), dtype=eval(dt)) \n",
    "    print(\"%10s: %s -> %s\" % (dt, arr, arr.dtype))"
   ]
  },
  {
   "cell_type": "markdown",
   "metadata": {},
   "source": [
    "Now we'll take just a moment to define one quick helper function to show us these details in a pretty format."
   ]
  },
  {
   "cell_type": "code",
   "execution_count": null,
   "metadata": {
    "collapsed": false
   },
   "outputs": [],
   "source": [
    "def dump_array(arr):\n",
    "    print(\"%s array of %s:\" % (arr.shape, arr.dtype))\n",
    "    print(arr)\n",
    "    \n",
    "vsep = \"\\n---------------------\\n\""
   ]
  },
  {
   "cell_type": "markdown",
   "metadata": {},
   "source": [
    "See also: http://docs.scipy.org/doc/numpy/user/basics.types.html"
   ]
  },
  {
   "cell_type": "markdown",
   "metadata": {},
   "source": [
    "# Array Creation"
   ]
  },
  {
   "cell_type": "markdown",
   "metadata": {},
   "source": [
    "NumPy provides a number of ways to create an array."
   ]
  },
  {
   "cell_type": "markdown",
   "metadata": {},
   "source": [
    "## `np.zeros` and `np.ones`"
   ]
  },
  {
   "cell_type": "code",
   "execution_count": null,
   "metadata": {
    "collapsed": false
   },
   "outputs": [],
   "source": [
    "zrr = np.zeros(shape=(2,3))\n",
    "dump_array(zrr)"
   ]
  },
  {
   "cell_type": "code",
   "execution_count": null,
   "metadata": {
    "collapsed": false
   },
   "outputs": [],
   "source": [
    "print(np.ones(shape=(2,5)))"
   ]
  },
  {
   "cell_type": "code",
   "execution_count": null,
   "metadata": {
    "collapsed": false
   },
   "outputs": [],
   "source": [
    "one_arr = np.ones(shape = (2,2), dtype=int)\n",
    "dump_array(one_arr)"
   ]
  },
  {
   "cell_type": "markdown",
   "metadata": {},
   "source": [
    "## `np.empty`"
   ]
  },
  {
   "cell_type": "markdown",
   "metadata": {},
   "source": [
    "`np.empty` is lightning quick because it simply requests some amount of memory from the operating system and then *does nothing with it*.  Thus, the array returned by `np.empty` is *uninitialized*.  Consider yourself warned.  `np.empty` is very useful if you know you are going to fill up all the (used) elements of your array later."
   ]
  },
  {
   "cell_type": "code",
   "execution_count": null,
   "metadata": {
    "collapsed": false
   },
   "outputs": [],
   "source": [
    "# DANGER!  uninitialized array \n",
    "# (re-run this cell and you will very likely see different values)\n",
    "err = np.empty(shape=(2,3), dtype=int)\n",
    "dump_array(err)"
   ]
  },
  {
   "cell_type": "markdown",
   "metadata": {},
   "source": [
    "## `np.arange`"
   ]
  },
  {
   "cell_type": "markdown",
   "metadata": {},
   "source": [
    "`np.arange` generates sequences of numbers like Python's `range` built-in.  Non-integer step values may lead to unexpected results; for these cases, you may prefer `np.linspace` and see below. (For a quick — and mostly practical — discussion of the perils of floating-point approximations, see https://docs.python.org/2/tutorial/floatingpoint.html).\n",
    "\n",
    "  * a single value is a stopping point\n",
    "  * two values are a starting point and a stopping point\n",
    "  * three values are a start, a stop, and a step size\n",
    "\n",
    "As with `range`, the ending point is *not* included."
   ]
  },
  {
   "cell_type": "code",
   "execution_count": null,
   "metadata": {
    "collapsed": false
   },
   "outputs": [],
   "source": [
    "print(\"int arg: %s\" % np.arange(10), end=vsep)     # cf. range(stop)\n",
    "print(\"float arg: %s\" % np.arange(10.0), end=vsep) # cf. range(stop)\n",
    "print(\"step: %s\" % np.arange(0, 12, 2), end=vsep)  # end point excluded\n",
    "print(\"neg. step: %s\" % np.arange(10, 0, -1.0))"
   ]
  },
  {
   "cell_type": "markdown",
   "metadata": {},
   "source": [
    "## `np.linspace` and `np.logspace`"
   ]
  },
  {
   "cell_type": "markdown",
   "metadata": {},
   "source": [
    "`np.linspace(BEGIN, END, NUMPT)` generates exactly *NUMPT* number of points, evenly spaced, on $[BEGIN, END]$.  Unlike Python's `range` and `np.arange`, these functions are inclusive at BEGIN and END (they produce a closed interval)."
   ]
  },
  {
   "cell_type": "code",
   "execution_count": null,
   "metadata": {
    "collapsed": false
   },
   "outputs": [],
   "source": [
    "print(\"End-points are included:\", end=vsep)\n",
    "print(np.linspace(0, 10, 2), end=vsep)\n",
    "print(np.linspace(0, 10, 3), end=vsep)\n",
    "print(np.linspace(0, 10, 4), end=vsep)\n",
    "print(np.linspace(0, 10, 20), end=vsep)"
   ]
  },
  {
   "cell_type": "markdown",
   "metadata": {},
   "source": [
    "For `np.logspace(BEGIN, END, NUMPTS)`, the array is closed on $[10^{BEGIN}, 10^{END}]$ with NUMPT points spread evenly on a logarithmic scale."
   ]
  },
  {
   "cell_type": "code",
   "execution_count": null,
   "metadata": {
    "collapsed": false
   },
   "outputs": [],
   "source": [
    "# (10^BEGIN, 10^END, NUMPT)\n",
    "import math\n",
    "print(np.logspace(0, 3, 4), end=vsep)\n",
    "print(np.logspace(0, 3, 4, base=math.e))"
   ]
  },
  {
   "cell_type": "markdown",
   "metadata": {},
   "source": [
    "## Diagonal arrays:  `np.eye` and `np.diag`"
   ]
  },
  {
   "cell_type": "markdown",
   "metadata": {},
   "source": [
    "`np.eye(N)` produces an array with shape (N,N) and ones on the diagonal (an NxN identity matrix)."
   ]
  },
  {
   "cell_type": "code",
   "execution_count": null,
   "metadata": {
    "collapsed": false
   },
   "outputs": [],
   "source": [
    "print(np.eye(3))"
   ]
  },
  {
   "cell_type": "markdown",
   "metadata": {},
   "source": [
    "`np.diag` produces a diagonal 2D array from an array argument."
   ]
  },
  {
   "cell_type": "code",
   "execution_count": null,
   "metadata": {
    "collapsed": false
   },
   "outputs": [],
   "source": [
    "print(np.diag(np.arange(1,4)), end=vsep)\n",
    "print(np.diag([3,2,1]))"
   ]
  },
  {
   "cell_type": "markdown",
   "metadata": {},
   "source": [
    "It can also be used to extract a diagonal from a given array."
   ]
  },
  {
   "cell_type": "code",
   "execution_count": null,
   "metadata": {
    "collapsed": false
   },
   "outputs": [],
   "source": [
    "# the diagonal of an identity matrix ...\n",
    "np.diag(np.eye(3))"
   ]
  },
  {
   "cell_type": "markdown",
   "metadata": {},
   "source": [
    "## Arrays from Random Distributions"
   ]
  },
  {
   "cell_type": "markdown",
   "metadata": {},
   "source": [
    "It is common to create arrays whose elements are samples from a random distribution.  For the many options, see:\n",
    "\n",
    "  * help(np.random) \n",
    "  * http://docs.scipy.org/doc/numpy/reference/routines.random.html"
   ]
  },
  {
   "cell_type": "code",
   "execution_count": null,
   "metadata": {
    "collapsed": false
   },
   "outputs": [],
   "source": [
    "npr = np.random"
   ]
  },
  {
   "cell_type": "markdown",
   "metadata": {},
   "source": [
    "### Uniform on [0,1)"
   ]
  },
  {
   "cell_type": "code",
   "execution_count": null,
   "metadata": {
    "collapsed": false
   },
   "outputs": [],
   "source": [
    "print(\"Uniform on [0,1):\")\n",
    "dump_array(npr.random((2,5)))"
   ]
  },
  {
   "cell_type": "markdown",
   "metadata": {},
   "source": [
    "### Standard Normal"
   ]
  },
  {
   "cell_type": "markdown",
   "metadata": {},
   "source": [
    "`np.random` has some redundancy.  It also has some variation in calling conventions.\n",
    "\n",
    "  * `standard_normal` takes *one* tuple argument\n",
    "  * `randn` (which is very common to see in code) takes n arguments where n is the number of dimensions in the result"
   ]
  },
  {
   "cell_type": "code",
   "execution_count": null,
   "metadata": {
    "collapsed": false
   },
   "outputs": [],
   "source": [
    "print(\"std. normal - N(0,1):\")\n",
    "dump_array(npr.standard_normal((2,5)))\n",
    "print(vsep)\n",
    "dump_array(npr.randn(2,5)) # one tuple parameter"
   ]
  },
  {
   "cell_type": "markdown",
   "metadata": {},
   "source": [
    "### Uniform Integers"
   ]
  },
  {
   "cell_type": "markdown",
   "metadata": {},
   "source": [
    "Uniform distributions of integers can also be generated:\n",
    "    \n",
    "  * `randint` excludes its upper bound\n",
    "  * `random_integers` includes its upper bound (Deprecated in NumPy 1.11.  Now add one to upper bound in `randint`.)"
   ]
  },
  {
   "cell_type": "code",
   "execution_count": null,
   "metadata": {
    "collapsed": false
   },
   "outputs": [],
   "source": [
    "print(\"Uniform ints on [0,5) - upper open:\")\n",
    "dump_array(npr.randint(0, 5, (2,5)))\n",
    "\n",
    "print(\"\\nUniform ints on [0,5] - upper closed:\")\n",
    "dump_array(npr.randint(0, 5 + 1, (2,5)))"
   ]
  },
  {
   "cell_type": "markdown",
   "metadata": {},
   "source": [
    "## Arrays From a Python List"
   ]
  },
  {
   "cell_type": "markdown",
   "metadata": {},
   "source": [
    "Note, it is also possible to create NumPy arrays from Python lists and tuples.  While this is a nice capability, remember that instantiating a Python list can take relatively long compared to directly using NumPy building blocks.  Other containers and iterables will not, generally, give useful results."
   ]
  },
  {
   "cell_type": "code",
   "execution_count": null,
   "metadata": {
    "collapsed": false
   },
   "outputs": [],
   "source": [
    "dump_array(np.array([1, 2, 3]))\n",
    "\n",
    "print()\n",
    "dump_array(np.array([10.0, 20.0, 3+0j]))"
   ]
  },
  {
   "cell_type": "markdown",
   "metadata": {},
   "source": [
    "Dimensionality is maintained within nested lists:"
   ]
  },
  {
   "cell_type": "code",
   "execution_count": null,
   "metadata": {
    "collapsed": false
   },
   "outputs": [],
   "source": [
    "dump_array(np.array([[1, 2, 3], \n",
    "                    [4, 5, 6]]))\n",
    "\n",
    "print()\n",
    "dump_array(np.array([[1.0, 2],\n",
    "                    [3, 4],\n",
    "                    [5, 6]]))"
   ]
  },
  {
   "cell_type": "markdown",
   "metadata": {},
   "source": [
    "## From row and column stacks:  `np.r_` and `np.c_`"
   ]
  },
  {
   "cell_type": "markdown",
   "metadata": {},
   "source": [
    "`np.r_` and `np.c_` are special objects, that when sliced (think `obj[some, :, indexers]`), return NumPy `array`s constructed from the contents of the slices. These tools can be used to abbreviate some array constructions."
   ]
  },
  {
   "cell_type": "code",
   "execution_count": null,
   "metadata": {
    "collapsed": false
   },
   "outputs": [],
   "source": [
    "np.c_[np.arange(8), np.arange(8)*2, np.arange(8)*3]"
   ]
  },
  {
   "cell_type": "code",
   "execution_count": null,
   "metadata": {
    "collapsed": false
   },
   "outputs": [],
   "source": [
    "np.r_[np.arange(8), np.arange(8)*2, np.arange(8)*3]"
   ]
  },
  {
   "cell_type": "markdown",
   "metadata": {},
   "source": [
    "# Array Shape and Reshaping"
   ]
  },
  {
   "cell_type": "markdown",
   "metadata": {},
   "source": [
    "We've used the following to get arrays of different shapes:"
   ]
  },
  {
   "cell_type": "code",
   "execution_count": null,
   "metadata": {
    "collapsed": false
   },
   "outputs": [],
   "source": [
    "arr = np.arange(24).reshape((3,4,2))\n",
    "print(arr.shape)"
   ]
  },
  {
   "cell_type": "markdown",
   "metadata": {},
   "source": [
    "Let's investigate shapes in a bit more detail.  When modifying shapes, `-1` can be used as a wildcard that will fill in the shape for one dimension, based on the others."
   ]
  },
  {
   "cell_type": "code",
   "execution_count": null,
   "metadata": {
    "collapsed": false
   },
   "outputs": [],
   "source": [
    "arr = np.arange(1,11)\n",
    "dump_array(arr)\n",
    "\n",
    "print(vsep)\n",
    "# shape of 5 x ? -> 5 x 2\n",
    "reshaped = arr.reshape(5, -1)\n",
    "dump_array(reshaped)"
   ]
  },
  {
   "cell_type": "code",
   "execution_count": null,
   "metadata": {
    "collapsed": false
   },
   "outputs": [],
   "source": [
    "print(arr.reshape(-1, 5))"
   ]
  },
  {
   "cell_type": "code",
   "execution_count": null,
   "metadata": {
    "collapsed": false
   },
   "outputs": [],
   "source": [
    "print(arr.reshape(2,5))"
   ]
  },
  {
   "cell_type": "markdown",
   "metadata": {},
   "source": [
    "Some other shaping utilities include:  \n",
    "\n",
    "  * `np.ravel`\n",
    "  * `np.flatten`\n",
    "  * `np.squeeze`"
   ]
  },
  {
   "cell_type": "markdown",
   "metadata": {},
   "source": [
    "`np.flatten`, like its name implies, makes a 1-D version of the array.  `np.ravel` behaves similarly, but it will try to avoid making a copy."
   ]
  },
  {
   "cell_type": "code",
   "execution_count": null,
   "metadata": {
    "collapsed": false
   },
   "outputs": [],
   "source": [
    "arr = np.arange(10).reshape(5,2)\n",
    "print(\"arr:\")\n",
    "dump_array(arr)\n",
    "\n",
    "flat = arr.flatten()\n",
    "print(\"\\nflattened (my own data? %s):\" % flat.flags.owndata)\n",
    "dump_array(flat)\n",
    "\n",
    "rav = arr.ravel()\n",
    "print(\"\\nraveled (my own data? %s)\" % rav.flags.owndata)\n",
    "dump_array(rav)"
   ]
  },
  {
   "cell_type": "markdown",
   "metadata": {},
   "source": [
    "`np.squeeze` will remove any dimensions that have length 1.  Occasionally, you might get a length 1 dimension by selection."
   ]
  },
  {
   "cell_type": "code",
   "execution_count": null,
   "metadata": {
    "collapsed": false
   },
   "outputs": [],
   "source": [
    "arr = np.arange(10).reshape(5,1,2,1)\n",
    "print(\"arr:\")\n",
    "print(arr)\n",
    "\n",
    "print(\"\\nwhittled down:\")\n",
    "print(arr.squeeze())"
   ]
  }
 ],
 "metadata": {
  "anaconda-cloud": {},
  "continuum": {
   "depends": [
    "ip_essentials",
    "ip_datatypes",
    "ip_containers",
    "ip_functions"
   ],
   "requires": [
    "img/ecosystem.lightbg.scaled-noalpha.png",
    "img/numpyzerosdims-noalpha.png"
   ],
   "tag": "np_intro"
  },
  "kernelspec": {
   "display_name": "Python [conda env:python3]",
   "language": "python",
   "name": "conda-env-python3-py"
  },
  "language_info": {
   "codemirror_mode": {
    "name": "ipython",
    "version": 3
   },
   "file_extension": ".py",
   "mimetype": "text/x-python",
   "name": "python",
   "nbconvert_exporter": "python",
   "pygments_lexer": "ipython3",
   "version": "3.5.2"
  }
 },
 "nbformat": 4,
 "nbformat_minor": 0
}
