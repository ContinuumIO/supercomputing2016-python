{
 "cells": [
  {
   "cell_type": "markdown",
   "metadata": {},
   "source": [
    "# Table of Contents\n",
    "* [Exercise: Numpy Array Creation](#Exercise:-Numpy-Array-Creation)\n"
   ]
  },
  {
   "cell_type": "markdown",
   "metadata": {},
   "source": [
    "# Exercise: Numpy Array Creation"
   ]
  },
  {
   "cell_type": "code",
   "execution_count": null,
   "metadata": {
    "collapsed": true
   },
   "outputs": [],
   "source": [
    "import numpy as np"
   ]
  },
  {
   "cell_type": "markdown",
   "metadata": {},
   "source": [
    "IPython notebooks have two special functions to measure the time it takes to perform a single line"
   ]
  },
  {
   "cell_type": "code",
   "execution_count": null,
   "metadata": {
    "collapsed": false
   },
   "outputs": [],
   "source": [
    "%timeit np.sqrt(np.pi)"
   ]
  },
  {
   "cell_type": "markdown",
   "metadata": {},
   "source": [
    "and the time it takes to perform an entire cell"
   ]
  },
  {
   "cell_type": "code",
   "execution_count": null,
   "metadata": {
    "collapsed": false
   },
   "outputs": [],
   "source": [
    "%%timeit\n",
    "import numpy as np\n",
    "for i in range(0,1000):\n",
    "    np.sqrt(np.pi)"
   ]
  },
  {
   "cell_type": "markdown",
   "metadata": {},
   "source": [
    "A numpy array behave like any other container `for item in array:`."
   ]
  },
  {
   "cell_type": "markdown",
   "metadata": {},
   "source": [
    "Unless otherwise specified, try to solve these problems using NumPy but not using raw Python.\n",
    "\n",
    "  1. Create a Python list with the ints from 1 to 10.  Create a NumPy array from that list.  \n",
    "    1. For both, add one to each element.\n",
    "    1. For both, multiply each element by two.\n",
    "  1. Create an int array of all zeros.\n",
    "  1. Create a float array of all zeros.\n",
    "  1. Create an evenly spaced grid of 100 floating point values on [-10, 10].\n",
    "  1. Create an int array with the powers of two from 1 to 1024.\n",
    "    1.  Bonus:  Can you figure out a second \"NumPy only\" way to do it? (Hint: help(function) is your friend)\n",
    "  1.  Explain what NumPy dtype would be well-suited for (and why):\n",
    "    * Temperatures\n",
    "    * Counts of occurances of an event\n",
    "    * Differences in counts\n",
    "    * Probabilities\n",
    "  1. Images can be stored as (R,G,B) value triples. Frequently, the color values (red, green, or blue) range from [0, 255]. What would be an ideal NumPy data type for one color value?\n",
    "  1. Come up with two ways to create a (2,5,3) shaped int array filled the value 42.\n",
    "  1. Generate a (5,5) array with values from a Normal distribution of mean 10 and standard deviation 1.\n",
    "    1.  Now, try to do it another way.\n",
    "  1. Define a function of *N*, that returns an array with *N* values all equal to $1/N$.\n",
    "  1. Create a Python list with the floating-point values `[1.0, 2.0, 3.0, ..., 1E6]`. See the following note on timing.\n",
    "    1. Do the same with a NumPy array.\n",
    "    1. Time how long it takes to multiply each sequence by `np.pi`."
   ]
  },
  {
   "cell_type": "code",
   "execution_count": null,
   "metadata": {
    "collapsed": false
   },
   "outputs": [],
   "source": [
    "# Solution 1: \n",
    "# Create a Python list with the ints from 1 to 10. \n",
    "# Create a NumPy array from that list.\n",
    "list1 = list(range(1,11))\n",
    "array1 = np.array(list1)\n",
    "\n",
    "print(list1, array1, sep=\"\\n\")"
   ]
  },
  {
   "cell_type": "code",
   "execution_count": null,
   "metadata": {
    "collapsed": false
   },
   "outputs": [],
   "source": [
    "# Solution 1A: \n",
    "# For both, add one to each element.\n",
    "list2 = [x+1 for x in list1]\n",
    "array2 = array1 + 1\n",
    "\n",
    "print(list2, array2, sep=\"\\n\")"
   ]
  },
  {
   "cell_type": "code",
   "execution_count": null,
   "metadata": {
    "collapsed": false
   },
   "outputs": [],
   "source": [
    "# Solution 1B: \n",
    "# For both, multiply each element by two.\n",
    "list3 = [2*x for x in list1]\n",
    "array3 = array1 * 2\n",
    "\n",
    "print(list3, array3, sep=\"\\n\")"
   ]
  },
  {
   "cell_type": "code",
   "execution_count": null,
   "metadata": {
    "collapsed": false
   },
   "outputs": [],
   "source": [
    "# Solution 2:\n",
    "# Create an int array of all zeros.\n",
    "\n",
    "array = np.zeros(10, dtype=int)\n",
    "\n",
    "print(array, len(array), array.dtype, sep=\"\\n\")"
   ]
  },
  {
   "cell_type": "code",
   "execution_count": null,
   "metadata": {
    "collapsed": false
   },
   "outputs": [],
   "source": [
    "# Solution 3:\n",
    "# Create a float array of all zeros\n",
    "\n",
    "array = np.zeros(10, dtype=float)\n",
    "\n",
    "print(array, len(array), array.dtype, sep=\"\\n\")"
   ]
  },
  {
   "cell_type": "code",
   "execution_count": null,
   "metadata": {
    "collapsed": false
   },
   "outputs": [],
   "source": [
    "# Solution 4:\n",
    "# Create an evenly spaced grid of 100 floating point values on [-10, 10].\n",
    "\n",
    "array = np.linspace(-10,+10,100)\n",
    "\n",
    "print(array, len(array), array.dtype, sep=\"\\n\")"
   ]
  },
  {
   "cell_type": "code",
   "execution_count": null,
   "metadata": {
    "collapsed": false
   },
   "outputs": [],
   "source": [
    "# Solution 5:\n",
    "# Create an int array with the powers of two from 1 to 1024.\n",
    "\n",
    "array = 2**np.linspace(0,10,11, dtype=int)\n",
    "\n",
    "print(array, len(array), array.dtype, sep=\"\\n\")"
   ]
  },
  {
   "cell_type": "code",
   "execution_count": null,
   "metadata": {
    "collapsed": false
   },
   "outputs": [],
   "source": [
    "# Solution 5 Bonus: \n",
    "# Can you figure out a second \"NumPy only\" way to do it? \n",
    "# (Hint: help(function) is your friend)\n",
    "\n",
    "array = np.logspace(0,10,num=11,base=2, dtype=int)\n",
    "\n",
    "print(array, len(array), array.dtype, sep=\"\\n\")"
   ]
  },
  {
   "cell_type": "code",
   "execution_count": null,
   "metadata": {
    "collapsed": false
   },
   "outputs": [],
   "source": [
    "# Solution 6:\n",
    "# Explain what NumPy dtype would be well-suited for (and why):\n",
    "#    * Temperatures\n",
    "#    * Counts of occurances of an event\n",
    "#    * Differences in counts\n",
    "#    * Probabilities\n",
    "\n",
    "temps  = np.array(98.6, dtype=float)\n",
    "counts = np.array(range(7), dtype=int)\n",
    "deltas = counts - 1\n",
    "probs  = np.array( np.random.random_sample() )\n",
    "\n",
    "print( temps,  temps.dtype,  sep=' ' )\n",
    "print( counts, counts.dtype, sep=' ' )\n",
    "print( deltas, deltas.dtype, sep=' ' )\n",
    "print( probs,  probs.dtype,  sep=' ' )"
   ]
  },
  {
   "cell_type": "code",
   "execution_count": null,
   "metadata": {
    "collapsed": false
   },
   "outputs": [],
   "source": [
    "# Solution 7:\n",
    "# Images can be stored as (R,G,B) value triples. \n",
    "# Frequently, the color values (red, green, or blue) range from [0, 255]. \n",
    "# What would be an ideal NumPy data type for one color value?\n",
    "\n",
    "array = 256*np.ones(2500).reshape(50, 50)\n",
    "f = np.vectorize(lambda x: np.int(x*np.random.random()))\n",
    "image = f(array)\n",
    "print(image[0], image.dtype, sep='\\n\\n')"
   ]
  },
  {
   "cell_type": "code",
   "execution_count": null,
   "metadata": {
    "collapsed": false
   },
   "outputs": [],
   "source": [
    "# Solution 7 Bonus: Plot the image\n",
    "import matplotlib.pyplot as plt\n",
    "%matplotlib inline\n",
    "plt.imshow(image, cmap=plt.cm.viridis)\n",
    "plt.colorbar()"
   ]
  },
  {
   "cell_type": "code",
   "execution_count": null,
   "metadata": {
    "collapsed": false
   },
   "outputs": [],
   "source": [
    "# Solution 8A: not the best way (see next cell)\n",
    "# Come up with two ways to create a (2,5,3) shaped\n",
    "# int array filled the value 42.\n",
    "\n",
    "array1 = np.ones((2,5,3))*42\n",
    "print(array1, array1.shape, sep='\\n\\n')"
   ]
  },
  {
   "cell_type": "code",
   "execution_count": null,
   "metadata": {
    "collapsed": false
   },
   "outputs": [],
   "source": [
    "# Solution 8B: better way\n",
    "# Come up with two ways to create a (2,5,3) shaped\n",
    "# int array filled the value 42.\n",
    "\n",
    "array2 = np.tile(42,(2,5,3))\n",
    "print(array2, array2.shape, sep='\\n\\n')"
   ]
  },
  {
   "cell_type": "code",
   "execution_count": null,
   "metadata": {
    "collapsed": false
   },
   "outputs": [],
   "source": [
    "# Solution 9A:\n",
    "# Generate a (5,5) array with \n",
    "# values from a Normal distribution \n",
    "# of mean 10 and standard deviation 1.\n",
    "\n",
    "array9A = np.random.normal(loc=10.0, scale=1.0, size=(5,5))\n",
    "print( array9A )"
   ]
  },
  {
   "cell_type": "code",
   "execution_count": null,
   "metadata": {
    "collapsed": false
   },
   "outputs": [],
   "source": [
    "# Solution 9B:\n",
    "# Now, try to do it another way.\n",
    "\n",
    "array = np.ones(25).reshape(5, 5)\n",
    "f = np.vectorize(lambda x: x*np.random.normal(loc=10.0, scale=1.0))\n",
    "array9B = f(array)\n",
    "print( array9B )"
   ]
  },
  {
   "cell_type": "code",
   "execution_count": null,
   "metadata": {
    "collapsed": false
   },
   "outputs": [],
   "source": [
    "# Solution 10:\n",
    "# Define a function of *N*, that returns an array with *N* values all equal to $1/N$.\n",
    "def one_over(N):\n",
    "    return 1./np.linspace(1,N,N)\n",
    "\n",
    "one_over(5)"
   ]
  },
  {
   "cell_type": "code",
   "execution_count": null,
   "metadata": {
    "collapsed": false
   },
   "outputs": [],
   "source": [
    "%%timeit\n",
    "# Solution 11A: timeit\n",
    "# Create a Python list with the floating-point \n",
    "# values `[1.0, 2.0, 3.0, ..., 1E6]`.\n",
    "list11A = [x for x in range(1000000)]"
   ]
  },
  {
   "cell_type": "code",
   "execution_count": null,
   "metadata": {
    "collapsed": false
   },
   "outputs": [],
   "source": [
    "%%timeit\n",
    "# Solution 11B: timeit\n",
    "# Create a NumPy array with the floating-point \n",
    "# values `[1.0, 2.0, 3.0, ..., 1E6]`.\n",
    "array11B = np.arange(1000000)"
   ]
  },
  {
   "cell_type": "code",
   "execution_count": null,
   "metadata": {
    "collapsed": true
   },
   "outputs": [],
   "source": [
    "# recreate because %%timeit weirdness\n",
    "list11A = [x for x in range(1000000)]\n",
    "array11B = np.arange(1000000)"
   ]
  },
  {
   "cell_type": "code",
   "execution_count": null,
   "metadata": {
    "collapsed": false
   },
   "outputs": [],
   "source": [
    "%%timeit\n",
    "# Solution 11C: timeit\n",
    "# Time how long it takes to multiply each sequence by `np.pi`.\n",
    "list11C = [x*np.pi for x in list11A]"
   ]
  },
  {
   "cell_type": "code",
   "execution_count": null,
   "metadata": {
    "collapsed": false
   },
   "outputs": [],
   "source": [
    "%%timeit\n",
    "# Solution 11C: timeit\n",
    "# Time how long it takes to multiply each sequence by `np.pi`.\n",
    "array11C = np.pi*array11B"
   ]
  }
 ],
 "metadata": {
  "continuum": {
   "depends": [
    "np_intro",
    "ip_essentials",
    "ip_datatypes",
    "ip_containers"
   ],
   "requires": [],
   "tag": "np_ex_intro_soln"
  },
  "kernelspec": {
   "display_name": "Python 3",
   "language": "python",
   "name": "python3"
  },
  "language_info": {
   "codemirror_mode": {
    "name": "ipython",
    "version": 3
   },
   "file_extension": ".py",
   "mimetype": "text/x-python",
   "name": "python",
   "nbconvert_exporter": "python",
   "pygments_lexer": "ipython3",
   "version": "3.4.4"
  }
 },
 "nbformat": 4,
 "nbformat_minor": 0
}
