{
 "cells": [
  {
   "cell_type": "markdown",
   "metadata": {},
   "source": [
    "# Table of Contents\n",
    "* [Exercise: Numpy Vectorized Operations](#Exercise:-Numpy-Vectorized-Operations)\n",
    "\t* [Part 1: Timeit](#Part-1:-Timeit)\n",
    "\t* [Part 2: Ufuncs and Plotting](#Part-2:-Ufuncs-and-Plotting)\n",
    "\t\t* [Part 2.1](#Part-2.1)\n",
    "\t\t* [Part 2.2](#Part-2.2)\n",
    "\t* [Part 3: All Disappear](#Part-3:-All-Disappear)\n",
    "\t* [Part 4: Wallis Formula](#Part-4:-Wallis-Formula)\n",
    "\t\t* [Part 4.1](#Part-4.1)\n",
    "\t\t* [Part 4.2](#Part-4.2)\n",
    "\t\t* [Part 4.3](#Part-4.3)\n"
   ]
  },
  {
   "cell_type": "markdown",
   "metadata": {},
   "source": [
    "# Exercise: Numpy Vectorized Operations"
   ]
  },
  {
   "cell_type": "code",
   "execution_count": null,
   "metadata": {
    "collapsed": false
   },
   "outputs": [],
   "source": [
    "import numpy as np"
   ]
  },
  {
   "cell_type": "markdown",
   "metadata": {},
   "source": [
    "## Part 1: Timeit"
   ]
  },
  {
   "cell_type": "markdown",
   "metadata": {},
   "source": [
    "Create a Python list with the floating-point values `[1.0, 2.0, 3.0, ..., 1E6]` and with Numpy. \n",
    "\n",
    "Time how long it takes to multiply each sequence by `np.pi`."
   ]
  },
  {
   "cell_type": "code",
   "execution_count": null,
   "metadata": {
    "collapsed": false
   },
   "outputs": [],
   "source": [
    "# Solution 1:\n",
    "\n",
    "list1  = [x for x in range(1000000)]\n",
    "array1 = np.arange(1000000)"
   ]
  },
  {
   "cell_type": "code",
   "execution_count": null,
   "metadata": {
    "collapsed": false
   },
   "outputs": [],
   "source": [
    "%%timeit\n",
    "list2 = [x*np.pi for x in list1]"
   ]
  },
  {
   "cell_type": "code",
   "execution_count": null,
   "metadata": {
    "collapsed": false
   },
   "outputs": [],
   "source": [
    "%%timeit\n",
    "array2 = np.pi*array1"
   ]
  },
  {
   "cell_type": "markdown",
   "metadata": {},
   "source": [
    "## Part 2: Ufuncs and Plotting"
   ]
  },
  {
   "cell_type": "code",
   "execution_count": null,
   "metadata": {
    "collapsed": true
   },
   "outputs": [],
   "source": [
    "import matplotlib.pyplot as plt\n",
    "%matplotlib inline"
   ]
  },
  {
   "cell_type": "markdown",
   "metadata": {},
   "source": [
    "Use numpy and matplotlib for the following:\n",
    "* **numpy** allows us to easily compute expressions like\n",
    ">  $y=x^2$ using vectorized expression `y = x**2` where x is a numpy array\n",
    "\n",
    "* **matplotlib** lets us graph xy-values very quickly using: \n",
    "> `plt.plot(x, y)` where `x = [x1, x2, x3, ...]`, and `y = [y1, y2, y3, ...]` \n",
    "\n",
    "* Repeated `plt.plot` commands will go to the same graph. "
   ]
  },
  {
   "cell_type": "markdown",
   "metadata": {},
   "source": [
    "### Part 2.1"
   ]
  },
  {
   "cell_type": "markdown",
   "metadata": {},
   "source": [
    "Graph the following functions on the interval [-2.0, 2.0):\n",
    "\n",
    "  *  $y=x + 1$\n",
    "  *  $y=e^x$\n",
    "  *  $y=cos(x^2) + sin(x^2)$\n",
    "  *  $y=cos(x)^2 + sin(x)^2$"
   ]
  },
  {
   "cell_type": "code",
   "execution_count": null,
   "metadata": {
    "collapsed": false
   },
   "outputs": [],
   "source": [
    "# Solution 2.1:\n",
    "x = np.arange(-2,2, 0.01)\n",
    "\n",
    "y1 = x + 1\n",
    "y2 = np.exp(x)\n",
    "y3 = np.cos(x**2) + np.sin(x**2)\n",
    "y4 = np.cos(x)**2 + np.sin(x)**2\n",
    "\n",
    "plt.plot(x,y1,\n",
    "         x,y2,\n",
    "         x,y3,\n",
    "         x,y4)"
   ]
  },
  {
   "cell_type": "markdown",
   "metadata": {},
   "source": [
    "### Part 2.2"
   ]
  },
  {
   "cell_type": "markdown",
   "metadata": {},
   "source": [
    "Graph a parametric equation over $t$ on $[0,2\\pi]$ defined by:\n",
    "    \n",
    "  * $y(t) = sin(t)$\n",
    "  * $x(t) = cos(t)$\n",
    "\n",
    "You may want to issue a matplotlib statement:  \n",
    "> `plot.axis(\"equal\")` \n",
    "\n",
    "to ensure you don't get a skewed perspective on your result."
   ]
  },
  {
   "cell_type": "code",
   "execution_count": null,
   "metadata": {
    "collapsed": false
   },
   "outputs": [],
   "source": [
    "# Solution 2.2\n",
    "t = np.linspace(-np.pi, +np.pi, 1000)\n",
    "y = np.sin(t)\n",
    "x = np.cos(t)\n",
    "plt.plot(x,y)"
   ]
  },
  {
   "cell_type": "markdown",
   "metadata": {},
   "source": [
    "## Part 3: All Disappear"
   ]
  },
  {
   "cell_type": "markdown",
   "metadata": {},
   "source": [
    "A. Suppose, *poof*, `arr.all()` (and `np.all()`) just disappeared.  Write a function `myAll` that replaces them.\n",
    "\n",
    "B. Define a function `noneTrue` that returns `True` when no element of an array is `True` and `False` otherwise."
   ]
  },
  {
   "cell_type": "code",
   "execution_count": null,
   "metadata": {
    "collapsed": false
   },
   "outputs": [],
   "source": [
    "# Reminder\n",
    "bool(1)"
   ]
  },
  {
   "cell_type": "code",
   "execution_count": null,
   "metadata": {
    "collapsed": false
   },
   "outputs": [],
   "source": [
    "# Solution 3A: all_true == not_any_false\n",
    "\n",
    "def not_any_false(x):\n",
    "    return not any(x==False)\n",
    "\n",
    "x1 = np.array([1,1])\n",
    "x2 = np.array([0,1])\n",
    "x3 = np.array([0,0])\n",
    "\n",
    "print( not_any_false(x1) )\n",
    "print( not_any_false(x2) )\n",
    "print( not_any_false(x3) )"
   ]
  },
  {
   "cell_type": "code",
   "execution_count": null,
   "metadata": {
    "collapsed": false
   },
   "outputs": [],
   "source": [
    "# Solution 3B: not_any_true\n",
    "\n",
    "def not_any_true(x):\n",
    "    return not any(x==True)\n",
    "\n",
    "x1 = np.array([1,1])\n",
    "x2 = np.array([0,1])\n",
    "x3 = np.array([0,0])\n",
    "\n",
    "print( not_any_true(x1) )\n",
    "print( not_any_true(x2) )\n",
    "print( not_any_true(x3) ) "
   ]
  },
  {
   "cell_type": "markdown",
   "metadata": {},
   "source": [
    "## Part 4: Wallis Formula"
   ]
  },
  {
   "cell_type": "markdown",
   "metadata": {},
   "source": [
    "The value of $\\pi$ can be computed with the Wallis formula, developed in 1655.\n",
    "\n",
    "$$\\pi=2\\prod_{i=1}^{\\infty}\\frac{4i^2}{4i^2-1}$$"
   ]
  },
  {
   "cell_type": "markdown",
   "metadata": {},
   "source": [
    "### Part 4.1"
   ]
  },
  {
   "cell_type": "markdown",
   "metadata": {},
   "source": [
    "Implement this method using native Python"
   ]
  },
  {
   "cell_type": "code",
   "execution_count": null,
   "metadata": {
    "collapsed": false
   },
   "outputs": [],
   "source": [
    "# Solution 4.1\n",
    "def py_wallis(n):\n",
    "    prod = 1.0\n",
    "    for i in range(1,n):\n",
    "        term1 = 4*(i**2)\n",
    "        prod = prod * term1/(term1-1)\n",
    "    return 2*prod\n",
    "\n",
    "print(py_wallis(100000))"
   ]
  },
  {
   "cell_type": "markdown",
   "metadata": {},
   "source": [
    "### Part 4.2"
   ]
  },
  {
   "cell_type": "markdown",
   "metadata": {},
   "source": [
    "Implement this method using Numpy vectorization."
   ]
  },
  {
   "cell_type": "code",
   "execution_count": null,
   "metadata": {
    "collapsed": false
   },
   "outputs": [],
   "source": [
    "# Solution 4.2\n",
    "def np_wallis(n):\n",
    "    x = np.arange(1,n)\n",
    "    y = (4*x**2)/(4*x**2 - 1)\n",
    "    z = 2.0*y.prod()\n",
    "    return z\n",
    "\n",
    "print(np_wallis(100000))"
   ]
  },
  {
   "cell_type": "markdown",
   "metadata": {},
   "source": [
    "### Part 4.3"
   ]
  },
  {
   "cell_type": "markdown",
   "metadata": {},
   "source": [
    "How much faster is the Numpy implementation?"
   ]
  },
  {
   "cell_type": "code",
   "execution_count": null,
   "metadata": {
    "collapsed": true
   },
   "outputs": [],
   "source": [
    "# Solution 4.3"
   ]
  },
  {
   "cell_type": "code",
   "execution_count": null,
   "metadata": {
    "collapsed": false
   },
   "outputs": [],
   "source": [
    "n = 1000\n",
    "%timeit pi = py_wallis(n)"
   ]
  },
  {
   "cell_type": "code",
   "execution_count": null,
   "metadata": {
    "collapsed": false
   },
   "outputs": [],
   "source": [
    "n = 1000\n",
    "%timeit pi = np_wallis(n)"
   ]
  }
 ],
 "metadata": {
  "continuum": {
   "depends": [
    "np_vectorization",
    "np_intro",
    "np_ex_vectorization",
    "ip_essentials",
    "ip_datatypes",
    "ip_containers",
    "ip_functions"
   ],
   "requires": [],
   "tag": "np_ex_vectorization_soln"
  },
  "kernelspec": {
   "display_name": "Python 2",
   "language": "python",
   "name": "python2"
  },
  "language_info": {
   "codemirror_mode": {
    "name": "ipython",
    "version": 2
   },
   "file_extension": ".py",
   "mimetype": "text/x-python",
   "name": "python",
   "nbconvert_exporter": "python",
   "pygments_lexer": "ipython2",
   "version": "2.7.11"
  }
 },
 "nbformat": 4,
 "nbformat_minor": 0
}
