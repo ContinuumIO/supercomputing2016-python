{
 "cells": [
  {
   "cell_type": "markdown",
   "metadata": {},
   "source": [
    "# Table of Contents\n",
    "* [Learning Objectives:](#Learning-Objectives:)\n",
    "* [Model Comparison](#Model-Comparison)\n",
    "\t* [Exercise](#Exercise)\n"
   ]
  },
  {
   "cell_type": "markdown",
   "metadata": {},
   "source": [
    "# Learning Objectives:"
   ]
  },
  {
   "cell_type": "markdown",
   "metadata": {},
   "source": [
    "After completion of this module, learners should be able to:\n",
    "\n",
    "* Perform model comparisons using CV scores\n",
    "\n",
    "We compare K-nearest neighbors classifiers, logistic regression, and a decision tree classifier.  Background material on these classifiers can be found at:\n",
    "* [nearest neighbors](http://scikit-learn.org/stable/modules/neighbors.html)\n",
    "* [logistic regression](http://scikit-learn.org/stable/modules/generated/sklearn.linear_model.LogisticRegression.html)\n",
    "* [decision trees](http://scikit-learn.org/stable/modules/tree.html)"
   ]
  },
  {
   "cell_type": "markdown",
   "metadata": {},
   "source": [
    "# Model Comparison"
   ]
  },
  {
   "cell_type": "code",
   "execution_count": null,
   "metadata": {
    "collapsed": true
   },
   "outputs": [],
   "source": [
    "# We saw some model comparison earlier.  Let's add a few more models\n",
    "# (http://scikit-learn.org/stable/auto_examples/plot_classifier_comparison.html)\n",
    "%matplotlib inline\n",
    "from sklearn.tree import DecisionTreeClassifier\n",
    "from sklearn import neighbors, linear_model,cross_validation, datasets\n",
    "import matplotlib.pyplot as plt"
   ]
  },
  {
   "cell_type": "code",
   "execution_count": null,
   "metadata": {
    "collapsed": true
   },
   "outputs": [],
   "source": [
    "iris = datasets.load_iris()\n",
    "examples = iris.data\n",
    "classes  = iris.target\n",
    "n_examples = len(examples)"
   ]
  },
  {
   "cell_type": "code",
   "execution_count": null,
   "metadata": {
    "collapsed": false
   },
   "outputs": [],
   "source": [
    "knn20 = neighbors.KNeighborsClassifier(n_neighbors=20)\n",
    "knn5 = neighbors.KNeighborsClassifier(n_neighbors=5)\n",
    "logreg = linear_model.LogisticRegression()\n",
    "dectree = DecisionTreeClassifier()\n",
    "\n",
    "modelsAndMarker = [(knn20, 'x', 'knn20'), (knn5, 'o', 'knn5'), \n",
    "                   (logreg, '^', 'logreg'), (dectree, '.', 'dectree')]\n",
    "\n",
    "for mod, marker, label in modelsAndMarker:\n",
    "    k_fold    = cross_validation.KFold(n_examples, n_folds=10)\n",
    "    cv_scores = cross_validation.cross_val_score(mod, examples, classes, \n",
    "                                                 cv=k_fold, \n",
    "                                                 scoring='accuracy', \n",
    "                                                 n_jobs=-1) # all CPUs    \n",
    "    plt.plot(cv_scores, marker=marker, label=label)\n",
    "    \n",
    "plt.ylim(0.5, 1.05)\n",
    "plt.legend(bbox_to_anchor=(1.05, 1), loc=2)"
   ]
  },
  {
   "cell_type": "markdown",
   "metadata": {},
   "source": [
    "## Exercise"
   ]
  },
  {
   "cell_type": "markdown",
   "metadata": {},
   "source": [
    "In the \"Model Comparison\" notebook, the k-folds are created inside the for-loop (see line 7).  What are the effects of moving that line outside (above) the loop?  Is this strictly a benefit or are there any drawbacks?  What factors might influence your answer?"
   ]
  },
  {
   "cell_type": "code",
   "execution_count": null,
   "metadata": {
    "collapsed": true
   },
   "outputs": [],
   "source": []
  }
 ],
 "metadata": {
  "anaconda-cloud": {},
  "continuum": {
   "depends": [
    "ml_kfold"
   ],
   "requires": [],
   "tag": "ml_compare"
  },
  "kernelspec": {
   "display_name": "Python [conda env:python3]",
   "language": "python",
   "name": "conda-env-python3-py"
  },
  "language_info": {
   "codemirror_mode": {
    "name": "ipython",
    "version": 3
   },
   "file_extension": ".py",
   "mimetype": "text/x-python",
   "name": "python",
   "nbconvert_exporter": "python",
   "pygments_lexer": "ipython3",
   "version": "3.5.2"
  }
 },
 "nbformat": 4,
 "nbformat_minor": 0
}
