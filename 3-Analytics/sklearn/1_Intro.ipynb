{
 "cells": [
  {
   "cell_type": "markdown",
   "metadata": {},
   "source": [
    "# Table of Contents\n",
    "* [Learning Objectives:](#Learning-Objectives:)\n",
    "* [Machine Learning with Scikit Learn](#Machine-Learning-with-Scikit-Learn)\n",
    "\t* [API and Terminology](#API-and-Terminology)\n",
    "\t\t* [Scikit Learn modules](#Scikit-Learn-modules)\n",
    "\t* [Chosing an Estimator](#Chosing-an-Estimator)\n"
   ]
  },
  {
   "cell_type": "markdown",
   "metadata": {},
   "source": [
    "# Learning Objectives:"
   ]
  },
  {
   "cell_type": "markdown",
   "metadata": {},
   "source": [
    "After completion of this module, learners should be able to:\n",
    "\n",
    "* Understand and explain estimators, models and scoring metrics\n",
    "* Import scikit-learn modules"
   ]
  },
  {
   "cell_type": "markdown",
   "metadata": {},
   "source": [
    "# Machine Learning with Scikit Learn"
   ]
  },
  {
   "cell_type": "markdown",
   "metadata": {},
   "source": [
    "`scikit-learn` is an open source Machine Learning Toolkit built on Numpy and Scipy. Methods available in `scikit-learn` can be used for supervised and unsupervised learning. Among the many features of `scikit-learn` are\n",
    "\n",
    "* classification\n",
    "* regression\n",
    "* clustering\n",
    "* support vector machines\n",
    "* random forests\n",
    "* gradient boosting\n",
    "* k-means\n",
    "* DBSCAN\n",
    "\n",
    "The [User Guide](http://scikit-learn.org/stable/user_guide.html) and [Documentation](http://scikit-learn.org/stable/documentation.html) are the best place to learn how to use the methods available in `scikit-learn` and there are several [tutorals avilable online](http://scikit-learn.org/stable/tutorial/index.html)"
   ]
  },
  {
   "cell_type": "markdown",
   "metadata": {},
   "source": [
    "This course will provide an introduction to `sklearn` with a focus on highlighting how the methods work together to understand the performance of a given model."
   ]
  },
  {
   "cell_type": "markdown",
   "metadata": {},
   "source": [
    "## API and Terminology"
   ]
  },
  {
   "cell_type": "markdown",
   "metadata": {},
   "source": [
    "While the following definitions may be the most widely accepted in the fields of Machine Learning and Statistics, they are useful to help understand the `sklearn` modules and API\n",
    "\n",
    "* **estimator**: A method used to make a prediction for supervised and unsupervised learning\n",
    "    * **classifier**: An estimator with a discrete response to input data. *Assign a label to each data point.* Classifiers implement a `fit` member function.\n",
    "    * **regressor**: An estimator with a continuous response to input data. *Predict output value of each data point.*\n",
    "    * **cluster**: Performs clustering of input data. *Discover grouping within the data set.*\n",
    "    * **transformer**: Transforms input data according to a set of requirements. *Preprocess data to have zero mean and unit variance*\n",
    "* **model**: Nearly synonymous with **estimator**. A **model** may be a more concrete instance of an **estimator**.\n",
    "* **metric**: A set of scores given to a **model** or **estimator** to indicate its accuracy. *Estimators for supervised learning implement a `score` member function.*"
   ]
  },
  {
   "cell_type": "markdown",
   "metadata": {},
   "source": [
    "### Scikit Learn modules"
   ]
  },
  {
   "cell_type": "markdown",
   "metadata": {},
   "source": [
    "Each of the following modules must be individually imported. The modules listed here include **estimators** and higher-level methods to perform operations such as cross validation, grid search and pipelining."
   ]
  },
  {
   "cell_type": "code",
   "execution_count": null,
   "metadata": {
    "collapsed": false
   },
   "outputs": [],
   "source": [
    "import sklearn\n",
    "sklearn.__all__"
   ]
  },
  {
   "cell_type": "code",
   "execution_count": null,
   "metadata": {
    "collapsed": false,
    "scrolled": true
   },
   "outputs": [],
   "source": [
    "import sklearn.cluster\n",
    "help(sklearn.cluster)"
   ]
  },
  {
   "cell_type": "markdown",
   "metadata": {},
   "source": [
    "## Chosing an Estimator"
   ]
  },
  {
   "cell_type": "markdown",
   "metadata": {},
   "source": [
    "See the [Scikit Learn Flowchart](http://scikit-learn.org/stable/tutorial/machine_learning_map/)"
   ]
  },
  {
   "cell_type": "markdown",
   "metadata": {
    "collapsed": true
   },
   "source": [
    "As shown in the flowchart, the algorithms in scikit-learn mainly fall into:\n",
    "    \n",
    "* Classification - Predicting the label or class membership of observation\n",
    "* Dimensionality reduction (Principle component analysis, independent component analysis)\n",
    "* Regression - Predicting a continuous response variable rather than class membership\n",
    "* Clustering - Unsupervised algorithms grouping similar observations"
   ]
  },
  {
   "cell_type": "markdown",
   "metadata": {},
   "source": [
    "In the scikit-learn notebooks we work algorithms from each of these groups."
   ]
  },
  {
   "cell_type": "code",
   "execution_count": null,
   "metadata": {
    "collapsed": true
   },
   "outputs": [],
   "source": []
  }
 ],
 "metadata": {
  "anaconda-cloud": {},
  "continuum": {
   "depends": [],
   "tag": "ml_intro"
  },
  "kernelspec": {
   "display_name": "Python [conda env:python3]",
   "language": "python",
   "name": "conda-env-python3-py"
  },
  "language_info": {
   "codemirror_mode": {
    "name": "ipython",
    "version": 3
   },
   "file_extension": ".py",
   "mimetype": "text/x-python",
   "name": "python",
   "nbconvert_exporter": "python",
   "pygments_lexer": "ipython3",
   "version": "3.5.2"
  }
 },
 "nbformat": 4,
 "nbformat_minor": 0
}
