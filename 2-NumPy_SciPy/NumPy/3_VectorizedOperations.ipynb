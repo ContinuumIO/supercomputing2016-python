{
 "cells": [
  {
   "cell_type": "markdown",
   "metadata": {},
   "source": [
    "# Table of Contents\n",
    "* [Learning Objectives:](#Learning-Objectives:)\n",
    "\t* [Some Simple Setup](#Some-Simple-Setup)\n",
    "* [Working with Arrays](#Working-with-Arrays)\n",
    "\t* [Elementwise vs. matrix multiplications](#Elementwise-vs.-matrix-multiplications)\n",
    "\t* [Functions and methods](#Functions-and-methods)\n",
    "* [Array Operations as Methods](#Array-Operations-as-Methods)\n",
    "\t* [Additional methods:](#Additional-methods:)\n"
   ]
  },
  {
   "cell_type": "markdown",
   "metadata": {},
   "source": [
    "# Learning Objectives:"
   ]
  },
  {
   "cell_type": "markdown",
   "metadata": {},
   "source": [
    "After completion of this module, learners should be able to:\n",
    "\n",
    "* explain & use *vectorization* to speed up array-based computation\n",
    "* apply (`numpy`) *universal functions* to vectorize array computations\n",
    "* construct simple timed experiments to compare array-based computations"
   ]
  },
  {
   "cell_type": "markdown",
   "metadata": {},
   "source": [
    "## Some Simple Setup"
   ]
  },
  {
   "cell_type": "code",
   "execution_count": null,
   "metadata": {
    "collapsed": true
   },
   "outputs": [],
   "source": [
    "%matplotlib inline\n",
    "\n",
    "import numpy as np\n",
    "import matplotlib.pyplot as plt\n",
    "import os.path as osp\n",
    "import numpy.random as npr\n",
    "vsep = \"\\n-------------------\\n\"\n",
    "\n",
    "def dump_array(arr):\n",
    "    print(\"%s array of %s:\" % (arr.shape, arr.dtype))\n",
    "    print(arr)"
   ]
  },
  {
   "cell_type": "markdown",
   "metadata": {},
   "source": [
    "# Working with Arrays"
   ]
  },
  {
   "cell_type": "markdown",
   "metadata": {},
   "source": [
    "Math is quite simple—and this is part of the reason that using NumPy arrays can significantly simplify numerical code.  The generic pattern `array OP scalar` (or `scalar OP array`), applies `OP` (with the `scalar` value) across elements of `array`."
   ]
  },
  {
   "cell_type": "markdown",
   "metadata": {},
   "source": [
    "NumPy *ufuncs* (universal functions) are functions that operate elementwise on one or more arrays.\n",
    "\n",
    "![](img/ufunc.lightbg.scaled-noalpha.png)\n",
    "\n",
    "When called, *ufuncs* dispatch to optimized C inner-loops based on the array *dtype*."
   ]
  },
  {
   "cell_type": "markdown",
   "metadata": {},
   "source": [
    "Builtin numpy ufuncs\n",
    "\n",
    "- <span style=\"color:#444488\">comparison:</span> <code> <, <=, ==, !=, >=, ></code>\n",
    "- <span style=\"color:#444488\">arithmetic:</span> <code>+, -, *, /, reciprocal, square</code>\n",
    "- <span style=\"color:#444488\">exponential:</span> <code>exp, expm1, exp2, log, log10, log1p, log2, power, sqrt</code>\n",
    "- <span style=\"color:#444488\">trig:</span> <code>sin, cos, tan, acsin, arccos, atctan, sinh, cosh, tanh, acsinh, arccosh, atctanh</code>\n",
    "- <span style=\"color:#444488\">bitwise:</span> <code>&, |, ~, ^, left_shift, right_shift</code>\n",
    "- <span style=\"color:#444488\">logical operations:</span> <code>and, logical_xor, logical_not, or</code>\n",
    "- <span style=\"color:#444488\">predicates:</span> <code>isfinite, isinf, isnan, signbit</code>\n",
    "- <span style=\"color:#444488\">other:</span> <code>abs, ceil, floor, mod, modf, round, sinc, sign, trunc</code>"
   ]
  },
  {
   "cell_type": "code",
   "execution_count": null,
   "metadata": {
    "collapsed": false
   },
   "outputs": [],
   "source": [
    "# array OP scalar applies across all elements and creates a new array\n",
    "arr = np.arange(10)\n",
    "print(\"     arr:\", arr)\n",
    "print(\" arr + 1:\", arr + 1)\n",
    "print(\" arr * 2:\", arr * 2)\n",
    "print(\"arr ** 2:\", arr ** 2)\n",
    "print(\"2 ** arr:\", 2 ** arr)\n",
    "\n",
    "# bit-wise ops (cf. np.logical_and, etc.)\n",
    "print(\" arr | 1:\", arr | 1)\n",
    "print(\" arr & 1:\", arr & 1)\n",
    "\n",
    "# NOTE:  arr += 1, etc. for in-place"
   ]
  },
  {
   "cell_type": "code",
   "execution_count": null,
   "metadata": {
    "collapsed": false
   },
   "outputs": [],
   "source": [
    "# array OP array works element-by-element and creates a new array\n",
    "arr1 = np.arange(5)\n",
    "arr2 = 2 ** arr1 # makes a new array\n",
    "\n",
    "print(arr1, \"+\", arr2, \"=\", arr1 + arr2, end=vsep)\n",
    "print(arr1, \"*\", arr2, \"=\", arr1 * arr2)"
   ]
  },
  {
   "cell_type": "markdown",
   "metadata": {},
   "source": [
    "## Elementwise vs. matrix multiplications"
   ]
  },
  {
   "cell_type": "markdown",
   "metadata": {},
   "source": [
    "NumPy arrays and matrices are related, but slightly different types."
   ]
  },
  {
   "cell_type": "code",
   "execution_count": null,
   "metadata": {
    "collapsed": false
   },
   "outputs": [],
   "source": [
    "a, b = np.arange(8).reshape(2,4), np.arange(10,18).reshape(2,4)\n",
    "print(\"a\")\n",
    "print(a)\n",
    "print(\"b\")\n",
    "print(b, end=vsep)\n",
    "print(\"Elementwise multiplication: a * b\")\n",
    "print(a * b, end=vsep)\n",
    "print(\"Dot product: np.dot(a.T, b)\")\n",
    "print(np.dot(a.T, b), end=vsep)\n",
    "print(\"Dot product as an array method: a.T.dot(b)\")\n",
    "print(a.T.dot(b), end=vsep)\n",
    "\n",
    "amat, bmat = np.matrix(a), np.matrix(b)\n",
    "print(\"amat, bmat = np.matrix(a), np.matrix(b)\")\n",
    "print('amat')\n",
    "print(amat)\n",
    "print('bmat')\n",
    "print(bmat, end=vsep)\n",
    "print(\"Dot product of matrices: amat.T * bmat\")\n",
    "print(amat.T * bmat, end=vsep)\n",
    "print(\"Dot product in Python 3.5+: a.T @ b\")\n",
    "print(\"... PEP 465: time to upgrade ...\")"
   ]
  },
  {
   "cell_type": "markdown",
   "metadata": {},
   "source": [
    "In the wondrous future, we will write:\n",
    "    \n",
    "```python\n",
    "S = (H @ β - r).T @ inv(H @ V @ H.T) @ (H @ β - r)\n",
    "```"
   ]
  },
  {
   "cell_type": "markdown",
   "metadata": {},
   "source": [
    "## Functions and methods"
   ]
  },
  {
   "cell_type": "markdown",
   "metadata": {},
   "source": [
    "A number of important mathematical operations on arrays are defined as functions in the NumPy module (not as methods on NumPy arrays).  Some operations are even available both ways.  Some of the more important mathematical routines include:  `sin, cos, tan, exp, log`.  We can use these as `np.sin`, for example.  For a complete list, see  http://docs.scipy.org/doc/numpy/reference/routines.math.html"
   ]
  },
  {
   "cell_type": "code",
   "execution_count": null,
   "metadata": {
    "collapsed": false
   },
   "outputs": [],
   "source": [
    "arr = np.arange(-np.pi, np.pi, np.pi/4)\n",
    "print(\"some multiples of pi:\")\n",
    "print(arr, end=vsep)\n",
    "\n",
    "print(\"... and their cosines:\")\n",
    "print(np.cos(arr))"
   ]
  },
  {
   "cell_type": "markdown",
   "metadata": {},
   "source": [
    "# Array Operations as Methods"
   ]
  },
  {
   "cell_type": "markdown",
   "metadata": {},
   "source": [
    "Several useful operations are definied as methods on NumPy arrays.  For a full list, see the NumPy docs: \n",
    "\n",
    "http://docs.scipy.org/doc/numpy/reference/arrays.ndarray.html#array-methods"
   ]
  },
  {
   "cell_type": "code",
   "execution_count": null,
   "metadata": {
    "collapsed": false
   },
   "outputs": [],
   "source": [
    "arr = np.random.randint(0,10, size=(10,))# arange(1,10)\n",
    "print(\"arr: \", arr, end=vsep)\n",
    "\n",
    "print(\"%18s : %s\" % (\"mean\", arr.mean()))\n",
    "print(\"%18s : %s\" % (\"variance\", arr.var()))\n",
    "print(\"%18s : %s\" % (\"std. deviation\", arr.std()))\n",
    "print(\"%18s : %s\" % (\"cumulative sum\", arr.cumsum()))\n",
    "print(\"%18s : %s\" % (\"cumulative product\", arr.cumprod()))"
   ]
  },
  {
   "cell_type": "code",
   "execution_count": null,
   "metadata": {
    "collapsed": false
   },
   "outputs": [],
   "source": [
    "# two other useful methods for defining predicates \n",
    "# based on an array are .any() and .all()\n",
    "arr = np.array([True, False, False])\n",
    "print(\"arr:\", arr)\n",
    "print(\"any true?: \", arr.any())\n",
    "print(\"Python any:\", any(arr))\n",
    "print(\"all true?: \", arr.all())\n",
    "print(\"Python all:\", all(arr))"
   ]
  },
  {
   "cell_type": "code",
   "execution_count": null,
   "metadata": {
    "collapsed": false
   },
   "outputs": [],
   "source": [
    "# With numpy arrays that have more than 1 dimension, we need to use np.all\n",
    "arr = np.arange(15).reshape(3, 5)\n",
    "np.all(arr)\n",
    "# Why? all() iterates the argument and checks if each element is truthy.\n",
    "# With a 2-d array, each iteration is a row not a single element, \n",
    "# and as we saw above, we cannot evaluate the truthiness of an \n",
    "# array (bool(some_array) fails).\n"
   ]
  },
  {
   "cell_type": "markdown",
   "metadata": {},
   "source": [
    "## Additional methods:"
   ]
  },
  {
   "cell_type": "markdown",
   "metadata": {},
   "source": [
    "* Predicates\n",
    "  * `a.any(), a.all()`\n",
    "* Reductions\n",
    "  * `a.mean(), a.argmin(), a.argmax(), a.trace(), a.cumsum(), a.cumprod()`\n",
    "* Manipulation\n",
    "  * `a.argsort(), a.transpose(), a.reshape(...), a.ravel(), a.fill(...), a.clip(...)`\n",
    "* Complex Numbers\n",
    "  * `a.real, a.imag, a.conj()`"
   ]
  }
 ],
 "metadata": {
  "anaconda-cloud": {},
  "continuum": {
   "depends": [
    "np_intro",
    "ip_essentials",
    "ip_datatypes"
   ],
   "requires": [
    "img/ufunc.lightbg.scaled-noalpha.png"
   ],
   "tag": "np_vectorization"
  },
  "kernelspec": {
   "display_name": "Python [conda env:python3]",
   "language": "python",
   "name": "conda-env-python3-py"
  },
  "language_info": {
   "codemirror_mode": {
    "name": "ipython",
    "version": 3
   },
   "file_extension": ".py",
   "mimetype": "text/x-python",
   "name": "python",
   "nbconvert_exporter": "python",
   "pygments_lexer": "ipython3",
   "version": "3.5.2"
  }
 },
 "nbformat": 4,
 "nbformat_minor": 0
}
