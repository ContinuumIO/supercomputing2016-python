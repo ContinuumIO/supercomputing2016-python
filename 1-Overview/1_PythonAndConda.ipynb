{
 "cells": [
  {
   "cell_type": "markdown",
   "metadata": {},
   "source": [
    "# Table of Contents\n",
    "* [Learning Objectives:](#Learning-Objectives:)\n",
    "* [Conventions](#Conventions)\n",
    "* [Setting up your environment](#Setting-up-your-environment)\n",
    "\t* [Working with `conda`](#Working-with-conda)\n",
    "\t\t* [Upgrade Anaconda](#Upgrade-Anaconda)\n",
    "\t\t* [Creating environments](#Creating-environments)\n",
    "\t\t* [Environment files](#Environment-files)\n",
    "\t* [Additional Modules](#Additional-Modules)\n",
    "* [Finding Packages](#Finding-Packages)\n",
    "* [PyData Stack](#PyData-Stack)\n",
    "* [Python 3](#Python-3)\n",
    "* [The Python Interpreter](#The-Python-Interpreter)\n",
    "\t* [Jupyter Notebooks](#Jupyter-Notebooks)\n"
   ]
  },
  {
   "cell_type": "markdown",
   "metadata": {},
   "source": [
    "# Learning Objectives:"
   ]
  },
  {
   "cell_type": "markdown",
   "metadata": {},
   "source": [
    "After completion of this module, learners should be able to:\n",
    "\n",
    "* use `conda` to manage Python environments & packages on their computer\n",
    "* distinguish & use distinct ways of executing Python code (e.g., command-line scripts, interactive shell, IDE, notebook)"
   ]
  },
  {
   "cell_type": "markdown",
   "metadata": {},
   "source": [
    "# Setting up your environment"
   ]
  },
  {
   "cell_type": "markdown",
   "metadata": {},
   "source": [
    "For this course we highly recommend installing the free [Anaconda](http://continuum.io/anaconda) Python distribution. Anaconda has [serveral hundred packages](http://docs.continuum.io/anaconda/pkg-docs) regularly used in science, math, engineering and data analysis applications. Installed packages and environments can be maintained using the open source `conda` binary package manager."
   ]
  },
  {
   "cell_type": "markdown",
   "metadata": {},
   "source": [
    "Once Anaconda has been installed the following tutorial on `conda` can be performed in a command line terminal. Use `Terminal` or [iTerm](https://www.iterm2.com/) on Mac OS X. In Windows use the `cmd` prompt or the `Anaconda Prompt`. Note, while Windows PowerShell may work is not officially supported."
   ]
  },
  {
   "cell_type": "markdown",
   "metadata": {},
   "source": [
    "In the terminal the Python version carries with it the Anaconda version."
   ]
  },
  {
   "cell_type": "markdown",
   "metadata": {},
   "source": [
    "<img src='img/python-version.png'>"
   ]
  },
  {
   "cell_type": "markdown",
   "metadata": {},
   "source": [
    "## Working with `conda`"
   ]
  },
  {
   "cell_type": "markdown",
   "metadata": {},
   "source": [
    "`conda` is a package and environment manager that permits experimentation with codes dependent on various versions of libraries. It contributes significantly to solving the problem of reproducibility in computational science. `conda` runs on Linux, Mac OS, and Windows and is even programming language-agnostic so it can be used with projects using numerous programming languages.\n",
    "\n",
    "For a more examples of what `conda` can do for you, please consult\n",
    "+ Christine Doig's post [Conda for Data Science](http://continuum.io/blog/conda-data-science).\n",
    "+ the [`conda` documentation](http://conda.pydata.org/docs/index.html)"
   ]
  },
  {
   "cell_type": "markdown",
   "metadata": {},
   "source": [
    "When your terminal starts you will be in the `root` conda environment. The command `conda env list` (or `conda info -e`) shows the names of the available environments."
   ]
  },
  {
   "cell_type": "markdown",
   "metadata": {},
   "source": [
    "```bash\n",
    "% conda env list\n",
    "# conda environments:\n",
    "#\n",
    "root                  *  /Users/albert/Applications/anaconda3\n",
    "\n",
    "```"
   ]
  },
  {
   "cell_type": "markdown",
   "metadata": {},
   "source": [
    "The command `conda list` will show the packages and versions installed in the active environment. There are about 150 packages installed by default and their versions are were determined on the date of the Anaconda release."
   ]
  },
  {
   "cell_type": "markdown",
   "metadata": {},
   "source": [
    "```bash\n",
    "% conda list\n",
    "# packages in environment at /Users/albert/Applications/anaconda3:\n",
    "#\n",
    "You are using pip version 7.0.3, however version 7.1.2 is available.\n",
    "You should consider upgrading via the 'pip install --upgrade pip' command.\n",
    "_license                  1.1                      py34_0  \n",
    "abstract-rendering        0.5.1                np19py34_0  \n",
    "alabaster                 0.7.3                    py34_0  \n",
    "anaconda                  2.3.0                np19py34_0  \n",
    "appscript                 1.0.1                    py34_0  \n",
    "argcomplete               0.8.9                    py34_0  \n",
    "astropy                   1.0.3                np19py34_0  \n",
    "babel                     1.3                      py34_0  \n",
    "...\n",
    "xlsxwriter                0.7.3                    py34_0  \n",
    "xlwings                   0.3.5                    py34_0  \n",
    "xlwt                      1.0.0                    py34_0  \n",
    "xz                        5.0.5                         0  \n",
    "yaml                      0.1.6                         0  \n",
    "zeromq                    4.0.5                         0  \n",
    "zlib                      1.2.8                         0 \n",
    "```"
   ]
  },
  {
   "cell_type": "markdown",
   "metadata": {},
   "source": [
    "Individual Python packages can be installed or upgraded by running `conda install <package-name>`."
   ]
  },
  {
   "cell_type": "markdown",
   "metadata": {},
   "source": [
    "### Upgrade Anaconda"
   ]
  },
  {
   "cell_type": "markdown",
   "metadata": {},
   "source": [
    "`conda` can be used to upgrade the Anaconda distribution. New package versions will be downloaded and installed into the root environment, but the minor python version will not be upgraded. Updating Anaconda will not upgrade from Python 2.7 to Python 3 or from Python 3.4 to Python 3.5. While there are ways of upgrading Python in the `root` enviornment, the best option may be to create a separate `conda` environment.\n",
    "\n",
    "```\n",
    "% conda update conda\n",
    "% conda update anaconda\n",
    "```"
   ]
  },
  {
   "cell_type": "markdown",
   "metadata": {},
   "source": [
    "### Creating environments"
   ]
  },
  {
   "cell_type": "markdown",
   "metadata": {},
   "source": [
    "This course has been verified to work with Python 3.4+.  You can create a `conda` environment in the terminal and specify particular versions of packages:\n",
    "```bash\n",
    "% conda create -n coursework python=3.5 jupyter\n",
    "```"
   ]
  },
  {
   "cell_type": "markdown",
   "metadata": {},
   "source": [
    "The preceding command will download any required libraries or binaries. In this case, requesting Python 3.4 with the `jupyter` package will also install `ipython` and several other packages that are required to run the Jupyter Noteboook server. These packages are downloaded to a directory called `envs/coursework` in your Anaconda install path and will only be available to the `coursework` conda environment."
   ]
  },
  {
   "cell_type": "markdown",
   "metadata": {},
   "source": [
    "To use this new environment, you would type"
   ]
  },
  {
   "cell_type": "markdown",
   "metadata": {},
   "source": [
    "**Linux and Mac OS X**\n",
    "```bash\n",
    "% source activate coursework\n",
    "(coursework)% # The prompt changed to reflect new environment has loaded\n",
    "```"
   ]
  },
  {
   "cell_type": "markdown",
   "metadata": {},
   "source": [
    "**Windows**\n",
    "```\n",
    "C:\\Users\\albert> activate coursework\n",
    "Activating environemnt \"C:\\Anaconda3\\envs\\coursework\"...\n",
    "\n",
    "[coursework] C:\\Users\\albert>\n",
    "```"
   ]
  },
  {
   "cell_type": "markdown",
   "metadata": {},
   "source": [
    "at the command prompt. Now you would have access to all the dependencies required for your project (and the shell prompt would inform you of the new environment). To deactivate this new environment and return to your previous default environment, you would type"
   ]
  },
  {
   "cell_type": "markdown",
   "metadata": {},
   "source": [
    "**Linux and Mac OS X**\n",
    "```bash\n",
    "(coursework)% source deactivate\n",
    "%  # The prompt returned to normal after environment is shut down.\n",
    "```"
   ]
  },
  {
   "cell_type": "markdown",
   "metadata": {},
   "source": [
    "**Windows**\n",
    "```\n",
    "[coursework] C:\\Users/albert> deactivate\n",
    "Dectivating environemnt \"C:\\Anaconda3\\envs\\coursework\"...\n",
    "\n",
    "C:\\Users\\albert>\n",
    "```"
   ]
  },
  {
   "cell_type": "markdown",
   "metadata": {},
   "source": [
    "Other useful `conda` commands include `conda info`, `conda search`, `conda list`, and so on."
   ]
  },
  {
   "cell_type": "markdown",
   "metadata": {},
   "source": [
    "### Environment files"
   ]
  },
  {
   "cell_type": "markdown",
   "metadata": {},
   "source": [
    "It is possible to create a `conda` environment specified in a `yaml` file, which is useful for sharing work with others. Files can be shared over email, GitHub, etc.\n",
    "\n",
    "The file below named `environment.yml` specifies a `conda` environment called `pandas-tutorial-2`."
   ]
  },
  {
   "cell_type": "markdown",
   "metadata": {},
   "source": [
    "```bash\n",
    "$ cat environment.yml\n",
    "name: pandas-tutorial-2\n",
    "dependencies:\n",
    "  - python=3.4\n",
    "  - pandas\n",
    "  - bokeh\n",
    "  - blaze\n",
    "  - jupyter\n",
    "  - numpy\n",
    "```"
   ]
  },
  {
   "cell_type": "markdown",
   "metadata": {},
   "source": [
    "To to create the environment from the `environment.yml` file in the working directory run."
   ]
  },
  {
   "cell_type": "markdown",
   "metadata": {},
   "source": [
    "```bash\n",
    "% conda env create \n",
    "```"
   ]
  },
  {
   "cell_type": "markdown",
   "metadata": {},
   "source": [
    "The current `conda` environment can be exported to a yaml file and shared."
   ]
  },
  {
   "cell_type": "markdown",
   "metadata": {},
   "source": [
    "```bash\n",
    "% conda env export > freeze.yml\n",
    "```"
   ]
  },
  {
   "cell_type": "markdown",
   "metadata": {},
   "source": [
    "A specific yaml file can be used to create an environment by using the `-f` flag."
   ]
  },
  {
   "cell_type": "markdown",
   "metadata": {},
   "source": [
    "```bash\n",
    "% conda env create -f freeze.yml\n",
    "```"
   ]
  },
  {
   "cell_type": "markdown",
   "metadata": {},
   "source": [
    "## Additional Modules"
   ]
  },
  {
   "cell_type": "markdown",
   "metadata": {},
   "source": [
    "During the various modules of this course, we may use some of the following packages that might be worth installing now, in advance:\n",
    "\n",
    "```\n",
    "% conda install -y numpy\n",
    "% conda install -y pandas\n",
    "% conda install -y matplotlib\n",
    "% conda install -y bokeh\n",
    "% conda install -y scipy\n",
    "% conda install -y scikit-learn\n",
    "% conda install -y xlrd\n",
    "```"
   ]
  },
  {
   "cell_type": "markdown",
   "metadata": {},
   "source": [
    "Many of the [PyPI](https://pypi.python.org/pypi) packages available using `pip` are not directly available from `conda`. Packages installed using `pip` will only be installed in the current environment.\n",
    "\n",
    "We'll need one for this course."
   ]
  },
  {
   "cell_type": "markdown",
   "metadata": {},
   "source": [
    "```\n",
    "% pip install memory_profiler\n",
    "```"
   ]
  },
  {
   "cell_type": "markdown",
   "metadata": {},
   "source": [
    "# Finding Packages"
   ]
  },
  {
   "cell_type": "markdown",
   "metadata": {},
   "source": [
    "One of the great things about python is the wide variety and large number of high quality packages that are available in the eco-system. A great way to solve a problem is to find a suitable package that brings you most of the way, then building some custom code using that package.\n",
    "\n",
    "As mentioned above, [PyPI](https://pypi.python.org/pypi) is a great resource. You can also search for ``conda`` packages with: ``conda search <package_name>``\n",
    "\n",
    "Here are some mailing lists that provide updates on the ecosystem:\n",
    "\n",
    "- [Python Announce ML](https://mail.python.org/mailman/listinfo/python-announce-list)\n",
    "- [Python Weekly ML](http://www.pythonweekly.com/)\n",
    "\n",
    "Further, they are some really great scientific python conferences:\n",
    "\n",
    "- [SciPy](http://conference.scipy.org/)\n",
    "- [PyData](http://pydata.org/)"
   ]
  },
  {
   "cell_type": "markdown",
   "metadata": {},
   "source": [
    "# PyData Stack"
   ]
  },
  {
   "cell_type": "markdown",
   "metadata": {},
   "source": [
    "<img src=\"img/PyData_Stack.png\">"
   ]
  },
  {
   "cell_type": "markdown",
   "metadata": {},
   "source": [
    "# Python 3"
   ]
  },
  {
   "cell_type": "markdown",
   "metadata": {},
   "source": [
    "This tutorial (and Python in general) runs more smoothly under versions of Python 3. There is still legacy Python 2 code in the wild and you may well encounter it, but we will use Python 3 in this tutorial. To execute a cell while advancing the cursor to the next cell beyond, press  &lt;`Shift`&gt;&lt;`Enter`&gt; while the cursor is active in the cell. To execute the cell *without* advancing to the next cell, press &lt;`Control`&gt;&lt;`Enter`&gt; instead.\n",
    "\n",
    "Whether you're running on Python 2 or Python 3, please install the [Python-Future](http://python-future.org/futurize.html) module in your environment:\n",
    "```\n",
    "% conda install -y future\n",
    "```"
   ]
  },
  {
   "cell_type": "markdown",
   "metadata": {},
   "source": [
    "# The Python Interpreter"
   ]
  },
  {
   "cell_type": "markdown",
   "metadata": {},
   "source": [
    "The Python language is designed to be explicit, simple, and readable. Python code is usually run through an *interpreter* that reads and executes the code's intent in a single pass. Traditionally, programs are run through a *compiler* to generate an *executable* file (or *object code*); in practice, what that means is an extra step between writing code and running/executing it. Programming languages that run through interpreters are favored by many because they encourage an experimental approach to programming that is more difficult to achieve with compiler-based workflows.\n",
    "\n",
    "There are many great tools one can use to experiment with Python:\n",
    "* [IPython](http://ipython.org), the interactive Python environment (*included with Anaconda*)\n",
    "    * command line: ``ipython``\n",
    "    * QT Console: ``ipython qtconsole``\n",
    "* [Spyder](https://code.google.com/p/spyderlib/), a Python IDE (*included with Anaconda*)\n",
    "* [Sublime Text](http://www.sublimetext.com/), a cross-platform programmer's text editor\n",
    "* [PyCharm](https://www.jetbrains.com/pycharm/), another Python IDE (free community edition)\n",
    "* [PyDev](http://pydev.org/), a plugin for Python development in the Eclipse IDE"
   ]
  },
  {
   "cell_type": "markdown",
   "metadata": {},
   "source": [
    "## Jupyter Notebooks"
   ]
  },
  {
   "cell_type": "markdown",
   "metadata": {},
   "source": [
    "For this course, we are going to work with Python in a [Jupyter notebook](https://jupyter.org/) (formerly called an IPython notebook). Jupyter is a web application that allows documents to be created and shared that contain code, equations and visualizations. Notebooks can be created in languages popular in Data Science such as Python, R, Julia and Scala and many others."
   ]
  },
  {
   "cell_type": "markdown",
   "metadata": {},
   "source": [
    "To start your notebook session\n",
    "\n",
    "1. launch your terminal\n",
    "2. activate your conda environment\n",
    "3. `cd` to the directory where the course was extracted\n",
    "4. Run `jupyter notebook`"
   ]
  },
  {
   "cell_type": "markdown",
   "metadata": {},
   "source": [
    "Let's experiment in the next few cells. Remember, to execute a cell while advancing the cursor to the next cell beyond, press ``<Shift><Enter>`` while the cursor is active in the cell. To execute the cell *without* advancing to the next cell, press ``<Control><Enter>`` instead."
   ]
  },
  {
   "cell_type": "code",
   "execution_count": null,
   "metadata": {
    "collapsed": false
   },
   "outputs": [],
   "source": [
    "# This command, well, prints \"Hello, world!\" as is commonly done to learn programming.\n",
    "print(\"Hello, world!\")"
   ]
  },
  {
   "cell_type": "code",
   "execution_count": null,
   "metadata": {
    "collapsed": false
   },
   "outputs": [],
   "source": [
    "print(\"Goodbye\")"
   ]
  },
  {
   "cell_type": "code",
   "execution_count": null,
   "metadata": {
    "collapsed": false
   },
   "outputs": [],
   "source": [
    "import this  # This command loads a module that prints the Zen of Python."
   ]
  },
  {
   "cell_type": "code",
   "execution_count": null,
   "metadata": {
    "collapsed": true
   },
   "outputs": [],
   "source": [
    "import antigravity # This command opens a new browser page or tab with an xkcd comic."
   ]
  },
  {
   "cell_type": "code",
   "execution_count": null,
   "metadata": {
    "collapsed": true
   },
   "outputs": [],
   "source": [
    "# This command loads the \"sys\" module into the Python session\n",
    "import sys"
   ]
  },
  {
   "cell_type": "code",
   "execution_count": null,
   "metadata": {
    "collapsed": false
   },
   "outputs": [],
   "source": [
    "# This command prints the string \"version\" that from the \"sys\" module (an attribute)\n",
    "print(sys.version) "
   ]
  },
  {
   "cell_type": "markdown",
   "metadata": {},
   "source": [
    "The last cell above shows you what version number of Python you are currently running. The version number has the form\n",
    "``MAJOR.MINOR.MICRO``, e.g. ``1.5.2`` means *major* version 1, *minor* version 5, and *micro* version 2. The meanings of these revision levels are as follows:\n",
    "* Major version: Significant change to language structure (grammar and reserved words) and implementation.\n",
    "* Minor version: Attempts to be forward- and backward-compatible, but introduces new *Standard Library* modules or updates to existing modules.\n",
    "    * forward-/backward-compatibility is not guaranteed\n",
    "    * at least 2 minor versions advance notice is given of language changes\n",
    "* Micro version: only bug fixes-no language or API changes\n",
    "\n",
    "We can use a few more commands to extract more information about the ``sys`` module just loaded into the Python session."
   ]
  },
  {
   "cell_type": "code",
   "execution_count": null,
   "metadata": {
    "collapsed": false,
    "scrolled": true
   },
   "outputs": [],
   "source": [
    "help(sys)"
   ]
  },
  {
   "cell_type": "code",
   "execution_count": null,
   "metadata": {
    "collapsed": false
   },
   "outputs": [],
   "source": [
    "print(sys.flags)\n",
    "print(sys.version_info)"
   ]
  },
  {
   "cell_type": "code",
   "execution_count": null,
   "metadata": {
    "collapsed": false
   },
   "outputs": [],
   "source": [
    "sys.version_info.major"
   ]
  }
 ],
 "metadata": {
  "anaconda-cloud": {},
  "continuum": {
   "depends": [],
   "requires": [
    "img/python-version.png",
    "img/PyData_Stack.png",
    "img/topics/Best-Practice.png",
    "img/topics/Advanced-Concept.png",
    "img/topics/Essential-Concept.png"
   ],
   "tag": "ip_conda"
  },
  "kernelspec": {
   "display_name": "Python [conda env:python3]",
   "language": "python",
   "name": "conda-env-python3-py"
  },
  "language_info": {
   "codemirror_mode": {
    "name": "ipython",
    "version": 3
   },
   "file_extension": ".py",
   "mimetype": "text/x-python",
   "name": "python",
   "nbconvert_exporter": "python",
   "pygments_lexer": "ipython3",
   "version": "3.5.2"
  }
 },
 "nbformat": 4,
 "nbformat_minor": 0
}
